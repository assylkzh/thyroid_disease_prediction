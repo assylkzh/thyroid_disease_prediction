{
 "cells": [
  {
   "cell_type": "markdown",
   "metadata": {},
   "source": [
    "# Importing Libraries"
   ]
  },
  {
   "cell_type": "code",
   "execution_count": 2,
   "metadata": {
    "ExecuteTime": {
     "end_time": "2025-05-04T10:04:55.919404Z",
     "start_time": "2025-05-04T10:04:55.608535Z"
    }
   },
   "outputs": [],
   "source": [
    "import os\n",
    "import pandas as pd\n",
    "import numpy as np\n",
    "import matplotlib.pyplot as plt\n",
    "import seaborn as sns\n",
    "import plotly.express as px\n",
    "from pandas.core.interchange.dataframe_protocol import DataFrame\n",
    "from sklearn.model_selection import train_test_split\n",
    "from sklearn.preprocessing import LabelEncoder, StandardScaler\n",
    "from sklearn.metrics import *\n",
    "from sklearn.preprocessing import label_binarize\n",
    "from sklearn.impute import SimpleImputer\n",
    "from sklearn.model_selection import train_test_split\n"
   ]
  },
  {
   "cell_type": "markdown",
   "metadata": {},
   "source": [
    "# Importing the dataset as DataFrame and Data exploration "
   ]
  },
  {
   "cell_type": "code",
   "execution_count": 4,
   "metadata": {
    "ExecuteTime": {
     "end_time": "2025-05-04T10:04:55.964196Z",
     "start_time": "2025-05-04T10:04:55.940726Z"
    },
    "_cell_guid": "b1076dfc-b9ad-4769-8c92-a6c4dae69d19",
    "_uuid": "8f2839f25d086af736a60e9eeb907d3b93b6e0e5"
   },
   "outputs": [],
   "source": [
    "df = pd.read_csv(\"thyroidDF.csv\")"
   ]
  },
  {
   "cell_type": "code",
   "execution_count": 5,
   "metadata": {
    "ExecuteTime": {
     "end_time": "2025-05-04T10:04:56.033697Z",
     "start_time": "2025-05-04T10:04:56.019644Z"
    }
   },
   "outputs": [
    {
     "data": {
      "text/html": [
       "<div>\n",
       "<style scoped>\n",
       "    .dataframe tbody tr th:only-of-type {\n",
       "        vertical-align: middle;\n",
       "    }\n",
       "\n",
       "    .dataframe tbody tr th {\n",
       "        vertical-align: top;\n",
       "    }\n",
       "\n",
       "    .dataframe thead th {\n",
       "        text-align: right;\n",
       "    }\n",
       "</style>\n",
       "<table border=\"1\" class=\"dataframe\">\n",
       "  <thead>\n",
       "    <tr style=\"text-align: right;\">\n",
       "      <th></th>\n",
       "      <th>age</th>\n",
       "      <th>sex</th>\n",
       "      <th>on_thyroxine</th>\n",
       "      <th>query_on_thyroxine</th>\n",
       "      <th>on_antithyroid_meds</th>\n",
       "      <th>sick</th>\n",
       "      <th>pregnant</th>\n",
       "      <th>thyroid_surgery</th>\n",
       "      <th>I131_treatment</th>\n",
       "      <th>query_hypothyroid</th>\n",
       "      <th>...</th>\n",
       "      <th>TT4</th>\n",
       "      <th>T4U_measured</th>\n",
       "      <th>T4U</th>\n",
       "      <th>FTI_measured</th>\n",
       "      <th>FTI</th>\n",
       "      <th>TBG_measured</th>\n",
       "      <th>TBG</th>\n",
       "      <th>referral_source</th>\n",
       "      <th>target</th>\n",
       "      <th>patient_id</th>\n",
       "    </tr>\n",
       "  </thead>\n",
       "  <tbody>\n",
       "    <tr>\n",
       "      <th>0</th>\n",
       "      <td>29</td>\n",
       "      <td>F</td>\n",
       "      <td>f</td>\n",
       "      <td>f</td>\n",
       "      <td>f</td>\n",
       "      <td>f</td>\n",
       "      <td>f</td>\n",
       "      <td>f</td>\n",
       "      <td>f</td>\n",
       "      <td>t</td>\n",
       "      <td>...</td>\n",
       "      <td>NaN</td>\n",
       "      <td>f</td>\n",
       "      <td>NaN</td>\n",
       "      <td>f</td>\n",
       "      <td>NaN</td>\n",
       "      <td>f</td>\n",
       "      <td>NaN</td>\n",
       "      <td>other</td>\n",
       "      <td>-</td>\n",
       "      <td>840801013</td>\n",
       "    </tr>\n",
       "    <tr>\n",
       "      <th>1</th>\n",
       "      <td>29</td>\n",
       "      <td>F</td>\n",
       "      <td>f</td>\n",
       "      <td>f</td>\n",
       "      <td>f</td>\n",
       "      <td>f</td>\n",
       "      <td>f</td>\n",
       "      <td>f</td>\n",
       "      <td>f</td>\n",
       "      <td>f</td>\n",
       "      <td>...</td>\n",
       "      <td>128.0</td>\n",
       "      <td>f</td>\n",
       "      <td>NaN</td>\n",
       "      <td>f</td>\n",
       "      <td>NaN</td>\n",
       "      <td>f</td>\n",
       "      <td>NaN</td>\n",
       "      <td>other</td>\n",
       "      <td>-</td>\n",
       "      <td>840801014</td>\n",
       "    </tr>\n",
       "    <tr>\n",
       "      <th>2</th>\n",
       "      <td>41</td>\n",
       "      <td>F</td>\n",
       "      <td>f</td>\n",
       "      <td>f</td>\n",
       "      <td>f</td>\n",
       "      <td>f</td>\n",
       "      <td>f</td>\n",
       "      <td>f</td>\n",
       "      <td>f</td>\n",
       "      <td>f</td>\n",
       "      <td>...</td>\n",
       "      <td>NaN</td>\n",
       "      <td>f</td>\n",
       "      <td>NaN</td>\n",
       "      <td>f</td>\n",
       "      <td>NaN</td>\n",
       "      <td>t</td>\n",
       "      <td>11.0</td>\n",
       "      <td>other</td>\n",
       "      <td>-</td>\n",
       "      <td>840801042</td>\n",
       "    </tr>\n",
       "    <tr>\n",
       "      <th>3</th>\n",
       "      <td>36</td>\n",
       "      <td>F</td>\n",
       "      <td>f</td>\n",
       "      <td>f</td>\n",
       "      <td>f</td>\n",
       "      <td>f</td>\n",
       "      <td>f</td>\n",
       "      <td>f</td>\n",
       "      <td>f</td>\n",
       "      <td>f</td>\n",
       "      <td>...</td>\n",
       "      <td>NaN</td>\n",
       "      <td>f</td>\n",
       "      <td>NaN</td>\n",
       "      <td>f</td>\n",
       "      <td>NaN</td>\n",
       "      <td>t</td>\n",
       "      <td>26.0</td>\n",
       "      <td>other</td>\n",
       "      <td>-</td>\n",
       "      <td>840803046</td>\n",
       "    </tr>\n",
       "    <tr>\n",
       "      <th>4</th>\n",
       "      <td>32</td>\n",
       "      <td>F</td>\n",
       "      <td>f</td>\n",
       "      <td>f</td>\n",
       "      <td>f</td>\n",
       "      <td>f</td>\n",
       "      <td>f</td>\n",
       "      <td>f</td>\n",
       "      <td>f</td>\n",
       "      <td>f</td>\n",
       "      <td>...</td>\n",
       "      <td>NaN</td>\n",
       "      <td>f</td>\n",
       "      <td>NaN</td>\n",
       "      <td>f</td>\n",
       "      <td>NaN</td>\n",
       "      <td>t</td>\n",
       "      <td>36.0</td>\n",
       "      <td>other</td>\n",
       "      <td>S</td>\n",
       "      <td>840803047</td>\n",
       "    </tr>\n",
       "    <tr>\n",
       "      <th>5</th>\n",
       "      <td>60</td>\n",
       "      <td>F</td>\n",
       "      <td>f</td>\n",
       "      <td>f</td>\n",
       "      <td>f</td>\n",
       "      <td>f</td>\n",
       "      <td>f</td>\n",
       "      <td>f</td>\n",
       "      <td>f</td>\n",
       "      <td>f</td>\n",
       "      <td>...</td>\n",
       "      <td>NaN</td>\n",
       "      <td>f</td>\n",
       "      <td>NaN</td>\n",
       "      <td>f</td>\n",
       "      <td>NaN</td>\n",
       "      <td>t</td>\n",
       "      <td>26.0</td>\n",
       "      <td>other</td>\n",
       "      <td>-</td>\n",
       "      <td>840803048</td>\n",
       "    </tr>\n",
       "    <tr>\n",
       "      <th>6</th>\n",
       "      <td>77</td>\n",
       "      <td>F</td>\n",
       "      <td>f</td>\n",
       "      <td>f</td>\n",
       "      <td>f</td>\n",
       "      <td>f</td>\n",
       "      <td>f</td>\n",
       "      <td>f</td>\n",
       "      <td>f</td>\n",
       "      <td>f</td>\n",
       "      <td>...</td>\n",
       "      <td>NaN</td>\n",
       "      <td>f</td>\n",
       "      <td>NaN</td>\n",
       "      <td>f</td>\n",
       "      <td>NaN</td>\n",
       "      <td>t</td>\n",
       "      <td>21.0</td>\n",
       "      <td>other</td>\n",
       "      <td>-</td>\n",
       "      <td>840803068</td>\n",
       "    </tr>\n",
       "    <tr>\n",
       "      <th>7</th>\n",
       "      <td>28</td>\n",
       "      <td>F</td>\n",
       "      <td>f</td>\n",
       "      <td>f</td>\n",
       "      <td>f</td>\n",
       "      <td>f</td>\n",
       "      <td>f</td>\n",
       "      <td>f</td>\n",
       "      <td>f</td>\n",
       "      <td>f</td>\n",
       "      <td>...</td>\n",
       "      <td>116.0</td>\n",
       "      <td>f</td>\n",
       "      <td>NaN</td>\n",
       "      <td>f</td>\n",
       "      <td>NaN</td>\n",
       "      <td>f</td>\n",
       "      <td>NaN</td>\n",
       "      <td>SVI</td>\n",
       "      <td>-</td>\n",
       "      <td>840807019</td>\n",
       "    </tr>\n",
       "    <tr>\n",
       "      <th>8</th>\n",
       "      <td>28</td>\n",
       "      <td>F</td>\n",
       "      <td>f</td>\n",
       "      <td>f</td>\n",
       "      <td>f</td>\n",
       "      <td>f</td>\n",
       "      <td>f</td>\n",
       "      <td>f</td>\n",
       "      <td>f</td>\n",
       "      <td>f</td>\n",
       "      <td>...</td>\n",
       "      <td>76.0</td>\n",
       "      <td>f</td>\n",
       "      <td>NaN</td>\n",
       "      <td>f</td>\n",
       "      <td>NaN</td>\n",
       "      <td>f</td>\n",
       "      <td>NaN</td>\n",
       "      <td>other</td>\n",
       "      <td>-</td>\n",
       "      <td>840808060</td>\n",
       "    </tr>\n",
       "    <tr>\n",
       "      <th>9</th>\n",
       "      <td>28</td>\n",
       "      <td>F</td>\n",
       "      <td>f</td>\n",
       "      <td>f</td>\n",
       "      <td>f</td>\n",
       "      <td>f</td>\n",
       "      <td>f</td>\n",
       "      <td>f</td>\n",
       "      <td>f</td>\n",
       "      <td>f</td>\n",
       "      <td>...</td>\n",
       "      <td>83.0</td>\n",
       "      <td>f</td>\n",
       "      <td>NaN</td>\n",
       "      <td>f</td>\n",
       "      <td>NaN</td>\n",
       "      <td>f</td>\n",
       "      <td>NaN</td>\n",
       "      <td>other</td>\n",
       "      <td>-</td>\n",
       "      <td>840808073</td>\n",
       "    </tr>\n",
       "  </tbody>\n",
       "</table>\n",
       "<p>10 rows × 31 columns</p>\n",
       "</div>"
      ],
      "text/plain": [
       "   age sex on_thyroxine query_on_thyroxine on_antithyroid_meds sick pregnant  \\\n",
       "0   29   F            f                  f                   f    f        f   \n",
       "1   29   F            f                  f                   f    f        f   \n",
       "2   41   F            f                  f                   f    f        f   \n",
       "3   36   F            f                  f                   f    f        f   \n",
       "4   32   F            f                  f                   f    f        f   \n",
       "5   60   F            f                  f                   f    f        f   \n",
       "6   77   F            f                  f                   f    f        f   \n",
       "7   28   F            f                  f                   f    f        f   \n",
       "8   28   F            f                  f                   f    f        f   \n",
       "9   28   F            f                  f                   f    f        f   \n",
       "\n",
       "  thyroid_surgery I131_treatment query_hypothyroid  ...    TT4 T4U_measured  \\\n",
       "0               f              f                 t  ...    NaN            f   \n",
       "1               f              f                 f  ...  128.0            f   \n",
       "2               f              f                 f  ...    NaN            f   \n",
       "3               f              f                 f  ...    NaN            f   \n",
       "4               f              f                 f  ...    NaN            f   \n",
       "5               f              f                 f  ...    NaN            f   \n",
       "6               f              f                 f  ...    NaN            f   \n",
       "7               f              f                 f  ...  116.0            f   \n",
       "8               f              f                 f  ...   76.0            f   \n",
       "9               f              f                 f  ...   83.0            f   \n",
       "\n",
       "  T4U FTI_measured FTI TBG_measured   TBG  referral_source target  patient_id  \n",
       "0 NaN            f NaN            f   NaN            other      -   840801013  \n",
       "1 NaN            f NaN            f   NaN            other      -   840801014  \n",
       "2 NaN            f NaN            t  11.0            other      -   840801042  \n",
       "3 NaN            f NaN            t  26.0            other      -   840803046  \n",
       "4 NaN            f NaN            t  36.0            other      S   840803047  \n",
       "5 NaN            f NaN            t  26.0            other      -   840803048  \n",
       "6 NaN            f NaN            t  21.0            other      -   840803068  \n",
       "7 NaN            f NaN            f   NaN              SVI      -   840807019  \n",
       "8 NaN            f NaN            f   NaN            other      -   840808060  \n",
       "9 NaN            f NaN            f   NaN            other      -   840808073  \n",
       "\n",
       "[10 rows x 31 columns]"
      ]
     },
     "execution_count": 5,
     "metadata": {},
     "output_type": "execute_result"
    }
   ],
   "source": [
    "df.head(10)"
   ]
  },
  {
   "cell_type": "code",
   "execution_count": 6,
   "metadata": {
    "ExecuteTime": {
     "end_time": "2025-05-04T10:04:56.207073Z",
     "start_time": "2025-05-04T10:04:56.198568Z"
    }
   },
   "outputs": [
    {
     "name": "stdout",
     "output_type": "stream",
     "text": [
      "Total number of rows: 9172\n",
      "Total number of columns: 31\n"
     ]
    }
   ],
   "source": [
    "# Total number of rows and columns\n",
    "row, columns = df.shape\n",
    "print(f'Total number of rows: {row}')\n",
    "print(f'Total number of columns: {columns}')"
   ]
  },
  {
   "cell_type": "code",
   "execution_count": 7,
   "metadata": {
    "ExecuteTime": {
     "end_time": "2025-05-04T10:04:56.663143Z",
     "start_time": "2025-05-04T10:04:56.642554Z"
    }
   },
   "outputs": [
    {
     "data": {
      "text/plain": [
       "0"
      ]
     },
     "execution_count": 7,
     "metadata": {},
     "output_type": "execute_result"
    }
   ],
   "source": [
    "# Total number of duplicate rows\n",
    "df.duplicated().sum()"
   ]
  },
  {
   "cell_type": "code",
   "execution_count": 8,
   "metadata": {
    "ExecuteTime": {
     "end_time": "2025-05-04T10:04:56.880992Z",
     "start_time": "2025-05-04T10:04:56.867612Z"
    }
   },
   "outputs": [
    {
     "data": {
      "text/plain": [
       "age                       0\n",
       "sex                     307\n",
       "on_thyroxine              0\n",
       "query_on_thyroxine        0\n",
       "on_antithyroid_meds       0\n",
       "sick                      0\n",
       "pregnant                  0\n",
       "thyroid_surgery           0\n",
       "I131_treatment            0\n",
       "query_hypothyroid         0\n",
       "query_hyperthyroid        0\n",
       "lithium                   0\n",
       "goitre                    0\n",
       "tumor                     0\n",
       "hypopituitary             0\n",
       "psych                     0\n",
       "TSH_measured              0\n",
       "TSH                     842\n",
       "T3_measured               0\n",
       "T3                     2604\n",
       "TT4_measured              0\n",
       "TT4                     442\n",
       "T4U_measured              0\n",
       "T4U                     809\n",
       "FTI_measured              0\n",
       "FTI                     802\n",
       "TBG_measured              0\n",
       "TBG                    8823\n",
       "referral_source           0\n",
       "target                    0\n",
       "patient_id                0\n",
       "dtype: int64"
      ]
     },
     "execution_count": 8,
     "metadata": {},
     "output_type": "execute_result"
    }
   ],
   "source": [
    "# Total number of missing values in each column\n",
    "df.isna().sum()"
   ]
  },
  {
   "cell_type": "markdown",
   "metadata": {},
   "source": [
    "The “Thyroid Disease Data” UCI Machine Learning dataset contains 9,172 rows and 31 columns, with no duplicate values. However, there are significant number of missing values in the columns: Sex, TSH, T3, TT4, T4U, FTI, and TBG, with TBG column leading with 8823 null entries. "
   ]
  },
  {
   "cell_type": "code",
   "execution_count": 10,
   "metadata": {
    "ExecuteTime": {
     "end_time": "2025-05-04T10:04:57.213106Z",
     "start_time": "2025-05-04T10:04:57.204917Z"
    }
   },
   "outputs": [
    {
     "data": {
      "text/plain": [
       "array(['F', 'M', nan], dtype=object)"
      ]
     },
     "execution_count": 10,
     "metadata": {},
     "output_type": "execute_result"
    }
   ],
   "source": [
    "# Unique values in 'sex' column\n",
    "df['sex'].unique()"
   ]
  },
  {
   "cell_type": "code",
   "execution_count": 11,
   "metadata": {
    "ExecuteTime": {
     "end_time": "2025-05-04T10:04:57.534881Z",
     "start_time": "2025-05-04T10:04:57.524527Z"
    }
   },
   "outputs": [
    {
     "data": {
      "text/plain": [
       "sex\n",
       "F    6073\n",
       "M    2792\n",
       "Name: count, dtype: int64"
      ]
     },
     "execution_count": 11,
     "metadata": {},
     "output_type": "execute_result"
    }
   ],
   "source": [
    "# Counting the frequency of each distinct value in the 'sex' column\n",
    "df['sex'].value_counts()"
   ]
  },
  {
   "cell_type": "code",
   "execution_count": 12,
   "metadata": {
    "ExecuteTime": {
     "end_time": "2025-05-04T10:04:57.940979Z",
     "start_time": "2025-05-04T10:04:57.934492Z"
    }
   },
   "outputs": [
    {
     "data": {
      "text/plain": [
       "array(['t', 'f'], dtype=object)"
      ]
     },
     "execution_count": 12,
     "metadata": {},
     "output_type": "execute_result"
    }
   ],
   "source": [
    "# Unique values in 'TSH_measured' column\n",
    "df['TSH_measured'].unique()"
   ]
  },
  {
   "cell_type": "code",
   "execution_count": 13,
   "metadata": {
    "ExecuteTime": {
     "end_time": "2025-05-04T10:04:58.281276Z",
     "start_time": "2025-05-04T10:04:58.276354Z"
    }
   },
   "outputs": [
    {
     "data": {
      "text/plain": [
       "array([nan])"
      ]
     },
     "execution_count": 13,
     "metadata": {},
     "output_type": "execute_result"
    }
   ],
   "source": [
    "# Filtering the unique values in the 'TSH' column for rows where 'TSH_measured' is not measured to find the erroneous data. \n",
    "df['TSH'][df['TSH_measured'] == 'f'].unique()"
   ]
  },
  {
   "cell_type": "code",
   "execution_count": 14,
   "metadata": {
    "ExecuteTime": {
     "end_time": "2025-05-04T10:04:58.516483Z",
     "start_time": "2025-05-04T10:04:58.513104Z"
    }
   },
   "outputs": [
    {
     "data": {
      "text/plain": [
       "842"
      ]
     },
     "execution_count": 14,
     "metadata": {},
     "output_type": "execute_result"
    }
   ],
   "source": [
    "# Counting the number of missing TSH values for patients where TSH was not measured\n",
    "df['TSH'][df['TSH_measured'] == 'f'].isnull().sum()"
   ]
  },
  {
   "cell_type": "code",
   "execution_count": 15,
   "metadata": {
    "ExecuteTime": {
     "end_time": "2025-05-04T10:04:58.720538Z",
     "start_time": "2025-05-04T10:04:58.717934Z"
    }
   },
   "outputs": [
    {
     "data": {
      "text/plain": [
       "842"
      ]
     },
     "execution_count": 15,
     "metadata": {},
     "output_type": "execute_result"
    }
   ],
   "source": [
    "# Counting of missing values in TSH\n",
    "df['TSH'].isnull().sum()"
   ]
  },
  {
   "cell_type": "markdown",
   "metadata": {},
   "source": [
    "The dataset has no erroneous data related to the TSH measurements. The data marked with 'f' in 'TSH_measured' has no corresponding values in 'TSH' column which is correct. "
   ]
  },
  {
   "cell_type": "code",
   "execution_count": 17,
   "metadata": {
    "ExecuteTime": {
     "end_time": "2025-05-04T10:04:58.962125Z",
     "start_time": "2025-05-04T10:04:58.956105Z"
    }
   },
   "outputs": [
    {
     "data": {
      "text/plain": [
       "array(['f', 't'], dtype=object)"
      ]
     },
     "execution_count": 17,
     "metadata": {},
     "output_type": "execute_result"
    }
   ],
   "source": [
    "# Unique values in 'T3_measured' column\n",
    "df['T3_measured'].unique()"
   ]
  },
  {
   "cell_type": "code",
   "execution_count": 18,
   "metadata": {
    "ExecuteTime": {
     "end_time": "2025-05-04T10:04:59.103317Z",
     "start_time": "2025-05-04T10:04:59.099836Z"
    }
   },
   "outputs": [
    {
     "data": {
      "text/plain": [
       "array([nan])"
      ]
     },
     "execution_count": 18,
     "metadata": {},
     "output_type": "execute_result"
    }
   ],
   "source": [
    "# Filtering the unique values in the 'T3' column for rows where 'T3_measured' is 'f' to validate the data. \n",
    "df['T3'][df['T3_measured'] == 'f'].unique()"
   ]
  },
  {
   "cell_type": "code",
   "execution_count": 19,
   "metadata": {
    "ExecuteTime": {
     "end_time": "2025-05-04T10:04:59.204206Z",
     "start_time": "2025-05-04T10:04:59.197772Z"
    }
   },
   "outputs": [
    {
     "data": {
      "text/plain": [
       "2604"
      ]
     },
     "execution_count": 19,
     "metadata": {},
     "output_type": "execute_result"
    }
   ],
   "source": [
    "# Counting the number of missing T3 values for patients where T3 was not measured\n",
    "df['T3'][df['T3_measured'] == 'f'].isnull().sum()"
   ]
  },
  {
   "cell_type": "code",
   "execution_count": 20,
   "metadata": {
    "ExecuteTime": {
     "end_time": "2025-05-04T10:04:59.311902Z",
     "start_time": "2025-05-04T10:04:59.308775Z"
    }
   },
   "outputs": [
    {
     "data": {
      "text/plain": [
       "2604"
      ]
     },
     "execution_count": 20,
     "metadata": {},
     "output_type": "execute_result"
    }
   ],
   "source": [
    "# Counting of missing values in T3\n",
    "df['T3'].isnull().sum()"
   ]
  },
  {
   "cell_type": "markdown",
   "metadata": {},
   "source": [
    "Similarly, the dataset has no erroneous data related to the T3 measurements. The data marked with 'f' in 'T3_measured' has no corresponding values in 'T3' column which is correct. "
   ]
  },
  {
   "cell_type": "code",
   "execution_count": 22,
   "metadata": {
    "ExecuteTime": {
     "end_time": "2025-05-04T10:04:59.420969Z",
     "start_time": "2025-05-04T10:04:59.418237Z"
    }
   },
   "outputs": [
    {
     "data": {
      "text/plain": [
       "array(['f', 't'], dtype=object)"
      ]
     },
     "execution_count": 22,
     "metadata": {},
     "output_type": "execute_result"
    }
   ],
   "source": [
    "# Unique values in 'TT4_measured' column\n",
    "df['TT4_measured'].unique()"
   ]
  },
  {
   "cell_type": "code",
   "execution_count": 23,
   "metadata": {
    "ExecuteTime": {
     "end_time": "2025-05-04T10:04:59.520150Z",
     "start_time": "2025-05-04T10:04:59.517084Z"
    }
   },
   "outputs": [
    {
     "data": {
      "text/plain": [
       "array([nan])"
      ]
     },
     "execution_count": 23,
     "metadata": {},
     "output_type": "execute_result"
    }
   ],
   "source": [
    "# Filtering distinct values in the 'TT4' column for rows where 'TT4_measured' is 'f' \n",
    "df['TT4'][df['TT4_measured'] == 'f'].unique()"
   ]
  },
  {
   "cell_type": "code",
   "execution_count": 24,
   "metadata": {
    "ExecuteTime": {
     "end_time": "2025-05-04T10:04:59.623980Z",
     "start_time": "2025-05-04T10:04:59.620969Z"
    }
   },
   "outputs": [
    {
     "data": {
      "text/plain": [
       "442"
      ]
     },
     "execution_count": 24,
     "metadata": {},
     "output_type": "execute_result"
    }
   ],
   "source": [
    "# Counts the number of missing TT4 values for patients where TT4 was not measured\n",
    "df['TT4'][df['TT4_measured'] == 'f'].isnull().sum()"
   ]
  },
  {
   "cell_type": "code",
   "execution_count": 25,
   "metadata": {
    "ExecuteTime": {
     "end_time": "2025-05-04T10:04:59.716943Z",
     "start_time": "2025-05-04T10:04:59.714278Z"
    }
   },
   "outputs": [
    {
     "data": {
      "text/plain": [
       "442"
      ]
     },
     "execution_count": 25,
     "metadata": {},
     "output_type": "execute_result"
    }
   ],
   "source": [
    "# Count of missing values in TT4\n",
    "df['TT4'].isnull().sum()"
   ]
  },
  {
   "cell_type": "markdown",
   "metadata": {},
   "source": [
    "Similarly, the dataset has no erroneous data related to the TT4 measurements. The data marked with 'f' in 'TT4_measured' has no corresponding values in 'TT4' column which is correct. "
   ]
  },
  {
   "cell_type": "code",
   "execution_count": 27,
   "metadata": {
    "ExecuteTime": {
     "end_time": "2025-05-04T10:04:59.813457Z",
     "start_time": "2025-05-04T10:04:59.810902Z"
    }
   },
   "outputs": [
    {
     "data": {
      "text/plain": [
       "array(['f', 't'], dtype=object)"
      ]
     },
     "execution_count": 27,
     "metadata": {},
     "output_type": "execute_result"
    }
   ],
   "source": [
    "# Unique values in 'T4U_measured' column\n",
    "df['T4U_measured'].unique()"
   ]
  },
  {
   "cell_type": "code",
   "execution_count": 28,
   "metadata": {
    "ExecuteTime": {
     "end_time": "2025-05-04T10:04:59.892666Z",
     "start_time": "2025-05-04T10:04:59.889678Z"
    }
   },
   "outputs": [
    {
     "data": {
      "text/plain": [
       "array([nan])"
      ]
     },
     "execution_count": 28,
     "metadata": {},
     "output_type": "execute_result"
    }
   ],
   "source": [
    "# Filtering the unique values 'T4U' column for rows where 'T4U_measured' is 'f'\n",
    "df['T4U'][df['T4U_measured'] == 'f'].unique()"
   ]
  },
  {
   "cell_type": "code",
   "execution_count": 29,
   "metadata": {
    "ExecuteTime": {
     "end_time": "2025-05-04T10:05:00.018555Z",
     "start_time": "2025-05-04T10:05:00.014626Z"
    }
   },
   "outputs": [
    {
     "data": {
      "text/plain": [
       "809"
      ]
     },
     "execution_count": 29,
     "metadata": {},
     "output_type": "execute_result"
    }
   ],
   "source": [
    "# Counting the number of missing T4U values for patients where T4U was not measured\n",
    "df['T4U'][df['T4U_measured'] == 'f'].isnull().sum()"
   ]
  },
  {
   "cell_type": "code",
   "execution_count": 30,
   "metadata": {
    "ExecuteTime": {
     "end_time": "2025-05-04T10:05:00.105484Z",
     "start_time": "2025-05-04T10:05:00.102573Z"
    }
   },
   "outputs": [
    {
     "data": {
      "text/plain": [
       "809"
      ]
     },
     "execution_count": 30,
     "metadata": {},
     "output_type": "execute_result"
    }
   ],
   "source": [
    "# Counting of missing values in T4U\n",
    "df['T4U'].isnull().sum()"
   ]
  },
  {
   "cell_type": "markdown",
   "metadata": {},
   "source": [
    "Similarly, the dataset has no erroneous data related to the T4U measurements. The data marked with 'f' in 'T4U_measured' has no corresponding values in 'T4U' column which is correct. "
   ]
  },
  {
   "cell_type": "code",
   "execution_count": 32,
   "metadata": {
    "ExecuteTime": {
     "end_time": "2025-05-04T10:05:00.194152Z",
     "start_time": "2025-05-04T10:05:00.190639Z"
    }
   },
   "outputs": [
    {
     "data": {
      "text/plain": [
       "array(['f', 't'], dtype=object)"
      ]
     },
     "execution_count": 32,
     "metadata": {},
     "output_type": "execute_result"
    }
   ],
   "source": [
    "# Unique values in 'FTI_measured' column\n",
    "df['FTI_measured'].unique()"
   ]
  },
  {
   "cell_type": "code",
   "execution_count": 33,
   "metadata": {
    "ExecuteTime": {
     "end_time": "2025-05-04T10:05:00.279615Z",
     "start_time": "2025-05-04T10:05:00.275869Z"
    }
   },
   "outputs": [
    {
     "data": {
      "text/plain": [
       "array([nan])"
      ]
     },
     "execution_count": 33,
     "metadata": {},
     "output_type": "execute_result"
    }
   ],
   "source": [
    "# Extracting the unique values in the 'FTI' column for rows where 'FTI_measured' is 'f'\n",
    "df['FTI'][df['FTI_measured'] == 'f'].unique()"
   ]
  },
  {
   "cell_type": "code",
   "execution_count": 34,
   "metadata": {
    "ExecuteTime": {
     "end_time": "2025-05-04T10:05:00.359969Z",
     "start_time": "2025-05-04T10:05:00.356322Z"
    }
   },
   "outputs": [
    {
     "data": {
      "text/plain": [
       "802"
      ]
     },
     "execution_count": 34,
     "metadata": {},
     "output_type": "execute_result"
    }
   ],
   "source": [
    "# Counting the number of missing FTI values for patients where FTI was not measured\n",
    "df['FTI'][df['FTI_measured'] == 'f'].isnull().sum()"
   ]
  },
  {
   "cell_type": "code",
   "execution_count": 35,
   "metadata": {
    "ExecuteTime": {
     "end_time": "2025-05-04T10:05:00.444728Z",
     "start_time": "2025-05-04T10:05:00.442226Z"
    }
   },
   "outputs": [
    {
     "data": {
      "text/plain": [
       "802"
      ]
     },
     "execution_count": 35,
     "metadata": {},
     "output_type": "execute_result"
    }
   ],
   "source": [
    "# Counting of missing values in FTI\n",
    "df['FTI'].isnull().sum()"
   ]
  },
  {
   "cell_type": "markdown",
   "metadata": {},
   "source": [
    "Similarly, the dataset has no erroneous data related to the FTI measurements. The data marked with 'f' in 'FTI_measured' has no corresponding values in 'FTI' column which is correct. "
   ]
  },
  {
   "cell_type": "code",
   "execution_count": 37,
   "metadata": {
    "ExecuteTime": {
     "end_time": "2025-05-04T10:05:00.525385Z",
     "start_time": "2025-05-04T10:05:00.522666Z"
    }
   },
   "outputs": [
    {
     "data": {
      "text/plain": [
       "array(['f', 't'], dtype=object)"
      ]
     },
     "execution_count": 37,
     "metadata": {},
     "output_type": "execute_result"
    }
   ],
   "source": [
    "# Unique values in 'TBG_measured' column\n",
    "df['TBG_measured'].unique()"
   ]
  },
  {
   "cell_type": "code",
   "execution_count": 38,
   "metadata": {
    "ExecuteTime": {
     "end_time": "2025-05-04T10:05:00.620229Z",
     "start_time": "2025-05-04T10:05:00.616440Z"
    }
   },
   "outputs": [
    {
     "data": {
      "text/plain": [
       "array([nan])"
      ]
     },
     "execution_count": 38,
     "metadata": {},
     "output_type": "execute_result"
    }
   ],
   "source": [
    "# Filtering the distinct values in the 'TBG' column for rows where 'TBG_measured' is 'f'\n",
    "df['TBG'][df['TBG_measured'] == 'f'].unique()"
   ]
  },
  {
   "cell_type": "code",
   "execution_count": 39,
   "metadata": {
    "ExecuteTime": {
     "end_time": "2025-05-04T10:05:00.717233Z",
     "start_time": "2025-05-04T10:05:00.713692Z"
    }
   },
   "outputs": [
    {
     "data": {
      "text/plain": [
       "8823"
      ]
     },
     "execution_count": 39,
     "metadata": {},
     "output_type": "execute_result"
    }
   ],
   "source": [
    "# Counting the number of missing TBG values for patients where TBG was not measured\n",
    "df['TBG'][df['TBG_measured'] == 'f'].isnull().sum()"
   ]
  },
  {
   "cell_type": "code",
   "execution_count": 40,
   "metadata": {
    "ExecuteTime": {
     "end_time": "2025-05-04T10:05:00.802252Z",
     "start_time": "2025-05-04T10:05:00.799985Z"
    }
   },
   "outputs": [
    {
     "data": {
      "text/plain": [
       "8823"
      ]
     },
     "execution_count": 40,
     "metadata": {},
     "output_type": "execute_result"
    }
   ],
   "source": [
    "# Counting of missing values in TBG\n",
    "df['TBG'].isnull().sum()"
   ]
  },
  {
   "cell_type": "markdown",
   "metadata": {},
   "source": [
    "Similarly, the dataset has no erroneous data related to the TBG measurements. The data marked with 'f' in 'TBG_measured' has no corresponding values in 'FBG' column which is correct. "
   ]
  },
  {
   "cell_type": "markdown",
   "metadata": {},
   "source": [
    "**Conclusion:** \n",
    "\n",
    "Based on analysis, the dataset has no error entries in TSH, T3, TT4, T4U, FTI, and TBG measurements as null values in the TSH, T3, TT4, T4U, FTI, and TBG columns has corresponding TSH_measured, T3_measured, TT4_measured, T4U_measured, FTI_measured, and TBG_measured values with the 'f' values. For the patients where the test were not taken, there is no measured value or data. "
   ]
  },
  {
   "cell_type": "markdown",
   "metadata": {},
   "source": [
    "# Feature Engineering"
   ]
  },
  {
   "cell_type": "code",
   "execution_count": 44,
   "metadata": {
    "ExecuteTime": {
     "end_time": "2025-05-04T10:05:00.884423Z",
     "start_time": "2025-05-04T10:05:00.876714Z"
    }
   },
   "outputs": [
    {
     "data": {
      "text/plain": [
       "array(['-', 'S', 'F', 'AK', 'R', 'I', 'M', 'N', 'G', 'K', 'A', 'KJ', 'L',\n",
       "       'MK', 'Q', 'J', 'C|I', 'O', 'LJ', 'H|K', 'D', 'GK', 'MI', 'P',\n",
       "       'FK', 'B', 'GI', 'C', 'GKJ', 'OI', 'D|R', 'E'], dtype=object)"
      ]
     },
     "execution_count": 44,
     "metadata": {},
     "output_type": "execute_result"
    }
   ],
   "source": [
    "# Unique classes in 'target' column\n",
    "df['target'].unique()"
   ]
  },
  {
   "cell_type": "markdown",
   "metadata": {},
   "source": [
    "**Diagnosis**\n",
    "\n",
    "The diagnosis data can be categorized into 8 large classes: \n",
    "\n",
    "1. Hyperthyroid conditions: A-hyperthyroid, B - T3 toxic, C - toxic goitre, D - secondary toxic\n",
    "2. Hypothyroid conditions:  E - hypothyroid, F - primary hypothyroid, G - compensated hypothyroid, H - secondary hypothyroid\n",
    "3. Binding Protein: I - Increased binding protein, J - Decreased binding protein\n",
    "4. General health condition: K - Concurrent non-thyroidal illness\n",
    "5. Replacement Therapy: L - Consistent with replacement therapy, M - Underreplaced, N - Overreplaced\n",
    "6. Antithyroid Treatment: O - Antithyroid drugs, P - I131 treatment, Q - Surgery\n",
    "7. Miscellaneous: R - Discordant assay results, S - Elevated TBG, T - Elevated thyroid hormones\n",
    "8. Normal condition: '-' (without disease)\n",
    "\n",
    "The diagnosis in the form of  \"X|Y\" is interpreted as \"consistent with X, but more likely Y\". \n",
    "\n",
    "\n"
   ]
  },
  {
   "cell_type": "code",
   "execution_count": 46,
   "metadata": {
    "ExecuteTime": {
     "end_time": "2025-05-04T10:05:00.955735Z",
     "start_time": "2025-05-04T10:05:00.949085Z"
    }
   },
   "outputs": [],
   "source": [
    "# Defining  diagnosis groups \n",
    "\n",
    "hyperthyroid_conditions = ['A', 'B', 'C', 'D']  #Hyperthyroid\n",
    "hypothyroid_conditions = ['E', 'F', 'G', 'H'] #Hypothyroid\n",
    "replacement_therapy = ['L', 'M', 'N'] #Related to synthetic hormone use\n",
    "binding_protein = ['I', 'J'] #TBG-related problems\n",
    "non_thyroidal_illness = ['K', 'R', 'S', 'T']\t#Indirect or related issues\n",
    "treatment_effects = ['O', 'P', 'Q'] #Due to the interventions\n",
    "normal_conditions = ['-'] #Negative\n",
    "\n",
    "# Mapping logic\n",
    "def categorize_target(value):\n",
    "    diagnoses = value.split('|')\n",
    "    \n",
    "    for diagnosis in diagnoses:\n",
    "        if diagnosis in hyperthyroid_conditions:\n",
    "            return 'Hyperthyroid'\n",
    "        if diagnosis in hypothyroid_conditions:\n",
    "            return 'Hypothyroid'\n",
    "        if diagnosis in replacement_therapy:\n",
    "            return 'Replacement Therapy'\n",
    "        if diagnosis in binding_protein:\n",
    "            return 'Binding Protein'\n",
    "        if diagnosis in non_thyroidal_illness:\n",
    "            return 'Non-thyroidal Illness'\n",
    "        if diagnosis in treatment_effects:\n",
    "            return 'Treatment Effect'\n",
    "        if diagnosis in normal_conditions:\n",
    "            return 'Negative'\n",
    "    \n",
    "# Apply the categorization to DataFrame\n",
    "df['target'] = df['target'].apply(categorize_target)"
   ]
  },
  {
   "cell_type": "code",
   "execution_count": 47,
   "metadata": {
    "ExecuteTime": {
     "end_time": "2025-05-04T10:05:01.007022Z",
     "start_time": "2025-05-04T10:05:01.004293Z"
    }
   },
   "outputs": [
    {
     "data": {
      "text/plain": [
       "array(['Negative', 'Non-thyroidal Illness', 'Hypothyroid', None,\n",
       "       'Binding Protein', 'Replacement Therapy', 'Hyperthyroid',\n",
       "       'Treatment Effect'], dtype=object)"
      ]
     },
     "execution_count": 47,
     "metadata": {},
     "output_type": "execute_result"
    }
   ],
   "source": [
    "#Unique Classes in 'target' column\n",
    "df['target'].unique()"
   ]
  },
  {
   "cell_type": "code",
   "execution_count": 48,
   "metadata": {
    "ExecuteTime": {
     "end_time": "2025-05-04T10:05:01.064107Z",
     "start_time": "2025-05-04T10:05:01.060962Z"
    }
   },
   "outputs": [
    {
     "data": {
      "text/plain": [
       "target\n",
       "Negative                 6771\n",
       "Non-thyroidal Illness     717\n",
       "Hypothyroid               601\n",
       "Binding Protein           376\n",
       "Replacement Therapy       336\n",
       "Hyperthyroid              195\n",
       "Treatment Effect           33\n",
       "Name: count, dtype: int64"
      ]
     },
     "execution_count": 48,
     "metadata": {},
     "output_type": "execute_result"
    }
   ],
   "source": [
    "#  Counting the frequency of each unique classes in the 'target' column\n",
    "df['target'].value_counts()"
   ]
  },
  {
   "cell_type": "code",
   "execution_count": 49,
   "metadata": {
    "ExecuteTime": {
     "end_time": "2025-05-04T10:05:01.233675Z",
     "start_time": "2025-05-04T10:05:01.229606Z"
    }
   },
   "outputs": [
    {
     "data": {
      "text/plain": [
       "143"
      ]
     },
     "execution_count": 49,
     "metadata": {},
     "output_type": "execute_result"
    }
   ],
   "source": [
    "# Counting the missing values in 'target' column\n",
    "df['target'].isnull().sum()"
   ]
  },
  {
   "cell_type": "markdown",
   "metadata": {},
   "source": [
    "## Data Cleaning\n",
    "The missing values were handled using appropriate imputation method: \n",
    "\n",
    "1. Columns with missed 'target' value were dropped. \n",
    "2. Missing values in the 'Sex' column were imputed using the mode of the column.\n",
    "3. Missing values in TSH, T3, TT4, T4U were imputed with the median of the respective columns.\n",
    "4. The TBG column was dropped entirely due a notable number of null entries in it, particularly, 8823 null values.\n",
    "\n",
    "Additionaly \n",
    "FTI were dropped\n"
   ]
  },
  {
   "cell_type": "code",
   "execution_count": 51,
   "metadata": {},
   "outputs": [],
   "source": [
    "df = df.dropna(subset=['target'])"
   ]
  },
  {
   "cell_type": "code",
   "execution_count": 52,
   "metadata": {
    "ExecuteTime": {
     "end_time": "2025-05-04T10:05:01.311329Z",
     "start_time": "2025-05-04T10:05:01.307894Z"
    }
   },
   "outputs": [
    {
     "data": {
      "text/plain": [
       "'F'"
      ]
     },
     "execution_count": 52,
     "metadata": {},
     "output_type": "execute_result"
    }
   ],
   "source": [
    "# Imputing the missing values in 'sex' column with mode which is 'F' - Female \n",
    "sex_mode = df['sex'].mode()[0]\n",
    "sex_mode"
   ]
  },
  {
   "cell_type": "code",
   "execution_count": 53,
   "metadata": {
    "ExecuteTime": {
     "end_time": "2025-05-04T10:05:01.612477Z",
     "start_time": "2025-05-04T10:05:01.602942Z"
    }
   },
   "outputs": [
    {
     "data": {
      "text/plain": [
       "0"
      ]
     },
     "execution_count": 53,
     "metadata": {},
     "output_type": "execute_result"
    }
   ],
   "source": [
    "df['sex'] = df['sex'].fillna(sex_mode)\n",
    "df['sex'].isna().sum()"
   ]
  },
  {
   "cell_type": "code",
   "execution_count": 54,
   "metadata": {
    "ExecuteTime": {
     "end_time": "2025-05-04T10:05:01.809155Z",
     "start_time": "2025-05-04T10:05:01.803940Z"
    }
   },
   "outputs": [
    {
     "data": {
      "text/plain": [
       "Index(['age', 'sex', 'on_thyroxine', 'query_on_thyroxine',\n",
       "       'on_antithyroid_meds', 'sick', 'pregnant', 'thyroid_surgery',\n",
       "       'I131_treatment', 'query_hypothyroid', 'query_hyperthyroid', 'lithium',\n",
       "       'goitre', 'tumor', 'hypopituitary', 'psych', 'TSH_measured', 'TSH',\n",
       "       'T3_measured', 'T3', 'TT4_measured', 'TT4', 'T4U_measured', 'T4U',\n",
       "       'FTI_measured', 'FTI', 'TBG_measured', 'TBG', 'referral_source',\n",
       "       'target', 'patient_id'],\n",
       "      dtype='object')"
      ]
     },
     "execution_count": 54,
     "metadata": {},
     "output_type": "execute_result"
    }
   ],
   "source": [
    "df.columns"
   ]
  },
  {
   "cell_type": "markdown",
   "metadata": {},
   "source": [
    "Additional to the 'TBG' column, the columns TSH_measured', 'T3_measured', 'TT4_measured', 'T4U_measured', 'FTI_measured', 'TBG_measured', 'patient_id' were dropped as they do not contribute to the analysis and prediction. "
   ]
  },
  {
   "cell_type": "code",
   "execution_count": 56,
   "metadata": {
    "ExecuteTime": {
     "end_time": "2025-05-04T10:05:02.031879Z",
     "start_time": "2025-05-04T10:05:02.028709Z"
    }
   },
   "outputs": [],
   "source": [
    "# List of columns that were dropped\n",
    "col_to_drop = ['TSH_measured', 'T3_measured', 'TT4_measured', 'T4U_measured', 'FTI_measured', 'TBG_measured', 'patient_id', 'referral_source',\n",
    "        'TBG']"
   ]
  },
  {
   "cell_type": "code",
   "execution_count": 57,
   "metadata": {
    "ExecuteTime": {
     "end_time": "2025-05-04T10:05:02.119578Z",
     "start_time": "2025-05-04T10:05:02.112248Z"
    }
   },
   "outputs": [],
   "source": [
    "# Dropping the columns in the 'col_to_drop' list \n",
    "df.drop(col_to_drop, axis = 1, inplace = True)"
   ]
  },
  {
   "cell_type": "code",
   "execution_count": 58,
   "metadata": {
    "ExecuteTime": {
     "end_time": "2025-05-04T10:05:02.205678Z",
     "start_time": "2025-05-04T10:05:02.203360Z"
    }
   },
   "outputs": [
    {
     "data": {
      "text/plain": [
       "Index(['age', 'sex', 'on_thyroxine', 'query_on_thyroxine',\n",
       "       'on_antithyroid_meds', 'sick', 'pregnant', 'thyroid_surgery',\n",
       "       'I131_treatment', 'query_hypothyroid', 'query_hyperthyroid', 'lithium',\n",
       "       'goitre', 'tumor', 'hypopituitary', 'psych', 'TSH', 'T3', 'TT4', 'T4U',\n",
       "       'FTI', 'target'],\n",
       "      dtype='object')"
      ]
     },
     "execution_count": 58,
     "metadata": {},
     "output_type": "execute_result"
    }
   ],
   "source": [
    "df.columns"
   ]
  },
  {
   "cell_type": "code",
   "execution_count": 59,
   "metadata": {
    "ExecuteTime": {
     "end_time": "2025-05-04T10:05:02.347067Z",
     "start_time": "2025-05-04T10:05:02.343882Z"
    }
   },
   "outputs": [],
   "source": [
    "# List of columns still containing missing values\n",
    "col_with_null = ['TSH', 'T3', 'TT4', 'T4U', 'FTI']"
   ]
  },
  {
   "cell_type": "code",
   "execution_count": 60,
   "metadata": {},
   "outputs": [
    {
     "name": "stdout",
     "output_type": "stream",
     "text": [
      "          TSH        T3       TT4       T4U       FTI\n",
      "TSH  1.000000 -0.153425 -0.275152  0.077594 -0.275518\n",
      "T3  -0.153425  1.000000  0.557632  0.333870  0.387316\n",
      "TT4 -0.275152  0.557632  1.000000  0.373304  0.750770\n",
      "T4U  0.077594  0.333870  0.373304  1.000000 -0.233350\n",
      "FTI -0.275518  0.387316  0.750770 -0.233350  1.000000\n"
     ]
    }
   ],
   "source": [
    "# Correlating the columns in 'col_with_null' to find the suitable imputation method and finding if the column should be kept  \n",
    "correlation_matrix = df[col_with_null].corr()\n",
    "print(correlation_matrix)"
   ]
  },
  {
   "cell_type": "code",
   "execution_count": 61,
   "metadata": {},
   "outputs": [
    {
     "data": {
      "image/png": "[encoded data removed]",
      "text/plain": [
       "<Figure size 800x600 with 2 Axes>"
      ]
     },
     "metadata": {},
     "output_type": "display_data"
    }
   ],
   "source": [
    "plt.figure(figsize=(8, 6))\n",
    "sns.heatmap(correlation_matrix, annot=True, cmap='coolwarm', fmt='.2f')\n",
    "plt.title('Correlation Between Thyroid Hormone Measures')\n",
    "plt.show()\n"
   ]
  },
  {
   "cell_type": "markdown",
   "metadata": {},
   "source": [
    "Based on correlation matrix, we found that there are strong correlations between 'TT4' and 'FTI' columns (75%), and moderate correlation between the columns 'T3' and 'TT4' (56%) , 'TT4' and 'T4U' (37%), 'T3' and 'FTI' (39%) columns. \n",
    "\n",
    "Columns that have weak/moderate correlation with other columns are TSH, T3, T4U, these columns should be kept in. \n",
    "\n",
    "Columns 'TT4' and 'FTI' have strong correlation score of 75%. In most cases, FTI is calculated from devision of TT4 by T4U, therefore, the column 'FTI' is dependent column, it can be dropped. \n"
   ]
  },
  {
   "cell_type": "code",
   "execution_count": 63,
   "metadata": {},
   "outputs": [],
   "source": [
    "df.drop('FTI' , axis = 1, inplace = True)"
   ]
  },
  {
   "cell_type": "code",
   "execution_count": 64,
   "metadata": {},
   "outputs": [
    {
     "data": {
      "text/plain": [
       "age                       0\n",
       "sex                       0\n",
       "on_thyroxine              0\n",
       "query_on_thyroxine        0\n",
       "on_antithyroid_meds       0\n",
       "sick                      0\n",
       "pregnant                  0\n",
       "thyroid_surgery           0\n",
       "I131_treatment            0\n",
       "query_hypothyroid         0\n",
       "query_hyperthyroid        0\n",
       "lithium                   0\n",
       "goitre                    0\n",
       "tumor                     0\n",
       "hypopituitary             0\n",
       "psych                     0\n",
       "TSH                     840\n",
       "T3                     2603\n",
       "TT4                     442\n",
       "T4U                     806\n",
       "target                    0\n",
       "dtype: int64"
      ]
     },
     "execution_count": 64,
     "metadata": {},
     "output_type": "execute_result"
    }
   ],
   "source": [
    "df.isna().sum()"
   ]
  },
  {
   "cell_type": "code",
   "execution_count": 65,
   "metadata": {
    "ExecuteTime": {
     "end_time": "2025-05-04T10:05:03.195789Z",
     "start_time": "2025-05-04T10:05:03.187333Z"
    }
   },
   "outputs": [
    {
     "name": "stdout",
     "output_type": "stream",
     "text": [
      "Unique values in sex: ['F' 'M']\n",
      "Unique values in on_thyroxine: ['f' 't']\n",
      "Unique values in query_on_thyroxine: ['f' 't']\n",
      "Unique values in on_antithyroid_meds: ['f' 't']\n",
      "Unique values in sick: ['f' 't']\n",
      "Unique values in pregnant: ['f' 't']\n",
      "Unique values in thyroid_surgery: ['f' 't']\n",
      "Unique values in I131_treatment: ['f' 't']\n",
      "Unique values in query_hypothyroid: ['t' 'f']\n",
      "Unique values in query_hyperthyroid: ['f' 't']\n",
      "Unique values in lithium: ['f' 't']\n",
      "Unique values in goitre: ['f' 't']\n",
      "Unique values in tumor: ['f' 't']\n",
      "Unique values in hypopituitary: ['f' 't']\n",
      "Unique values in psych: ['f' 't']\n",
      "Unique values in target: ['Negative' 'Non-thyroidal Illness' 'Hypothyroid' 'Binding Protein'\n",
      " 'Replacement Therapy' 'Hyperthyroid' 'Treatment Effect']\n"
     ]
    }
   ],
   "source": [
    "# Unique values in the columns with 'object' data type\n",
    "for i in df.columns:\n",
    "    if df[i].dtype == 'object':\n",
    "        print(f'Unique values in {i}: {df[i].unique()}')"
   ]
  },
  {
   "cell_type": "code",
   "execution_count": 66,
   "metadata": {
    "ExecuteTime": {
     "end_time": "2025-05-04T10:05:03.376471Z",
     "start_time": "2025-05-04T10:05:03.373210Z"
    }
   },
   "outputs": [
    {
     "data": {
      "text/plain": [
       "(9029, 21)"
      ]
     },
     "execution_count": 66,
     "metadata": {},
     "output_type": "execute_result"
    }
   ],
   "source": [
    "#Shape of df\n",
    "df.shape"
   ]
  },
  {
   "cell_type": "code",
   "execution_count": 67,
   "metadata": {
    "ExecuteTime": {
     "end_time": "2025-05-04T10:05:03.935057Z",
     "start_time": "2025-05-04T10:05:03.929446Z"
    }
   },
   "outputs": [
    {
     "data": {
      "text/plain": [
       "array([   29,    41,    36,    32,    60,    77,    28,    54,    42,\n",
       "          51,    37,    16,    43,    63,    40,    56,    85,    71,\n",
       "          67,    55,    61,    46,    44,    82,    64,    70,    33,\n",
       "          59,    53,    52,    49,    35,    48,    27,    69,    76,\n",
       "          73,    68,    66,    30,    88,    38,    58,    21,    45,\n",
       "          83,    62,    25,    86,    75,    72,    14,    15,    39,\n",
       "          26,    20,    80,    90,    23,    18,    13,    78,    24,\n",
       "          81,    92,    57,    74,     9,    47,    17,    11,    50,\n",
       "          34,     8,    79,    31,    65,    84,    12,    10,    19,\n",
       "          22,     1,     2,    97,     6,    89,    87,   455,    93,\n",
       "           7,    91,     5,    94,     4, 65511,    95, 65512,     3,\n",
       "       65526])"
      ]
     },
     "execution_count": 67,
     "metadata": {},
     "output_type": "execute_result"
    }
   ],
   "source": [
    "#Unique values in 'age' column\n",
    "df['age'].unique()"
   ]
  },
  {
   "cell_type": "markdown",
   "metadata": {},
   "source": [
    "There are some discrepencies in the 'age' column. It is containing values like 455, 65511, 65512, and 65526 which indicates to the inconsistent data points."
   ]
  },
  {
   "cell_type": "code",
   "execution_count": 69,
   "metadata": {
    "ExecuteTime": {
     "end_time": "2025-05-04T10:05:04.061448Z",
     "start_time": "2025-05-04T10:05:04.054430Z"
    }
   },
   "outputs": [
    {
     "data": {
      "text/plain": [
       "array([29, 41, 36, 32, 60, 77, 28, 54, 42, 51, 37, 16, 43, 63, 40, 56, 85,\n",
       "       71, 67, 55, 61, 46, 44, 82, 64, 70, 33, 59, 53, 52, 49, 35, 48, 27,\n",
       "       69, 76, 73, 68, 66, 30, 88, 38, 58, 21, 45, 83, 62, 25, 86, 75, 72,\n",
       "       14, 15, 39, 26, 20, 80, 90, 23, 18, 13, 78, 24, 81, 92, 57, 74,  9,\n",
       "       47, 17, 11, 50, 34,  8, 79, 31, 65, 84, 12, 10, 19, 22,  1,  2, 97,\n",
       "        6, 89, 87, 93,  7, 91,  5, 94,  4, 95,  3])"
      ]
     },
     "execution_count": 69,
     "metadata": {},
     "output_type": "execute_result"
    }
   ],
   "source": [
    "# Filtering the values in 'age' column \n",
    "df = df[df['age'] <= 100]\n",
    "\n",
    "# Unique values in 'age' column\n",
    "df['age'].unique()"
   ]
  },
  {
   "cell_type": "code",
   "execution_count": 70,
   "metadata": {
    "ExecuteTime": {
     "end_time": "2025-05-04T10:05:04.165216Z",
     "start_time": "2025-05-04T10:05:04.162397Z"
    }
   },
   "outputs": [
    {
     "data": {
      "text/plain": [
       "(9025, 21)"
      ]
     },
     "execution_count": 70,
     "metadata": {},
     "output_type": "execute_result"
    }
   ],
   "source": [
    "df.shape"
   ]
  },
  {
   "cell_type": "code",
   "execution_count": 71,
   "metadata": {
    "ExecuteTime": {
     "end_time": "2025-05-04T10:05:04.256416Z",
     "start_time": "2025-05-04T10:05:04.250143Z"
    }
   },
   "outputs": [
    {
     "data": {
      "text/html": [
       "<div>\n",
       "<style scoped>\n",
       "    .dataframe tbody tr th:only-of-type {\n",
       "        vertical-align: middle;\n",
       "    }\n",
       "\n",
       "    .dataframe tbody tr th {\n",
       "        vertical-align: top;\n",
       "    }\n",
       "\n",
       "    .dataframe thead th {\n",
       "        text-align: right;\n",
       "    }\n",
       "</style>\n",
       "<table border=\"1\" class=\"dataframe\">\n",
       "  <thead>\n",
       "    <tr style=\"text-align: right;\">\n",
       "      <th></th>\n",
       "      <th>age</th>\n",
       "      <th>sex</th>\n",
       "      <th>on_thyroxine</th>\n",
       "      <th>query_on_thyroxine</th>\n",
       "      <th>on_antithyroid_meds</th>\n",
       "      <th>sick</th>\n",
       "      <th>pregnant</th>\n",
       "      <th>thyroid_surgery</th>\n",
       "      <th>I131_treatment</th>\n",
       "      <th>query_hypothyroid</th>\n",
       "      <th>...</th>\n",
       "      <th>lithium</th>\n",
       "      <th>goitre</th>\n",
       "      <th>tumor</th>\n",
       "      <th>hypopituitary</th>\n",
       "      <th>psych</th>\n",
       "      <th>TSH</th>\n",
       "      <th>T3</th>\n",
       "      <th>TT4</th>\n",
       "      <th>T4U</th>\n",
       "      <th>target</th>\n",
       "    </tr>\n",
       "  </thead>\n",
       "  <tbody>\n",
       "  </tbody>\n",
       "</table>\n",
       "<p>0 rows × 21 columns</p>\n",
       "</div>"
      ],
      "text/plain": [
       "Empty DataFrame\n",
       "Columns: [age, sex, on_thyroxine, query_on_thyroxine, on_antithyroid_meds, sick, pregnant, thyroid_surgery, I131_treatment, query_hypothyroid, query_hyperthyroid, lithium, goitre, tumor, hypopituitary, psych, TSH, T3, TT4, T4U, target]\n",
       "Index: []\n",
       "\n",
       "[0 rows x 21 columns]"
      ]
     },
     "execution_count": 71,
     "metadata": {},
     "output_type": "execute_result"
    }
   ],
   "source": [
    "# Checking whether data has any anomalies where patient is male but have 'true' in 'pregnant' column\n",
    "df[(df['sex']=='Male') & (df['pregnant'] == 't')]"
   ]
  },
  {
   "cell_type": "markdown",
   "metadata": {},
   "source": [
    "There are no instances in the dataset where a \"Male\" is marked as \"pregnant.\" This is a logical result and validates the integrity of the data for this specific condition. In such cases, we can infer that:\n",
    "\n",
    "* The dataset does not contain biologically implausible entries for this scenario.\n",
    "* The data aligns with expected real-world constraints (assuming there are no labeling or data entry errors)."
   ]
  },
  {
   "cell_type": "code",
   "execution_count": 73,
   "metadata": {
    "ExecuteTime": {
     "end_time": "2025-05-04T10:05:04.370498Z",
     "start_time": "2025-05-04T10:05:04.361482Z"
    }
   },
   "outputs": [],
   "source": [
    "# Creating a copy of 'df' without any null values for data visualization\n",
    "df1 = df.copy()"
   ]
  },
  {
   "cell_type": "markdown",
   "metadata": {},
   "source": [
    "# Data Split"
   ]
  },
  {
   "cell_type": "markdown",
   "metadata": {},
   "source": [
    "Splitting the dataset with stratification as the dataset is highly imbalanced "
   ]
  },
  {
   "cell_type": "code",
   "execution_count": 76,
   "metadata": {},
   "outputs": [
    {
     "name": "stdout",
     "output_type": "stream",
     "text": [
      "Train: (6320, 20), Validation: (1351, 20), Test: (1354, 20)\n"
     ]
    }
   ],
   "source": [
    "X = df.drop('target', axis=1)\n",
    "y = df['target']\n",
    "\n",
    "# Step 2: Train+Val vs Test (85% / 15%)\n",
    "X_temp, X_test, y_temp, y_test = train_test_split(\n",
    "    X, y, test_size=0.15, stratify=y, random_state=42\n",
    ")\n",
    "\n",
    "# Step 3: Train vs Val (from 85%, split ~70:15 original ratio)\n",
    "X_train, X_val, y_train, y_val = train_test_split(\n",
    "    X_temp, y_temp, test_size=0.176, stratify=y_temp, random_state=42\n",
    ")\n",
    "\n",
    "# Output shapes\n",
    "print(f\"Train: {X_train.shape}, Validation: {X_val.shape}, Test: {X_test.shape}\")\n"
   ]
  },
  {
   "cell_type": "code",
   "execution_count": 77,
   "metadata": {},
   "outputs": [
    {
     "name": "stdout",
     "output_type": "stream",
     "text": [
      "Class counts per split:\n",
      " Class       Binding Protein  Hyperthyroid  Hypothyroid  Negative  \\\n",
      "Split                                                              \n",
      "Test                     57            29           90      1015   \n",
      "Train                   263           137          421      4739   \n",
      "Validation               56            29           90      1013   \n",
      "\n",
      "Class       Non-thyroidal Illness  Replacement Therapy  Treatment Effect  \n",
      "Split                                                                     \n",
      "Test                          108                   50                 5  \n",
      "Train                         502                  235                23  \n",
      "Validation                    107                   51                 5  \n"
     ]
    },
    {
     "data": {
      "image/png": "[encoded data removed]",
      "text/plain": [
       "<Figure size 1000x600 with 1 Axes>"
      ]
     },
     "metadata": {},
     "output_type": "display_data"
    }
   ],
   "source": [
    "# Combine the target data (y_train, y_val, y_test) into a single DataFrame with their respective splits\n",
    "split_labels = ['Train'] * len(y_train) + ['Validation'] * len(y_val) + ['Test'] * len(y_test)\n",
    "combined_y = pd.concat([y_train, y_val, y_test], axis=0).reset_index(drop=True)\n",
    "split_df = pd.DataFrame({'Split': split_labels, 'Class': combined_y})\n",
    "\n",
    "# Calculate and print the class counts for each split\n",
    "class_counts = split_df.groupby(['Split', 'Class']).size().unstack(fill_value=0)\n",
    "print(\"Class counts per split:\\n\", class_counts)\n",
    "\n",
    "# Plot the class distribution per split\n",
    "plt.figure(figsize=(10, 6))\n",
    "sns.countplot(data=split_df, x='Class', hue='Split')\n",
    "plt.title('Class Distribution Across Train, Validation, and Test Sets')\n",
    "plt.xlabel('Class Label')\n",
    "plt.ylabel('Count')\n",
    "plt.legend(title='Dataset Split')\n",
    "plt.xticks(rotation=45)\n",
    "plt.tight_layout()\n",
    "plt.show()\n"
   ]
  },
  {
   "cell_type": "markdown",
   "metadata": {
    "ExecuteTime": {
     "end_time": "2025-05-03T20:20:25.163553Z",
     "start_time": "2025-05-03T20:20:25.161024Z"
    }
   },
   "source": [
    "# Data imputing "
   ]
  },
  {
   "cell_type": "markdown",
   "metadata": {},
   "source": [
    "Adding data imputation to handle missing values in 'TSH', 'T3', 'TT4', 'T4U' columns. We are adding median values instead missed values. \n",
    "The imputation is being added into Train set, then validation and test sets were transformed for consistency."
   ]
  },
  {
   "cell_type": "code",
   "execution_count": 80,
   "metadata": {},
   "outputs": [
    {
     "name": "stdout",
     "output_type": "stream",
     "text": [
      "Train: (6320, 20), Validation: (1351, 20), Test: (1354, 20)\n"
     ]
    }
   ],
   "source": [
    "# Impute missing values for numerical columns (TSH, T3, TT4, T4U)\n",
    "num_cols = ['TSH', 'T3', 'TT4', 'T4U']\n",
    "\n",
    "imputer = SimpleImputer(strategy='median')\n",
    "\n",
    "# Fit and transform the imputer on the training data, then transform on test and validation\n",
    "X_train[num_cols] = imputer.fit_transform(X_train[num_cols])\n",
    "X_val[num_cols] = imputer.transform(X_val[num_cols])\n",
    "X_test[num_cols] = imputer.transform(X_test[num_cols])\n",
    "\n",
    "# Output the shapes to verify\n",
    "print(f\"Train: {X_train.shape}, Validation: {X_val.shape}, Test: {X_test.shape}\")\n"
   ]
  },
  {
   "cell_type": "markdown",
   "metadata": {},
   "source": [
    "# Data encoding "
   ]
  },
  {
   "cell_type": "code",
   "execution_count": 82,
   "metadata": {},
   "outputs": [
    {
     "name": "stdout",
     "output_type": "stream",
     "text": [
      "age                      int64\n",
      "sex                     object\n",
      "on_thyroxine            object\n",
      "query_on_thyroxine      object\n",
      "on_antithyroid_meds     object\n",
      "sick                    object\n",
      "pregnant                object\n",
      "thyroid_surgery         object\n",
      "I131_treatment          object\n",
      "query_hypothyroid       object\n",
      "query_hyperthyroid      object\n",
      "lithium                 object\n",
      "goitre                  object\n",
      "tumor                   object\n",
      "hypopituitary           object\n",
      "psych                   object\n",
      "TSH                    float64\n",
      "T3                     float64\n",
      "TT4                    float64\n",
      "T4U                    float64\n",
      "target                  object\n",
      "dtype: object\n"
     ]
    }
   ],
   "source": [
    "# Check the unique data types for each column\n",
    "print(df.dtypes)"
   ]
  },
  {
   "cell_type": "code",
   "execution_count": 83,
   "metadata": {},
   "outputs": [
    {
     "name": "stdout",
     "output_type": "stream",
     "text": [
      "Unique values in 'sex': ['F' 'M']\n",
      "Unique values in 'on_thyroxine': ['f' 't']\n",
      "Unique values in 'query_on_thyroxine': ['f' 't']\n",
      "Unique values in 'on_antithyroid_meds': ['f' 't']\n",
      "Unique values in 'sick': ['f' 't']\n",
      "Unique values in 'pregnant': ['f' 't']\n",
      "Unique values in 'thyroid_surgery': ['f' 't']\n",
      "Unique values in 'I131_treatment': ['f' 't']\n",
      "Unique values in 'query_hypothyroid': ['t' 'f']\n",
      "Unique values in 'query_hyperthyroid': ['f' 't']\n",
      "Unique values in 'lithium': ['f' 't']\n",
      "Unique values in 'goitre': ['f' 't']\n",
      "Unique values in 'tumor': ['f' 't']\n",
      "Unique values in 'hypopituitary': ['f' 't']\n",
      "Unique values in 'psych': ['f' 't']\n",
      "Unique values in 'target': ['Negative' 'Non-thyroidal Illness' 'Hypothyroid' 'Binding Protein'\n",
      " 'Replacement Therapy' 'Hyperthyroid' 'Treatment Effect']\n"
     ]
    }
   ],
   "source": [
    "# Check the unique values for each categorical column\n",
    "for col in df.columns:\n",
    "    if df[col].dtype == 'object':  # For categorical columns\n",
    "        print(f\"Unique values in '{col}': {df[col].unique()}\")"
   ]
  },
  {
   "cell_type": "markdown",
   "metadata": {},
   "source": [
    "1. Label encoding for binary values in columns 'sex', 'on_thyroxine', 'query_on_thyroxine', 'on_antithyroid_meds', 'sick', 'pregnant', 'thyroid_surgery', 'I131_treatment', 'query_hypothyroid', 'query_hyperthyroid', 'lithium', 'goitre', 'tumor', 'hypopituitary', 'psych'.\n",
    "3. Label Encoding for the target variable"
   ]
  },
  {
   "cell_type": "code",
   "execution_count": 85,
   "metadata": {},
   "outputs": [
    {
     "name": "stdout",
     "output_type": "stream",
     "text": [
      "Train X shape: (6320, 20)\n",
      "Validation X shape: (1351, 20)\n",
      "Test X shape: (1354, 20)\n",
      "Train y shape: (6320,)\n",
      "Validation y shape: (1351,)\n",
      "Test y shape: (1354,)\n"
     ]
    }
   ],
   "source": [
    "# Define LabelEncoder\n",
    "le = LabelEncoder()\n",
    "\n",
    "# Binary categorical columns\n",
    "binary_cols = ['sex', 'on_thyroxine', 'query_on_thyroxine', 'on_antithyroid_meds', 'sick',\n",
    "               'pregnant', 'thyroid_surgery', 'I131_treatment', 'query_hypothyroid', 'query_hyperthyroid',\n",
    "               'lithium', 'goitre', 'tumor', 'hypopituitary', 'psych']\n",
    "\n",
    "# Apply Label Encoding for binary columns\n",
    "for col in binary_cols:\n",
    "    X_train[col] = le.fit_transform(X_train[col])\n",
    "    X_val[col] = le.transform(X_val[col])  # Ensure no data leakage from the validation set\n",
    "    X_test[col] = le.transform(X_test[col])\n",
    "    \n",
    "# Ensure consistent column alignment across all sets\n",
    "# Align columns by adding missing columns in validation/test if needed (from train set)\n",
    "# After encoding binary columns\n",
    "X_val_aligned, _ = X_val.align(X_train, join='left', axis=1, fill_value=0)\n",
    "X_test_aligned, _ = X_test.align(X_train, join='left', axis=1, fill_value=0)\n",
    "\n",
    "X_val = X_val_aligned\n",
    "X_test = X_test_aligned\n",
    "\n",
    "# Check the shapes after encoding\n",
    "print(f\"Train X shape: {X_train.shape}\")\n",
    "print(f\"Validation X shape: {X_val.shape}\")\n",
    "print(f\"Test X shape: {X_test.shape}\")\n",
    "\n",
    "# Encode the target variable (y)\n",
    "y_train = le.fit_transform(y_train)\n",
    "y_val = le.transform(y_val)  # Use transform to avoid data leakage\n",
    "y_test = le.transform(y_test)\n",
    "\n",
    "# Check the shapes after encoding\n",
    "print(f\"Train y shape: {y_train.shape}\")\n",
    "print(f\"Validation y shape: {y_val.shape}\")\n",
    "print(f\"Test y shape: {y_test.shape}\")"
   ]
  },
  {
   "cell_type": "markdown",
   "metadata": {},
   "source": [
    "# Data scaling "
   ]
  },
  {
   "cell_type": "markdown",
   "metadata": {},
   "source": [
    "Numeric columns in the dataset: ['age', 'TSH', 'T3', 'TT4', 'T4U']"
   ]
  },
  {
   "cell_type": "code",
   "execution_count": 88,
   "metadata": {},
   "outputs": [
    {
     "name": "stdout",
     "output_type": "stream",
     "text": [
      "              age          TSH           T3          TT4          T4U\n",
      "count  6320.00000  6320.000000  6320.000000  6320.000000  6320.000000\n",
      "mean     51.98038     4.436744     1.965611   108.291361     0.975215\n",
      "std      18.86952    19.193283     0.770075    36.105811     0.192839\n",
      "min       1.00000     0.005000     0.050000     2.000000     0.170000\n",
      "25%      37.00000     0.600000     1.700000    89.000000     0.870000\n",
      "50%      55.00000     1.400000     1.900000   104.000000     0.960000\n",
      "75%      67.00000     2.500000     2.200000   123.000000     1.050000\n",
      "max      97.00000   500.000000    18.000000   450.000000     2.330000\n"
     ]
    }
   ],
   "source": [
    "print(X_train[['age', 'TSH', 'T3', 'TT4', 'T4U']].describe())"
   ]
  },
  {
   "cell_type": "markdown",
   "metadata": {},
   "source": [
    "Scaling is necessary in all columns as they have widely different scales. "
   ]
  },
  {
   "cell_type": "code",
   "execution_count": 90,
   "metadata": {},
   "outputs": [
    {
     "name": "stdout",
     "output_type": "stream",
     "text": [
      "Train X shape: (6320, 20)\n",
      "Validation X shape: (1351, 20)\n",
      "Test X shape: (1354, 20)\n",
      "Train y shape: (6320,)\n",
      "Validation y shape: (1351,)\n",
      "Test y shape: (1354,)\n"
     ]
    }
   ],
   "source": [
    "# Features to scale\n",
    "scale_cols = ['age', 'TSH', 'T3', 'TT4', 'T4U']\n",
    "\n",
    "# Initialize scaler\n",
    "scaler = StandardScaler()\n",
    "\n",
    "# Fit on training only (to prevent data leakage), transform all\n",
    "X_train[scale_cols] = scaler.fit_transform(X_train[scale_cols])\n",
    "X_val[scale_cols] = scaler.transform(X_val[scale_cols])\n",
    "X_test[scale_cols] = scaler.transform(X_test[scale_cols])\n",
    "# Check the shapes after scaling\n",
    "print(f\"Train X shape: {X_train.shape}\")\n",
    "print(f\"Validation X shape: {X_val.shape}\")\n",
    "print(f\"Test X shape: {X_test.shape}\")\n",
    "# Check the shapes after scaling\n",
    "print(f\"Train y shape: {y_train.shape}\")\n",
    "print(f\"Validation y shape: {y_val.shape}\")\n",
    "print(f\"Test y shape: {y_test.shape}\")"
   ]
  },
  {
   "cell_type": "markdown",
   "metadata": {},
   "source": [
    "# UDF to plot AU-PRC Curve"
   ]
  },
  {
   "cell_type": "code",
   "execution_count": 92,
   "metadata": {
    "ExecuteTime": {
     "end_time": "2025-05-03T20:20:34.462073Z",
     "start_time": "2025-05-03T20:20:34.451859Z"
    }
   },
   "outputs": [],
   "source": [
    "# Creating a function 'au_prc' to plot AU-PRC curve along with Average Precision for each class\n",
    "def au_prc(y_test_data, y_score_data):\n",
    "    from sklearn.metrics import precision_recall_curve, average_precision_score\n",
    "    from sklearn.preprocessing import label_binarize\n",
    "    import matplotlib.pyplot as plt\n",
    "    import numpy as np\n",
    "    \n",
    "    # Binarize the labels for multi-class OvR\n",
    "    classes = np.unique(y_test_data)\n",
    "    y_true_binarized = label_binarize(y_test_data, classes=classes)\n",
    "    \n",
    "    # Store precision-recall metrics for each class\n",
    "    precision_dict = {}\n",
    "    recall_dict = {}\n",
    "    average_precision_dict = {}\n",
    "    \n",
    "    for i, class_label in enumerate(classes):\n",
    "        precision_dict[class_label], recall_dict[class_label], _ = precision_recall_curve(\n",
    "            y_true_binarized[:, i], y_score_data[:, i]\n",
    "        )\n",
    "        average_precision_dict[class_label] = average_precision_score(\n",
    "            y_true_binarized[:, i], y_score_data[:, i]\n",
    "        )\n",
    "    \n",
    "    # Compute micro-average PR curve\n",
    "    precision_micro, recall_micro, _ = precision_recall_curve(\n",
    "        y_true_binarized.ravel(), y_score_data.ravel()\n",
    "    )\n",
    "    average_precision_micro = average_precision_score(y_true_binarized, y_score_data, average=\"micro\")\n",
    "    \n",
    "    # Plot Precision-Recall Curve\n",
    "    plt.figure(figsize=(8, 6))\n",
    "    for class_label in classes:\n",
    "        plt.plot(\n",
    "            recall_dict[class_label], \n",
    "            precision_dict[class_label], \n",
    "            label=f\"Class {class_label} (AP = {average_precision_dict[class_label]:.2f})\"\n",
    "        )\n",
    "    \n",
    "    # Add micro-average curve\n",
    "    plt.plot(\n",
    "        recall_micro, \n",
    "        precision_micro, \n",
    "        label=f\"Micro-Average (AP = {average_precision_micro:.2f})\", \n",
    "        color='gold', linestyle='--'\n",
    "    )\n",
    "    \n",
    "    plt.xlabel(\"Recall\")\n",
    "    plt.ylabel(\"Precision\")\n",
    "    plt.title(\"Precision-Recall Curve for Multi-Class Classification\")\n",
    "    plt.legend(loc=\"best\")\n",
    "    plt.grid()\n",
    "    plt.show()\n"
   ]
  },
  {
   "cell_type": "code",
   "execution_count": 93,
   "metadata": {},
   "outputs": [
    {
     "name": "stdout",
     "output_type": "stream",
     "text": [
      "X_test shape: (1354, 20)\n",
      "y_test shape: (1354,)\n"
     ]
    }
   ],
   "source": [
    "print(f'X_test shape: {X_test.shape}')\n",
    "print(f'y_test shape: {y_test.shape}')"
   ]
  },
  {
   "cell_type": "markdown",
   "metadata": {},
   "source": [
    "# Data Modelling"
   ]
  },
  {
   "cell_type": "markdown",
   "metadata": {},
   "source": [
    "## Logistic Regression"
   ]
  },
  {
   "cell_type": "code",
   "execution_count": 96,
   "metadata": {
    "ExecuteTime": {
     "end_time": "2025-05-03T20:24:33.445139Z",
     "start_time": "2025-05-03T20:24:31.340374Z"
    }
   },
   "outputs": [
    {
     "name": "stdout",
     "output_type": "stream",
     "text": [
      "\n",
      "Confusion Matrix:\n",
      " [[ 22   3   0  30   2   0   0]\n",
      " [  4  19   0   5   0   1   0]\n",
      " [  0   0  61  28   1   0   0]\n",
      " [  5   2   1 992  10   5   0]\n",
      " [  1   0   0  73  33   1   0]\n",
      " [  0   0   0  24   0  26   0]\n",
      " [  0   0   1   4   0   0   0]]\n",
      "\n",
      "Accuracy: 0.8515509601181684\n",
      "\n",
      "Class 0: Average Precision = 0.5666509102288604\n",
      "Class 1: Average Precision = 0.7623104061977627\n",
      "Class 2: Average Precision = 0.9611622642707014\n",
      "Class 3: Average Precision = 0.938601793026086\n",
      "Class 4: Average Precision = 0.5209215352542863\n",
      "Class 5: Average Precision = 0.6901723459042207\n",
      "Class 6: Average Precision = 0.2907349896480331\n",
      "Micro-average Precision Score: 0.8960512145101439\n"
     ]
    },
    {
     "data": {
      "image/png": "[encoded data removed]",
      "text/plain": [
       "<Figure size 800x600 with 1 Axes>"
      ]
     },
     "metadata": {},
     "output_type": "display_data"
    }
   ],
   "source": [
    "from sklearn.linear_model import LogisticRegression\n",
    "from sklearn.metrics import accuracy_score, confusion_matrix, average_precision_score\n",
    "from sklearn.preprocessing import label_binarize\n",
    "\n",
    "# Assume your data is already split into X_train, X_test, y_train, y_test\n",
    "# For instance, X_train and y_train are your training features and labels\n",
    "# Logistic Regression Model\n",
    "lr = LogisticRegression(max_iter=200, random_state=42)\n",
    "\n",
    "# Train the model\n",
    "lr.fit(X_train, y_train)\n",
    "\n",
    "# Make Predictions\n",
    "y_pred = lr.predict(X_test)\n",
    "y_score = lr.predict_proba(X_test)  # for average precision score\n",
    "\n",
    "# Binarize the target for multiclass precision\n",
    "y_test_binarized = label_binarize(y_test, classes=lr.classes_)\n",
    "\n",
    "# Evaluate\n",
    "print(f'\\nConfusion Matrix:\\n {confusion_matrix(y_test, y_pred)}\\n')\n",
    "print(f'Accuracy: {accuracy_score(y_test, y_pred)}\\n')\n",
    "\n",
    "# Compute Average Precision Score for each class\n",
    "average_precisions = []\n",
    "for i, class_label in enumerate(lr.classes_):\n",
    "    avg_precision = average_precision_score(y_test_binarized[:, i], y_score[:, i])\n",
    "    average_precisions.append(avg_precision)\n",
    "    print(f'Class {class_label}: Average Precision = {avg_precision}')\n",
    "\n",
    "# Micro Average Precision (unweighted mean)\n",
    "print(f\"Micro-average Precision Score: {average_precision_score(y_test_binarized, y_score, average='micro')}\")\n",
    "\n",
    "au_prc(y_test_data=y_test, y_score_data=y_score)  \n"
   ]
  },
  {
   "cell_type": "markdown",
   "metadata": {},
   "source": [
    "## Random Forest Classifier"
   ]
  },
  {
   "cell_type": "code",
   "execution_count": 99,
   "metadata": {
    "ExecuteTime": {
     "end_time": "2025-05-03T20:25:23.777114Z",
     "start_time": "2025-05-03T20:25:12.929362Z"
    }
   },
   "outputs": [
    {
     "name": "stdout",
     "output_type": "stream",
     "text": [
      "\n",
      " [[ 41   3   0  12   1   0   0]\n",
      " [  5  18   0   4   2   0   0]\n",
      " [  0   0  86   0   2   1   1]\n",
      " [  8   3   1 976  24   3   0]\n",
      " [  1   2   0  33  72   0   0]\n",
      " [  0   0   0  13   1  36   0]\n",
      " [  0   0   1   2   1   0   1]]\n",
      "\n",
      "Accuracy: 0.9084194977843427\n",
      "\n",
      "Class 0: Average Precision = 0.849500954901345\n",
      "Class 1: Average Precision = 0.8061196725089043\n",
      "Class 2: Average Precision = 0.9955294135507167\n",
      "Class 3: Average Precision = 0.9905323580447626\n",
      "Class 4: Average Precision = 0.7627974834777408\n",
      "Class 5: Average Precision = 0.8975208121512936\n",
      "Class 6: Average Precision = 0.5911111111111111\n",
      "Micro-average Precision Score: 0.9746931009256258\n"
     ]
    },
    {
     "data": {
      "image/png": "[encoded data removed]",
      "text/plain": [
       "<Figure size 800x600 with 1 Axes>"
      ]
     },
     "metadata": {},
     "output_type": "display_data"
    }
   ],
   "source": [
    "from sklearn.ensemble import RandomForestClassifier\n",
    "\n",
    "# Training Random Forest Classifier\n",
    "rf = RandomForestClassifier(random_state=42)\n",
    "rf.fit(X_train, y_train)\n",
    "\n",
    "# Making Predictions\n",
    "y_pred = rf.predict(X_test)\n",
    "y_score = rf.predict_proba(X_test)\n",
    "\n",
    "# Binarize the target for multiclass precision\n",
    "y_test_binarized = label_binarize(y_test, classes=lr.classes_)\n",
    "\n",
    "#Evaluate\n",
    "print(f'\\n {confusion_matrix(y_test, y_pred)}\\n')\n",
    "print(f'Accuracy: {accuracy_score(y_test, y_pred)}\\n')\n",
    "# Compute Average Precision Score for each class\n",
    "average_precisions = []\n",
    "for i, class_label in enumerate(lr.classes_):\n",
    "    avg_precision = average_precision_score(y_test_binarized[:, i], y_score[:, i])\n",
    "    average_precisions.append(avg_precision)\n",
    "    print(f'Class {class_label}: Average Precision = {avg_precision}')\n",
    "# Micro Average Precision (unweighted mean)\n",
    "print(f\"Micro-average Precision Score: {average_precision_score(y_test_binarized, y_score, average='micro')}\")\n",
    "au_prc(y_test_data= y_test, y_score_data= y_score)"
   ]
  },
  {
   "cell_type": "code",
   "execution_count": 103,
   "metadata": {
    "ExecuteTime": {
     "end_time": "2025-05-03T20:29:43.076749Z",
     "start_time": "2025-05-03T20:29:42.424958Z"
    }
   },
   "outputs": [],
   "source": [
    "# Training Random Forest Clssifier with customized Class Weights\n",
    "rf2 = RandomForestClassifier(random_state=42, class_weight={'0':1500, '1':100, '2':25})\n",
    "rf2.fit(X_train, y_train)\n",
    "\n",
    "# Making Predictions\n",
    "y_pred = rf2.predict(X_test)\n",
    "y_score = rf2.predict_proba(X_test)\n",
    "\n",
    "# Binarize the target for multiclass precision\n",
    "y_test_binarized = label_binarize(y_test, classes=lr.classes_)\n",
    "\n",
    "#Evaluate\n",
    "print(f'\\n {confusion_matrix(y_test, y_pred)}\\n')\n",
    "print(f'Accuracy: {accuracy_score(y_test, y_pred)}\\n')\n",
    "# Compute Average Precision Score for each class\n",
    "average_precisions = []\n",
    "for i, class_label in enumerate(lr.classes_):\n",
    "    avg_precision = average_precision_score(y_test_binarized[:, i], y_score[:, i])\n",
    "    average_precisions.append(avg_precision)\n",
    "    print(f'Class {class_label}: Average Precision = {avg_precision}')\n",
    "# Micro Average Precision (unweighted mean)\n",
    "print(f\"Micro-average Precision Score: {average_precision_score(y_test_binarized, y_score, average='micro')}\")\n",
    "au_prc(y_test_data= y_test, y_score_data= y_score)"
   ]
  },
  {
   "cell_type": "markdown",
   "metadata": {},
   "source": [
    "## Gradient Boosting Classifier"
   ]
  },
  {
   "cell_type": "code",
   "execution_count": 106,
   "metadata": {
    "ExecuteTime": {
     "end_time": "2025-05-03T20:29:58.771004Z",
     "start_time": "2025-05-03T20:29:53.747996Z"
    }
   },
   "outputs": [
    {
     "name": "stdout",
     "output_type": "stream",
     "text": [
      "\n",
      " [[ 53   3   0   1   0   0   0]\n",
      " [  1  26   0   1   1   0   0]\n",
      " [  0   0  83   0   2   3   2]\n",
      " [ 30   8   1 874  78  24   0]\n",
      " [  1   3   0  15  89   0   0]\n",
      " [  0   0   0   2   1  47   0]\n",
      " [  0   0   0   0   0   0   5]]\n",
      "\n",
      "Accuracy: 0.8692762186115214\n",
      "\n",
      "Class 0: Average Precision = 0.8152467613422103\n",
      "Class 1: Average Precision = 0.8794861902281117\n",
      "Class 2: Average Precision = 0.9946970858510492\n",
      "Class 3: Average Precision = 0.9863230908578587\n",
      "Class 4: Average Precision = 0.7045480415002405\n",
      "Class 5: Average Precision = 0.8950575974101193\n",
      "Class 6: Average Precision = 0.8761904761904762\n",
      "Micro-average Precision Score: 0.9341610523803203\n"
     ]
    },
    {
     "data": {
      "image/png": "[encoded data removed]",
      "text/plain": [
       "<Figure size 800x600 with 1 Axes>"
      ]
     },
     "metadata": {},
     "output_type": "display_data"
    }
   ],
   "source": [
    "from sklearn.utils.class_weight import compute_sample_weight\n",
    "from sklearn.ensemble import GradientBoostingClassifier\n",
    "\n",
    "# Compute sample weights to balance the classes\n",
    "sample_weights = compute_sample_weight(class_weight='balanced', y=y_train)\n",
    "\n",
    "# Train the GradientBoostingClassifier with the sample weights\n",
    "gb = GradientBoostingClassifier(random_state=10)\n",
    "gb.fit(X_train, y_train, sample_weight=sample_weights)\n",
    "\n",
    "# Making Predictions\n",
    "y_pred = gb.predict(X_test)\n",
    "y_score = gb.predict_proba(X_test)\n",
    "\n",
    "# Binarize the target for multiclass precision\n",
    "y_test_binarized = label_binarize(y_test, classes=lr.classes_)\n",
    "\n",
    "#Evaluate\n",
    "print(f'\\n {confusion_matrix(y_test, y_pred)}\\n')\n",
    "print(f'Accuracy: {accuracy_score(y_test, y_pred)}\\n')\n",
    "# Compute Average Precision Score for each class\n",
    "average_precisions = []\n",
    "for i, class_label in enumerate(lr.classes_):\n",
    "    avg_precision = average_precision_score(y_test_binarized[:, i], y_score[:, i])\n",
    "    average_precisions.append(avg_precision)\n",
    "    print(f'Class {class_label}: Average Precision = {avg_precision}')\n",
    "# Micro Average Precision (unweighted mean)\n",
    "print(f\"Micro-average Precision Score: {average_precision_score(y_test_binarized, y_score, average='micro')}\")\n",
    "au_prc(y_test_data= y_test, y_score_data= y_score)"
   ]
  },
  {
   "cell_type": "markdown",
   "metadata": {},
   "source": [
    "## XGBoost Classifier"
   ]
  },
  {
   "cell_type": "code",
   "execution_count": 125,
   "metadata": {
    "ExecuteTime": {
     "end_time": "2025-05-03T20:42:59.653253Z",
     "start_time": "2025-05-03T20:42:56.707495Z"
    }
   },
   "outputs": [
    {
     "name": "stderr",
     "output_type": "stream",
     "text": [
      "/opt/anaconda3/lib/python3.12/site-packages/xgboost/training.py:183: UserWarning: [00:07:33] WARNING: /Users/runner/work/xgboost/xgboost/src/learner.cc:738: \n",
      "Parameters: { \"scale_pos_weight\", \"use_label_encoder\" } are not used.\n",
      "\n",
      "  bst.update(dtrain, iteration=i, fobj=obj)\n"
     ]
    },
    {
     "name": "stdout",
     "output_type": "stream",
     "text": [
      "\n",
      " [[ 52   3   0   2   0   0   0]\n",
      " [  2  25   0   1   1   0   0]\n",
      " [  0   0  83   0   2   4   1]\n",
      " [ 15   3   1 923  66   6   1]\n",
      " [  1   2   0  10  95   0   0]\n",
      " [  0   0   0   3   2  45   0]\n",
      " [  0   0   0   0   1   0   4]]\n",
      "\n",
      "Accuracy: 0.9062038404726735\n",
      "\n",
      "Class 0: Average Precision = 0.9384183362266\n",
      "Class 1: Average Precision = 0.8714993297051083\n",
      "Class 2: Average Precision = 0.9913769926803375\n",
      "Class 3: Average Precision = 0.9953258284435547\n",
      "Class 4: Average Precision = 0.8130174853284245\n",
      "Class 5: Average Precision = 0.9156438754964722\n",
      "Class 6: Average Precision = 0.8211111111111111\n",
      "Micro-average Precision Score: 0.9751566776113435\n"
     ]
    },
    {
     "data": {
      "image/png": "[encoded data removed]",
      "text/plain": [
       "<Figure size 800x600 with 1 Axes>"
      ]
     },
     "metadata": {},
     "output_type": "display_data"
    }
   ],
   "source": [
    "from sklearn.utils.class_weight import compute_sample_weight\n",
    "from xgboost import XGBClassifier\n",
    "\n",
    "# Compute sample weights to balance the classes\n",
    "sample_weights = compute_sample_weight(class_weight='balanced', y=y_train)\n",
    "\n",
    "# Train the XGBoostingClassifier with the sample weights\n",
    "xgb = XGBClassifier(\n",
    "    random_state=10,\n",
    "    eval_metric='mlogloss',\n",
    "    scale_pos_weight=1,  \n",
    "    use_label_encoder=False,\n",
    "    max_depth=6,\n",
    "    learning_rate=0.1,\n",
    "    n_estimators=200\n",
    ")\n",
    "\n",
    "xgb.fit(X_train, y_train, sample_weight=sample_weights)\n",
    "\n",
    "# Making Predictions\n",
    "y_pred = xgb.predict(X_test)\n",
    "y_score = xgb.predict_proba(X_test)\n",
    "\n",
    "# Binarize the target for multiclass precision\n",
    "y_test_binarized = label_binarize(y_test, classes=lr.classes_)\n",
    "\n",
    "#Evaluate\n",
    "print(f'\\n {confusion_matrix(y_test, y_pred)}\\n')\n",
    "print(f'Accuracy: {accuracy_score(y_test, y_pred)}\\n')\n",
    "# Compute Average Precision Score for each class\n",
    "average_precisions = []\n",
    "for i, class_label in enumerate(lr.classes_):\n",
    "    avg_precision = average_precision_score(y_test_binarized[:, i], y_score[:, i])\n",
    "    average_precisions.append(avg_precision)\n",
    "    print(f'Class {class_label}: Average Precision = {avg_precision}')\n",
    "print(f\"Micro-average Precision Score: {average_precision_score(y_test_binarized, y_score, average='micro')}\")\n",
    "au_prc(y_test_data= y_test, y_score_data= y_score)"
   ]
  },
  {
   "cell_type": "markdown",
   "metadata": {},
   "source": [
    "## Support Vector Machine"
   ]
  },
  {
   "cell_type": "code",
   "execution_count": 127,
   "metadata": {
    "ExecuteTime": {
     "end_time": "2025-05-03T20:39:04.339989Z",
     "start_time": "2025-05-03T20:38:49.181524Z"
    }
   },
   "outputs": [
    {
     "name": "stderr",
     "output_type": "stream",
     "text": [
      "/opt/anaconda3/lib/python3.12/site-packages/sklearn/base.py:486: UserWarning: X has feature names, but SVC was fitted without feature names\n",
      "  warnings.warn(\n",
      "/opt/anaconda3/lib/python3.12/site-packages/sklearn/base.py:486: UserWarning: X has feature names, but SVC was fitted without feature names\n",
      "  warnings.warn(\n"
     ]
    },
    {
     "name": "stdout",
     "output_type": "stream",
     "text": [
      "\n",
      "Confusion Matrix:\n",
      "[[ 52   4   0   0   1   0   0]\n",
      " [  5  22   0   0   2   0   0]\n",
      " [  3   0  84   0   3   0   0]\n",
      " [114  12  87   3 799   0   0]\n",
      " [  2  17   0   0  89   0   0]\n",
      " [  5  11  16   0  15   3   0]\n",
      " [  1   0   2   0   2   0   0]]\n",
      "\n",
      "Accuracy: 0.1869\n",
      "\n",
      "Class Hyperthyroid: Average Precision = 0.6178\n",
      "Class Hypothyroid: Average Precision = 0.6603\n",
      "Class Negative: Average Precision = 0.8748\n",
      "Class Non-thyroidal Illness: Average Precision = 0.9403\n",
      "Class Replacement Therapy: Average Precision = 0.4438\n",
      "Class Treatment Effect: Average Precision = 0.5961\n",
      "Class Binding Protein: Average Precision = 0.0693\n",
      "Micro-average Precision Score: 0.8891\n"
     ]
    }
   ],
   "source": [
    "from sklearn.svm import SVC\n",
    "from sklearn.utils.class_weight import compute_sample_weight\n",
    "from sklearn.preprocessing import label_binarize, StandardScaler\n",
    "from sklearn.metrics import confusion_matrix, accuracy_score, average_precision_score\n",
    "\n",
    "# Standardize Features (SVM Performs Better with Normalized Data)\n",
    "scaler = StandardScaler()\n",
    "x_train = scaler.fit_transform(X_train)\n",
    "x_test = scaler.transform(X_test)\n",
    "\n",
    "# Compute Sample Weights to Balance the Classes\n",
    "sample_weights = compute_sample_weight(class_weight='balanced', y=y_train)\n",
    "\n",
    "# Train Support Vector Machine (SVM) Classifier\n",
    "svm = SVC(kernel='rbf', probability=True, class_weight='balanced', random_state=10)\n",
    "svm.fit(x_train, y_train, sample_weight=sample_weights)\n",
    "\n",
    "# Making Predictions\n",
    "y_pred = svm.predict(X_test)\n",
    "y_score = svm.predict_proba(X_test)  # Get class probabilities\n",
    "\n",
    "# Binarize the target for multiclass precision\n",
    "y_test_binarized = label_binarize(y_test, classes=[0, 1, 2, 3, 4, 5, 6])\n",
    "\n",
    "# Evaluate Performance\n",
    "print(f'\\nConfusion Matrix:\\n{confusion_matrix(y_test, y_pred)}\\n')\n",
    "print(f'Accuracy: {accuracy_score(y_test, y_pred):.4f}\\n')\n",
    "\n",
    "# Compute Average Precision Score for each class\n",
    "average_precisions = []\n",
    "for i, class_label in enumerate(target_map.keys()):\n",
    "    if y_test_binarized[:, i].sum() > 0:  # Ensure at least one sample in the class\n",
    "        avg_precision = average_precision_score(y_test_binarized[:, i], y_score[:, i])\n",
    "    else:\n",
    "        avg_precision = 0  # Avoid errors in case of missing class\n",
    "    average_precisions.append(avg_precision)\n",
    "    print(f'Class {class_label}: Average Precision = {avg_precision:.4f}')\n",
    "\n",
    "# Micro-average Precision Score\n",
    "print(f\"Micro-average Precision Score: {average_precision_score(y_test_binarized, y_score, average='micro'):.4f}\")\n"
   ]
  },
  {
   "cell_type": "markdown",
   "metadata": {},
   "source": [
    "## Deep Learning Models\n"
   ]
  },
  {
   "cell_type": "code",
   "execution_count": 133,
   "metadata": {
    "ExecuteTime": {
     "end_time": "2025-05-03T20:36:46.787819Z",
     "start_time": "2025-05-03T20:36:33.816231Z"
    }
   },
   "outputs": [
    {
     "name": "stdout",
     "output_type": "stream",
     "text": [
      "Epoch 1/50\n"
     ]
    },
    {
     "name": "stderr",
     "output_type": "stream",
     "text": [
      "/opt/anaconda3/lib/python3.12/site-packages/keras/src/layers/core/dense.py:87: UserWarning: Do not pass an `input_shape`/`input_dim` argument to a layer. When using Sequential models, prefer using an `Input(shape)` object as the first layer in the model instead.\n",
      "  super().__init__(activity_regularizer=activity_regularizer, **kwargs)\n"
     ]
    },
    {
     "ename": "ValueError",
     "evalue": "Arguments `target` and `output` must have the same rank (ndim). Received: target.shape=(None,), output.shape=(None, 7)",
     "output_type": "error",
     "traceback": [
      "\u001b[0;31m---------------------------------------------------------------------------\u001b[0m",
      "\u001b[0;31mValueError\u001b[0m                                Traceback (most recent call last)",
      "Cell \u001b[0;32mIn[133], line 37\u001b[0m\n\u001b[1;32m     32\u001b[0m model\u001b[38;5;241m.\u001b[39mcompile(optimizer\u001b[38;5;241m=\u001b[39mAdam(learning_rate\u001b[38;5;241m=\u001b[39m\u001b[38;5;241m0.001\u001b[39m), \n\u001b[1;32m     33\u001b[0m               loss\u001b[38;5;241m=\u001b[39m\u001b[38;5;124m'\u001b[39m\u001b[38;5;124mcategorical_crossentropy\u001b[39m\u001b[38;5;124m'\u001b[39m, \n\u001b[1;32m     34\u001b[0m               metrics\u001b[38;5;241m=\u001b[39m[\u001b[38;5;124m'\u001b[39m\u001b[38;5;124maccuracy\u001b[39m\u001b[38;5;124m'\u001b[39m])\n\u001b[1;32m     36\u001b[0m \u001b[38;5;66;03m# Train Model\u001b[39;00m\n\u001b[0;32m---> 37\u001b[0m history \u001b[38;5;241m=\u001b[39m model\u001b[38;5;241m.\u001b[39mfit(X_train, y_train, \n\u001b[1;32m     38\u001b[0m                     validation_data\u001b[38;5;241m=\u001b[39m(X_test, y_test), \n\u001b[1;32m     39\u001b[0m                     epochs\u001b[38;5;241m=\u001b[39m\u001b[38;5;241m50\u001b[39m, batch_size\u001b[38;5;241m=\u001b[39m\u001b[38;5;241m32\u001b[39m, \n\u001b[1;32m     40\u001b[0m                     class_weight\u001b[38;5;241m=\u001b[39mclass_weights_dict, \n\u001b[1;32m     41\u001b[0m                     verbose\u001b[38;5;241m=\u001b[39m\u001b[38;5;241m1\u001b[39m)\n\u001b[1;32m     43\u001b[0m \u001b[38;5;66;03m# Predictions\u001b[39;00m\n\u001b[1;32m     44\u001b[0m y_pred_prob \u001b[38;5;241m=\u001b[39m model\u001b[38;5;241m.\u001b[39mpredict(x_test)\n",
      "File \u001b[0;32m/opt/anaconda3/lib/python3.12/site-packages/keras/src/utils/traceback_utils.py:122\u001b[0m, in \u001b[0;36mfilter_traceback.<locals>.error_handler\u001b[0;34m(*args, **kwargs)\u001b[0m\n\u001b[1;32m    119\u001b[0m     filtered_tb \u001b[38;5;241m=\u001b[39m _process_traceback_frames(e\u001b[38;5;241m.\u001b[39m__traceback__)\n\u001b[1;32m    120\u001b[0m     \u001b[38;5;66;03m# To get the full stack trace, call:\u001b[39;00m\n\u001b[1;32m    121\u001b[0m     \u001b[38;5;66;03m# `keras.config.disable_traceback_filtering()`\u001b[39;00m\n\u001b[0;32m--> 122\u001b[0m     \u001b[38;5;28;01mraise\u001b[39;00m e\u001b[38;5;241m.\u001b[39mwith_traceback(filtered_tb) \u001b[38;5;28;01mfrom\u001b[39;00m \u001b[38;5;28;01mNone\u001b[39;00m\n\u001b[1;32m    123\u001b[0m \u001b[38;5;28;01mfinally\u001b[39;00m:\n\u001b[1;32m    124\u001b[0m     \u001b[38;5;28;01mdel\u001b[39;00m filtered_tb\n",
      "File \u001b[0;32m/opt/anaconda3/lib/python3.12/site-packages/keras/src/backend/tensorflow/nn.py:580\u001b[0m, in \u001b[0;36mcategorical_crossentropy\u001b[0;34m(target, output, from_logits, axis)\u001b[0m\n\u001b[1;32m    574\u001b[0m     \u001b[38;5;28;01mraise\u001b[39;00m \u001b[38;5;167;01mValueError\u001b[39;00m(\n\u001b[1;32m    575\u001b[0m         \u001b[38;5;124m\"\u001b[39m\u001b[38;5;124mArguments `target` and `output` must be at least rank 1. \u001b[39m\u001b[38;5;124m\"\u001b[39m\n\u001b[1;32m    576\u001b[0m         \u001b[38;5;124m\"\u001b[39m\u001b[38;5;124mReceived: \u001b[39m\u001b[38;5;124m\"\u001b[39m\n\u001b[1;32m    577\u001b[0m         \u001b[38;5;124mf\u001b[39m\u001b[38;5;124m\"\u001b[39m\u001b[38;5;124mtarget.shape=\u001b[39m\u001b[38;5;132;01m{\u001b[39;00mtarget\u001b[38;5;241m.\u001b[39mshape\u001b[38;5;132;01m}\u001b[39;00m\u001b[38;5;124m, output.shape=\u001b[39m\u001b[38;5;132;01m{\u001b[39;00moutput\u001b[38;5;241m.\u001b[39mshape\u001b[38;5;132;01m}\u001b[39;00m\u001b[38;5;124m\"\u001b[39m\n\u001b[1;32m    578\u001b[0m     )\n\u001b[1;32m    579\u001b[0m \u001b[38;5;28;01mif\u001b[39;00m \u001b[38;5;28mlen\u001b[39m(target\u001b[38;5;241m.\u001b[39mshape) \u001b[38;5;241m!=\u001b[39m \u001b[38;5;28mlen\u001b[39m(output\u001b[38;5;241m.\u001b[39mshape):\n\u001b[0;32m--> 580\u001b[0m     \u001b[38;5;28;01mraise\u001b[39;00m \u001b[38;5;167;01mValueError\u001b[39;00m(\n\u001b[1;32m    581\u001b[0m         \u001b[38;5;124m\"\u001b[39m\u001b[38;5;124mArguments `target` and `output` must have the same rank \u001b[39m\u001b[38;5;124m\"\u001b[39m\n\u001b[1;32m    582\u001b[0m         \u001b[38;5;124m\"\u001b[39m\u001b[38;5;124m(ndim). Received: \u001b[39m\u001b[38;5;124m\"\u001b[39m\n\u001b[1;32m    583\u001b[0m         \u001b[38;5;124mf\u001b[39m\u001b[38;5;124m\"\u001b[39m\u001b[38;5;124mtarget.shape=\u001b[39m\u001b[38;5;132;01m{\u001b[39;00mtarget\u001b[38;5;241m.\u001b[39mshape\u001b[38;5;132;01m}\u001b[39;00m\u001b[38;5;124m, output.shape=\u001b[39m\u001b[38;5;132;01m{\u001b[39;00moutput\u001b[38;5;241m.\u001b[39mshape\u001b[38;5;132;01m}\u001b[39;00m\u001b[38;5;124m\"\u001b[39m\n\u001b[1;32m    584\u001b[0m     )\n\u001b[1;32m    585\u001b[0m \u001b[38;5;28;01mfor\u001b[39;00m e1, e2 \u001b[38;5;129;01min\u001b[39;00m \u001b[38;5;28mzip\u001b[39m(target\u001b[38;5;241m.\u001b[39mshape, output\u001b[38;5;241m.\u001b[39mshape):\n\u001b[1;32m    586\u001b[0m     \u001b[38;5;28;01mif\u001b[39;00m e1 \u001b[38;5;129;01mis\u001b[39;00m \u001b[38;5;129;01mnot\u001b[39;00m \u001b[38;5;28;01mNone\u001b[39;00m \u001b[38;5;129;01mand\u001b[39;00m e2 \u001b[38;5;129;01mis\u001b[39;00m \u001b[38;5;129;01mnot\u001b[39;00m \u001b[38;5;28;01mNone\u001b[39;00m \u001b[38;5;129;01mand\u001b[39;00m e1 \u001b[38;5;241m!=\u001b[39m e2:\n",
      "\u001b[0;31mValueError\u001b[0m: Arguments `target` and `output` must have the same rank (ndim). Received: target.shape=(None,), output.shape=(None, 7)"
     ]
    }
   ],
   "source": [
    "import tensorflow as tf\n",
    "from tensorflow import keras\n",
    "from tensorflow.keras.models import Sequential\n",
    "from tensorflow.keras.layers import Dense, Dropout, BatchNormalization\n",
    "from tensorflow.keras.optimizers import Adam\n",
    "from sklearn.preprocessing import LabelBinarizer\n",
    "from sklearn.utils.class_weight import compute_class_weight\n",
    "\n",
    "# Compute class weights for imbalanced data\n",
    "class_weights_dict = dict(enumerate(compute_class_weight(class_weight='balanced', \n",
    "                                                         classes=np.unique(y_train), \n",
    "                                                         y=y_train)))\n",
    "\n",
    "# Define Neural Network Model\n",
    "model = Sequential([\n",
    "    Dense(128, activation='relu', input_shape=(X_train.shape[1],)),\n",
    "    BatchNormalization(),\n",
    "    Dropout(0.3),\n",
    "    \n",
    "    Dense(64, activation='relu'),\n",
    "    BatchNormalization(),\n",
    "    Dropout(0.3),\n",
    "    \n",
    "    Dense(32, activation='relu'),\n",
    "    BatchNormalization(),\n",
    "    Dropout(0.2),\n",
    "\n",
    "    Dense(7, activation='softmax')  # 3 classes\n",
    "])\n",
    "\n",
    "# Compile Model\n",
    "model.compile(optimizer=Adam(learning_rate=0.001), \n",
    "              loss='categorical_crossentropy', \n",
    "              metrics=['accuracy'])\n",
    "\n",
    "# Train Model\n",
    "history = model.fit(X_train, y_train, \n",
    "                    validation_data=(X_test, y_test), \n",
    "                    epochs=50, batch_size=32, \n",
    "                    class_weight=class_weights_dict, \n",
    "                    verbose=1)\n",
    "\n",
    "# Predictions\n",
    "y_pred_prob = model.predict(x_test)\n",
    "y_pred = np.argmax(y_pred_prob, axis=1)\n",
    "\n",
    "# Evaluate\n",
    "print(f'\\nConfusion Matrix:\\n{confusion_matrix(y_test, y_pred)}\\n')\n",
    "print(f'Accuracy: {accuracy_score(y_test, y_pred):.4f}')\n"
   ]
  },
  {
   "cell_type": "markdown",
   "metadata": {},
   "source": [
    "## KNN model "
   ]
  },
  {
   "cell_type": "code",
   "execution_count": null,
   "metadata": {
    "ExecuteTime": {
     "end_time": "2025-05-03T20:37:31.294637Z",
     "start_time": "2025-05-03T20:37:31.199275Z"
    }
   },
   "outputs": [],
   "source": [
    "from sklearn.neighbors import KNeighborsClassifier\n",
    "from sklearn.utils.class_weight import compute_sample_weight\n",
    "from sklearn.preprocessing import label_binarize, StandardScaler\n",
    "from sklearn.metrics import confusion_matrix, accuracy_score, average_precision_score\n",
    "\n",
    "# Mapping the Encoded Target values to Different Classes of Thyroid Conditions\n",
    "target_map ={'Hyperthyroid':0, 'Hypothyroid':1, 'Negative':2, 'Non-thyroidal Illness':3, 'Replacement Therapy':4, 'Treatment Effect':5, 'Binding Protein':6}\n",
    "y_train_encoded = y_train.map(target_map)\n",
    "y_test_encoded = y_test.map(target_map)\n",
    "\n",
    "# Standardize Features (KNN also benefits from normalized data)\n",
    "scaler = StandardScaler()\n",
    "x_train = scaler.fit_transform(x_train)\n",
    "x_test = scaler.transform(x_test)\n",
    "\n",
    "# Compute sample weights to balance the classes\n",
    "sample_weights = compute_sample_weight(class_weight='balanced', y=y_train_encoded)\n",
    "\n",
    "# Train K-Nearest Neighbors (KNN) Classifier\n",
    "knn = KNeighborsClassifier(n_neighbors=5) \n",
    "knn.fit(x_train, y_train_encoded)\n",
    "\n",
    "# Making Predictions\n",
    "y_pred = knn.predict(x_test)\n",
    "y_score = knn.predict_proba(x_test)  # Get class probabilities\n",
    "\n",
    "# Binarize the target for multiclass precision\n",
    "y_test_binarized = label_binarize(y_test_encoded, classes=[0, 1, 2, 3, 4, 5, 6])\n",
    "\n",
    "# Evaluate Performance\n",
    "print(f'\\nConfusion Matrix:\\n{confusion_matrix(y_test_encoded, y_pred)}\\n')\n",
    "print(f'Accuracy: {accuracy_score(y_test_encoded, y_pred):.4f}\\n')\n",
    "\n",
    "# Compute Average Precision Score for each class\n",
    "average_precisions = []\n",
    "for i, class_label in enumerate(target_map.keys()):\n",
    "    if y_test_binarized[:, i].sum() > 0:  # Ensure at least one sample in the class\n",
    "        avg_precision = average_precision_score(y_test_binarized[:, i], y_score[:, i])\n",
    "    else:\n",
    "        avg_precision = 0  # Avoid errors in case of missing class\n",
    "    average_precisions.append(avg_precision)\n",
    "    print(f'Class {class_label}: Average Precision = {avg_precision:.4f}')\n",
    "\n",
    "# Micro-average Precision Score\n",
    "print(f\"Micro-average Precision Score: {average_precision_score(y_test_binarized, y_score, average='micro'):.4f}\")\n"
   ]
  },
  {
   "cell_type": "code",
   "execution_count": null,
   "metadata": {},
   "outputs": [],
   "source": []
  },
  {
   "cell_type": "code",
   "execution_count": null,
   "metadata": {},
   "outputs": [],
   "source": []
  }
 ],
 "metadata": {
  "kaggle": {
   "accelerator": "none",
   "dataSources": [
    {
     "datasetId": 2183570,
     "sourceId": 3770402,
     "sourceType": "datasetVersion"
    }
   ],
   "dockerImageVersionId": 30786,
   "isGpuEnabled": false,
   "isInternetEnabled": true,
   "language": "python",
   "sourceType": "notebook"
  },
  "kernelspec": {
   "display_name": "Python 3 (ipykernel)",
   "language": "python",
   "name": "python3"
  },
  "language_info": {
   "codemirror_mode": {
    "name": "ipython",
    "version": 3
   },
   "file_extension": ".py",
   "mimetype": "text/x-python",
   "name": "python",
   "nbconvert_exporter": "python",
   "pygments_lexer": "ipython3",
   "version": "3.12.2"
  }
 },
 "nbformat": 4,
 "nbformat_minor": 4
}
