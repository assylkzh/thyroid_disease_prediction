{
 "cells": [
  {
   "cell_type": "markdown",
   "metadata": {},
   "source": [
    "# Importing Libraries"
   ]
  },
  {
   "cell_type": "code",
   "execution_count": 2,
   "metadata": {
    "ExecuteTime": {
     "end_time": "2025-05-04T10:04:55.919404Z",
     "start_time": "2025-05-04T10:04:55.608535Z"
    }
   },
   "outputs": [],
   "source": [
    "import os\n",
    "import pandas as pd\n",
    "import numpy as np\n",
    "import matplotlib.pyplot as plt\n",
    "import seaborn as sns\n",
    "import plotly.express as px\n",
    "from pandas.core.interchange.dataframe_protocol import DataFrame\n",
    "from sklearn.model_selection import train_test_split\n",
    "from sklearn.preprocessing import LabelEncoder, StandardScaler\n",
    "from sklearn.metrics import *\n",
    "from sklearn.preprocessing import label_binarize\n",
    "from sklearn.impute import SimpleImputer\n"
   ]
  },
  {
   "cell_type": "markdown",
   "metadata": {},
   "source": [
    "# Importing the dataset as DataFrame and Data exploration "
   ]
  },
  {
   "cell_type": "code",
   "execution_count": 4,
   "metadata": {
    "ExecuteTime": {
     "end_time": "2025-05-04T10:04:55.964196Z",
     "start_time": "2025-05-04T10:04:55.940726Z"
    },
    "_cell_guid": "b1076dfc-b9ad-4769-8c92-a6c4dae69d19",
    "_uuid": "8f2839f25d086af736a60e9eeb907d3b93b6e0e5"
   },
   "outputs": [],
   "source": [
    "df = pd.read_csv(\"thyroidDF.csv\")"
   ]
  },
  {
   "cell_type": "code",
   "execution_count": 5,
   "metadata": {
    "ExecuteTime": {
     "end_time": "2025-05-04T10:04:56.033697Z",
     "start_time": "2025-05-04T10:04:56.019644Z"
    }
   },
   "outputs": [
    {
     "data": {
      "text/html": [
       "<div>\n",
       "<style scoped>\n",
       "    .dataframe tbody tr th:only-of-type {\n",
       "        vertical-align: middle;\n",
       "    }\n",
       "\n",
       "    .dataframe tbody tr th {\n",
       "        vertical-align: top;\n",
       "    }\n",
       "\n",
       "    .dataframe thead th {\n",
       "        text-align: right;\n",
       "    }\n",
       "</style>\n",
       "<table border=\"1\" class=\"dataframe\">\n",
       "  <thead>\n",
       "    <tr style=\"text-align: right;\">\n",
       "      <th></th>\n",
       "      <th>age</th>\n",
       "      <th>sex</th>\n",
       "      <th>on_thyroxine</th>\n",
       "      <th>query_on_thyroxine</th>\n",
       "      <th>on_antithyroid_meds</th>\n",
       "      <th>sick</th>\n",
       "      <th>pregnant</th>\n",
       "      <th>thyroid_surgery</th>\n",
       "      <th>I131_treatment</th>\n",
       "      <th>query_hypothyroid</th>\n",
       "      <th>...</th>\n",
       "      <th>TT4</th>\n",
       "      <th>T4U_measured</th>\n",
       "      <th>T4U</th>\n",
       "      <th>FTI_measured</th>\n",
       "      <th>FTI</th>\n",
       "      <th>TBG_measured</th>\n",
       "      <th>TBG</th>\n",
       "      <th>referral_source</th>\n",
       "      <th>target</th>\n",
       "      <th>patient_id</th>\n",
       "    </tr>\n",
       "  </thead>\n",
       "  <tbody>\n",
       "    <tr>\n",
       "      <th>0</th>\n",
       "      <td>29</td>\n",
       "      <td>F</td>\n",
       "      <td>f</td>\n",
       "      <td>f</td>\n",
       "      <td>f</td>\n",
       "      <td>f</td>\n",
       "      <td>f</td>\n",
       "      <td>f</td>\n",
       "      <td>f</td>\n",
       "      <td>t</td>\n",
       "      <td>...</td>\n",
       "      <td>NaN</td>\n",
       "      <td>f</td>\n",
       "      <td>NaN</td>\n",
       "      <td>f</td>\n",
       "      <td>NaN</td>\n",
       "      <td>f</td>\n",
       "      <td>NaN</td>\n",
       "      <td>other</td>\n",
       "      <td>-</td>\n",
       "      <td>840801013</td>\n",
       "    </tr>\n",
       "    <tr>\n",
       "      <th>1</th>\n",
       "      <td>29</td>\n",
       "      <td>F</td>\n",
       "      <td>f</td>\n",
       "      <td>f</td>\n",
       "      <td>f</td>\n",
       "      <td>f</td>\n",
       "      <td>f</td>\n",
       "      <td>f</td>\n",
       "      <td>f</td>\n",
       "      <td>f</td>\n",
       "      <td>...</td>\n",
       "      <td>128.0</td>\n",
       "      <td>f</td>\n",
       "      <td>NaN</td>\n",
       "      <td>f</td>\n",
       "      <td>NaN</td>\n",
       "      <td>f</td>\n",
       "      <td>NaN</td>\n",
       "      <td>other</td>\n",
       "      <td>-</td>\n",
       "      <td>840801014</td>\n",
       "    </tr>\n",
       "    <tr>\n",
       "      <th>2</th>\n",
       "      <td>41</td>\n",
       "      <td>F</td>\n",
       "      <td>f</td>\n",
       "      <td>f</td>\n",
       "      <td>f</td>\n",
       "      <td>f</td>\n",
       "      <td>f</td>\n",
       "      <td>f</td>\n",
       "      <td>f</td>\n",
       "      <td>f</td>\n",
       "      <td>...</td>\n",
       "      <td>NaN</td>\n",
       "      <td>f</td>\n",
       "      <td>NaN</td>\n",
       "      <td>f</td>\n",
       "      <td>NaN</td>\n",
       "      <td>t</td>\n",
       "      <td>11.0</td>\n",
       "      <td>other</td>\n",
       "      <td>-</td>\n",
       "      <td>840801042</td>\n",
       "    </tr>\n",
       "    <tr>\n",
       "      <th>3</th>\n",
       "      <td>36</td>\n",
       "      <td>F</td>\n",
       "      <td>f</td>\n",
       "      <td>f</td>\n",
       "      <td>f</td>\n",
       "      <td>f</td>\n",
       "      <td>f</td>\n",
       "      <td>f</td>\n",
       "      <td>f</td>\n",
       "      <td>f</td>\n",
       "      <td>...</td>\n",
       "      <td>NaN</td>\n",
       "      <td>f</td>\n",
       "      <td>NaN</td>\n",
       "      <td>f</td>\n",
       "      <td>NaN</td>\n",
       "      <td>t</td>\n",
       "      <td>26.0</td>\n",
       "      <td>other</td>\n",
       "      <td>-</td>\n",
       "      <td>840803046</td>\n",
       "    </tr>\n",
       "    <tr>\n",
       "      <th>4</th>\n",
       "      <td>32</td>\n",
       "      <td>F</td>\n",
       "      <td>f</td>\n",
       "      <td>f</td>\n",
       "      <td>f</td>\n",
       "      <td>f</td>\n",
       "      <td>f</td>\n",
       "      <td>f</td>\n",
       "      <td>f</td>\n",
       "      <td>f</td>\n",
       "      <td>...</td>\n",
       "      <td>NaN</td>\n",
       "      <td>f</td>\n",
       "      <td>NaN</td>\n",
       "      <td>f</td>\n",
       "      <td>NaN</td>\n",
       "      <td>t</td>\n",
       "      <td>36.0</td>\n",
       "      <td>other</td>\n",
       "      <td>S</td>\n",
       "      <td>840803047</td>\n",
       "    </tr>\n",
       "    <tr>\n",
       "      <th>5</th>\n",
       "      <td>60</td>\n",
       "      <td>F</td>\n",
       "      <td>f</td>\n",
       "      <td>f</td>\n",
       "      <td>f</td>\n",
       "      <td>f</td>\n",
       "      <td>f</td>\n",
       "      <td>f</td>\n",
       "      <td>f</td>\n",
       "      <td>f</td>\n",
       "      <td>...</td>\n",
       "      <td>NaN</td>\n",
       "      <td>f</td>\n",
       "      <td>NaN</td>\n",
       "      <td>f</td>\n",
       "      <td>NaN</td>\n",
       "      <td>t</td>\n",
       "      <td>26.0</td>\n",
       "      <td>other</td>\n",
       "      <td>-</td>\n",
       "      <td>840803048</td>\n",
       "    </tr>\n",
       "    <tr>\n",
       "      <th>6</th>\n",
       "      <td>77</td>\n",
       "      <td>F</td>\n",
       "      <td>f</td>\n",
       "      <td>f</td>\n",
       "      <td>f</td>\n",
       "      <td>f</td>\n",
       "      <td>f</td>\n",
       "      <td>f</td>\n",
       "      <td>f</td>\n",
       "      <td>f</td>\n",
       "      <td>...</td>\n",
       "      <td>NaN</td>\n",
       "      <td>f</td>\n",
       "      <td>NaN</td>\n",
       "      <td>f</td>\n",
       "      <td>NaN</td>\n",
       "      <td>t</td>\n",
       "      <td>21.0</td>\n",
       "      <td>other</td>\n",
       "      <td>-</td>\n",
       "      <td>840803068</td>\n",
       "    </tr>\n",
       "    <tr>\n",
       "      <th>7</th>\n",
       "      <td>28</td>\n",
       "      <td>F</td>\n",
       "      <td>f</td>\n",
       "      <td>f</td>\n",
       "      <td>f</td>\n",
       "      <td>f</td>\n",
       "      <td>f</td>\n",
       "      <td>f</td>\n",
       "      <td>f</td>\n",
       "      <td>f</td>\n",
       "      <td>...</td>\n",
       "      <td>116.0</td>\n",
       "      <td>f</td>\n",
       "      <td>NaN</td>\n",
       "      <td>f</td>\n",
       "      <td>NaN</td>\n",
       "      <td>f</td>\n",
       "      <td>NaN</td>\n",
       "      <td>SVI</td>\n",
       "      <td>-</td>\n",
       "      <td>840807019</td>\n",
       "    </tr>\n",
       "    <tr>\n",
       "      <th>8</th>\n",
       "      <td>28</td>\n",
       "      <td>F</td>\n",
       "      <td>f</td>\n",
       "      <td>f</td>\n",
       "      <td>f</td>\n",
       "      <td>f</td>\n",
       "      <td>f</td>\n",
       "      <td>f</td>\n",
       "      <td>f</td>\n",
       "      <td>f</td>\n",
       "      <td>...</td>\n",
       "      <td>76.0</td>\n",
       "      <td>f</td>\n",
       "      <td>NaN</td>\n",
       "      <td>f</td>\n",
       "      <td>NaN</td>\n",
       "      <td>f</td>\n",
       "      <td>NaN</td>\n",
       "      <td>other</td>\n",
       "      <td>-</td>\n",
       "      <td>840808060</td>\n",
       "    </tr>\n",
       "    <tr>\n",
       "      <th>9</th>\n",
       "      <td>28</td>\n",
       "      <td>F</td>\n",
       "      <td>f</td>\n",
       "      <td>f</td>\n",
       "      <td>f</td>\n",
       "      <td>f</td>\n",
       "      <td>f</td>\n",
       "      <td>f</td>\n",
       "      <td>f</td>\n",
       "      <td>f</td>\n",
       "      <td>...</td>\n",
       "      <td>83.0</td>\n",
       "      <td>f</td>\n",
       "      <td>NaN</td>\n",
       "      <td>f</td>\n",
       "      <td>NaN</td>\n",
       "      <td>f</td>\n",
       "      <td>NaN</td>\n",
       "      <td>other</td>\n",
       "      <td>-</td>\n",
       "      <td>840808073</td>\n",
       "    </tr>\n",
       "  </tbody>\n",
       "</table>\n",
       "<p>10 rows × 31 columns</p>\n",
       "</div>"
      ],
      "text/plain": [
       "   age sex on_thyroxine query_on_thyroxine on_antithyroid_meds sick pregnant  \\\n",
       "0   29   F            f                  f                   f    f        f   \n",
       "1   29   F            f                  f                   f    f        f   \n",
       "2   41   F            f                  f                   f    f        f   \n",
       "3   36   F            f                  f                   f    f        f   \n",
       "4   32   F            f                  f                   f    f        f   \n",
       "5   60   F            f                  f                   f    f        f   \n",
       "6   77   F            f                  f                   f    f        f   \n",
       "7   28   F            f                  f                   f    f        f   \n",
       "8   28   F            f                  f                   f    f        f   \n",
       "9   28   F            f                  f                   f    f        f   \n",
       "\n",
       "  thyroid_surgery I131_treatment query_hypothyroid  ...    TT4 T4U_measured  \\\n",
       "0               f              f                 t  ...    NaN            f   \n",
       "1               f              f                 f  ...  128.0            f   \n",
       "2               f              f                 f  ...    NaN            f   \n",
       "3               f              f                 f  ...    NaN            f   \n",
       "4               f              f                 f  ...    NaN            f   \n",
       "5               f              f                 f  ...    NaN            f   \n",
       "6               f              f                 f  ...    NaN            f   \n",
       "7               f              f                 f  ...  116.0            f   \n",
       "8               f              f                 f  ...   76.0            f   \n",
       "9               f              f                 f  ...   83.0            f   \n",
       "\n",
       "  T4U FTI_measured FTI TBG_measured   TBG  referral_source target  patient_id  \n",
       "0 NaN            f NaN            f   NaN            other      -   840801013  \n",
       "1 NaN            f NaN            f   NaN            other      -   840801014  \n",
       "2 NaN            f NaN            t  11.0            other      -   840801042  \n",
       "3 NaN            f NaN            t  26.0            other      -   840803046  \n",
       "4 NaN            f NaN            t  36.0            other      S   840803047  \n",
       "5 NaN            f NaN            t  26.0            other      -   840803048  \n",
       "6 NaN            f NaN            t  21.0            other      -   840803068  \n",
       "7 NaN            f NaN            f   NaN              SVI      -   840807019  \n",
       "8 NaN            f NaN            f   NaN            other      -   840808060  \n",
       "9 NaN            f NaN            f   NaN            other      -   840808073  \n",
       "\n",
       "[10 rows x 31 columns]"
      ]
     },
     "execution_count": 5,
     "metadata": {},
     "output_type": "execute_result"
    }
   ],
   "source": [
    "df.head(10)"
   ]
  },
  {
   "cell_type": "code",
   "execution_count": 6,
   "metadata": {
    "ExecuteTime": {
     "end_time": "2025-05-04T10:04:56.207073Z",
     "start_time": "2025-05-04T10:04:56.198568Z"
    }
   },
   "outputs": [
    {
     "name": "stdout",
     "output_type": "stream",
     "text": [
      "Total number of rows: 9172\n",
      "Total number of columns: 31\n"
     ]
    }
   ],
   "source": [
    "# Total number of rows and columns\n",
    "row, columns = df.shape\n",
    "print(f'Total number of rows: {row}')\n",
    "print(f'Total number of columns: {columns}')"
   ]
  },
  {
   "cell_type": "code",
   "execution_count": 7,
   "metadata": {
    "ExecuteTime": {
     "end_time": "2025-05-04T10:04:56.663143Z",
     "start_time": "2025-05-04T10:04:56.642554Z"
    }
   },
   "outputs": [
    {
     "data": {
      "text/plain": [
       "0"
      ]
     },
     "execution_count": 7,
     "metadata": {},
     "output_type": "execute_result"
    }
   ],
   "source": [
    "# Total number of duplicate rows\n",
    "df.duplicated().sum()"
   ]
  },
  {
   "cell_type": "code",
   "execution_count": 8,
   "metadata": {
    "ExecuteTime": {
     "end_time": "2025-05-04T10:04:56.880992Z",
     "start_time": "2025-05-04T10:04:56.867612Z"
    }
   },
   "outputs": [
    {
     "data": {
      "text/plain": [
       "age                       0\n",
       "sex                     307\n",
       "on_thyroxine              0\n",
       "query_on_thyroxine        0\n",
       "on_antithyroid_meds       0\n",
       "sick                      0\n",
       "pregnant                  0\n",
       "thyroid_surgery           0\n",
       "I131_treatment            0\n",
       "query_hypothyroid         0\n",
       "query_hyperthyroid        0\n",
       "lithium                   0\n",
       "goitre                    0\n",
       "tumor                     0\n",
       "hypopituitary             0\n",
       "psych                     0\n",
       "TSH_measured              0\n",
       "TSH                     842\n",
       "T3_measured               0\n",
       "T3                     2604\n",
       "TT4_measured              0\n",
       "TT4                     442\n",
       "T4U_measured              0\n",
       "T4U                     809\n",
       "FTI_measured              0\n",
       "FTI                     802\n",
       "TBG_measured              0\n",
       "TBG                    8823\n",
       "referral_source           0\n",
       "target                    0\n",
       "patient_id                0\n",
       "dtype: int64"
      ]
     },
     "execution_count": 8,
     "metadata": {},
     "output_type": "execute_result"
    }
   ],
   "source": [
    "# Total number of missing values in each column\n",
    "df.isna().sum()"
   ]
  },
  {
   "cell_type": "markdown",
   "metadata": {},
   "source": [
    "The “Thyroid Disease Data” UCI Machine Learning dataset contains 9,172 rows and 31 columns, with no duplicate values. However, there are significant number of missing values in the columns: Sex, TSH, T3, TT4, T4U, FTI, and TBG, with TBG column leading with 8823 null entries. "
   ]
  },
  {
   "cell_type": "code",
   "execution_count": 10,
   "metadata": {
    "ExecuteTime": {
     "end_time": "2025-05-04T10:04:57.213106Z",
     "start_time": "2025-05-04T10:04:57.204917Z"
    }
   },
   "outputs": [
    {
     "data": {
      "text/plain": [
       "array(['F', 'M', nan], dtype=object)"
      ]
     },
     "execution_count": 10,
     "metadata": {},
     "output_type": "execute_result"
    }
   ],
   "source": [
    "# Unique values in 'sex' column\n",
    "df['sex'].unique()"
   ]
  },
  {
   "cell_type": "code",
   "execution_count": 11,
   "metadata": {
    "ExecuteTime": {
     "end_time": "2025-05-04T10:04:57.534881Z",
     "start_time": "2025-05-04T10:04:57.524527Z"
    }
   },
   "outputs": [
    {
     "data": {
      "text/plain": [
       "sex\n",
       "F    6073\n",
       "M    2792\n",
       "Name: count, dtype: int64"
      ]
     },
     "execution_count": 11,
     "metadata": {},
     "output_type": "execute_result"
    }
   ],
   "source": [
    "# Counting the frequency of each distinct value in the 'sex' column\n",
    "df['sex'].value_counts()"
   ]
  },
  {
   "cell_type": "code",
   "execution_count": 12,
   "metadata": {
    "ExecuteTime": {
     "end_time": "2025-05-04T10:04:57.940979Z",
     "start_time": "2025-05-04T10:04:57.934492Z"
    }
   },
   "outputs": [
    {
     "data": {
      "text/plain": [
       "array(['t', 'f'], dtype=object)"
      ]
     },
     "execution_count": 12,
     "metadata": {},
     "output_type": "execute_result"
    }
   ],
   "source": [
    "# Unique values in 'TSH_measured' column\n",
    "df['TSH_measured'].unique()"
   ]
  },
  {
   "cell_type": "code",
   "execution_count": 13,
   "metadata": {
    "ExecuteTime": {
     "end_time": "2025-05-04T10:04:58.281276Z",
     "start_time": "2025-05-04T10:04:58.276354Z"
    }
   },
   "outputs": [
    {
     "data": {
      "text/plain": [
       "array([nan])"
      ]
     },
     "execution_count": 13,
     "metadata": {},
     "output_type": "execute_result"
    }
   ],
   "source": [
    "# Filtering the unique values in the 'TSH' column for rows where 'TSH_measured' is not measured to find the erroneous data. \n",
    "df['TSH'][df['TSH_measured'] == 'f'].unique()"
   ]
  },
  {
   "cell_type": "code",
   "execution_count": 14,
   "metadata": {
    "ExecuteTime": {
     "end_time": "2025-05-04T10:04:58.516483Z",
     "start_time": "2025-05-04T10:04:58.513104Z"
    }
   },
   "outputs": [
    {
     "data": {
      "text/plain": [
       "842"
      ]
     },
     "execution_count": 14,
     "metadata": {},
     "output_type": "execute_result"
    }
   ],
   "source": [
    "# Counting the number of missing TSH values for patients where TSH was not measured\n",
    "df['TSH'][df['TSH_measured'] == 'f'].isnull().sum()"
   ]
  },
  {
   "cell_type": "code",
   "execution_count": 15,
   "metadata": {
    "ExecuteTime": {
     "end_time": "2025-05-04T10:04:58.720538Z",
     "start_time": "2025-05-04T10:04:58.717934Z"
    }
   },
   "outputs": [
    {
     "data": {
      "text/plain": [
       "842"
      ]
     },
     "execution_count": 15,
     "metadata": {},
     "output_type": "execute_result"
    }
   ],
   "source": [
    "# Counting of missing values in TSH\n",
    "df['TSH'].isnull().sum()"
   ]
  },
  {
   "cell_type": "markdown",
   "metadata": {},
   "source": [
    "The dataset has no erroneous data related to the TSH measurements. The data marked with 'f' in 'TSH_measured' has no corresponding values in 'TSH' column which is correct. "
   ]
  },
  {
   "cell_type": "code",
   "execution_count": 17,
   "metadata": {
    "ExecuteTime": {
     "end_time": "2025-05-04T10:04:58.962125Z",
     "start_time": "2025-05-04T10:04:58.956105Z"
    }
   },
   "outputs": [
    {
     "data": {
      "text/plain": [
       "array(['f', 't'], dtype=object)"
      ]
     },
     "execution_count": 17,
     "metadata": {},
     "output_type": "execute_result"
    }
   ],
   "source": [
    "# Unique values in 'T3_measured' column\n",
    "df['T3_measured'].unique()"
   ]
  },
  {
   "cell_type": "code",
   "execution_count": 18,
   "metadata": {
    "ExecuteTime": {
     "end_time": "2025-05-04T10:04:59.103317Z",
     "start_time": "2025-05-04T10:04:59.099836Z"
    }
   },
   "outputs": [
    {
     "data": {
      "text/plain": [
       "array([nan])"
      ]
     },
     "execution_count": 18,
     "metadata": {},
     "output_type": "execute_result"
    }
   ],
   "source": [
    "# Filtering the unique values in the 'T3' column for rows where 'T3_measured' is 'f' to validate the data. \n",
    "df['T3'][df['T3_measured'] == 'f'].unique()"
   ]
  },
  {
   "cell_type": "code",
   "execution_count": 19,
   "metadata": {
    "ExecuteTime": {
     "end_time": "2025-05-04T10:04:59.204206Z",
     "start_time": "2025-05-04T10:04:59.197772Z"
    }
   },
   "outputs": [
    {
     "data": {
      "text/plain": [
       "2604"
      ]
     },
     "execution_count": 19,
     "metadata": {},
     "output_type": "execute_result"
    }
   ],
   "source": [
    "# Counting the number of missing T3 values for patients where T3 was not measured\n",
    "df['T3'][df['T3_measured'] == 'f'].isnull().sum()"
   ]
  },
  {
   "cell_type": "code",
   "execution_count": 20,
   "metadata": {
    "ExecuteTime": {
     "end_time": "2025-05-04T10:04:59.311902Z",
     "start_time": "2025-05-04T10:04:59.308775Z"
    }
   },
   "outputs": [
    {
     "data": {
      "text/plain": [
       "2604"
      ]
     },
     "execution_count": 20,
     "metadata": {},
     "output_type": "execute_result"
    }
   ],
   "source": [
    "# Counting of missing values in T3\n",
    "df['T3'].isnull().sum()"
   ]
  },
  {
   "cell_type": "markdown",
   "metadata": {},
   "source": [
    "Similarly, the dataset has no erroneous data related to the T3 measurements. The data marked with 'f' in 'T3_measured' has no corresponding values in 'T3' column which is correct. "
   ]
  },
  {
   "cell_type": "code",
   "execution_count": 22,
   "metadata": {
    "ExecuteTime": {
     "end_time": "2025-05-04T10:04:59.420969Z",
     "start_time": "2025-05-04T10:04:59.418237Z"
    }
   },
   "outputs": [
    {
     "data": {
      "text/plain": [
       "array(['f', 't'], dtype=object)"
      ]
     },
     "execution_count": 22,
     "metadata": {},
     "output_type": "execute_result"
    }
   ],
   "source": [
    "# Unique values in 'TT4_measured' column\n",
    "df['TT4_measured'].unique()"
   ]
  },
  {
   "cell_type": "code",
   "execution_count": 23,
   "metadata": {
    "ExecuteTime": {
     "end_time": "2025-05-04T10:04:59.520150Z",
     "start_time": "2025-05-04T10:04:59.517084Z"
    }
   },
   "outputs": [
    {
     "data": {
      "text/plain": [
       "array([nan])"
      ]
     },
     "execution_count": 23,
     "metadata": {},
     "output_type": "execute_result"
    }
   ],
   "source": [
    "# Filtering distinct values in the 'TT4' column for rows where 'TT4_measured' is 'f' \n",
    "df['TT4'][df['TT4_measured'] == 'f'].unique()"
   ]
  },
  {
   "cell_type": "code",
   "execution_count": 24,
   "metadata": {
    "ExecuteTime": {
     "end_time": "2025-05-04T10:04:59.623980Z",
     "start_time": "2025-05-04T10:04:59.620969Z"
    }
   },
   "outputs": [
    {
     "data": {
      "text/plain": [
       "442"
      ]
     },
     "execution_count": 24,
     "metadata": {},
     "output_type": "execute_result"
    }
   ],
   "source": [
    "# Counts the number of missing TT4 values for patients where TT4 was not measured\n",
    "df['TT4'][df['TT4_measured'] == 'f'].isnull().sum()"
   ]
  },
  {
   "cell_type": "code",
   "execution_count": 25,
   "metadata": {
    "ExecuteTime": {
     "end_time": "2025-05-04T10:04:59.716943Z",
     "start_time": "2025-05-04T10:04:59.714278Z"
    }
   },
   "outputs": [
    {
     "data": {
      "text/plain": [
       "442"
      ]
     },
     "execution_count": 25,
     "metadata": {},
     "output_type": "execute_result"
    }
   ],
   "source": [
    "# Count of missing values in TT4\n",
    "df['TT4'].isnull().sum()"
   ]
  },
  {
   "cell_type": "markdown",
   "metadata": {},
   "source": [
    "Similarly, the dataset has no erroneous data related to the TT4 measurements. The data marked with 'f' in 'TT4_measured' has no corresponding values in 'TT4' column which is correct. "
   ]
  },
  {
   "cell_type": "code",
   "execution_count": 27,
   "metadata": {
    "ExecuteTime": {
     "end_time": "2025-05-04T10:04:59.813457Z",
     "start_time": "2025-05-04T10:04:59.810902Z"
    }
   },
   "outputs": [
    {
     "data": {
      "text/plain": [
       "array(['f', 't'], dtype=object)"
      ]
     },
     "execution_count": 27,
     "metadata": {},
     "output_type": "execute_result"
    }
   ],
   "source": [
    "# Unique values in 'T4U_measured' column\n",
    "df['T4U_measured'].unique()"
   ]
  },
  {
   "cell_type": "code",
   "execution_count": 28,
   "metadata": {
    "ExecuteTime": {
     "end_time": "2025-05-04T10:04:59.892666Z",
     "start_time": "2025-05-04T10:04:59.889678Z"
    }
   },
   "outputs": [
    {
     "data": {
      "text/plain": [
       "array([nan])"
      ]
     },
     "execution_count": 28,
     "metadata": {},
     "output_type": "execute_result"
    }
   ],
   "source": [
    "# Filtering the unique values 'T4U' column for rows where 'T4U_measured' is 'f'\n",
    "df['T4U'][df['T4U_measured'] == 'f'].unique()"
   ]
  },
  {
   "cell_type": "code",
   "execution_count": 29,
   "metadata": {
    "ExecuteTime": {
     "end_time": "2025-05-04T10:05:00.018555Z",
     "start_time": "2025-05-04T10:05:00.014626Z"
    }
   },
   "outputs": [
    {
     "data": {
      "text/plain": [
       "809"
      ]
     },
     "execution_count": 29,
     "metadata": {},
     "output_type": "execute_result"
    }
   ],
   "source": [
    "# Counting the number of missing T4U values for patients where T4U was not measured\n",
    "df['T4U'][df['T4U_measured'] == 'f'].isnull().sum()"
   ]
  },
  {
   "cell_type": "code",
   "execution_count": 30,
   "metadata": {
    "ExecuteTime": {
     "end_time": "2025-05-04T10:05:00.105484Z",
     "start_time": "2025-05-04T10:05:00.102573Z"
    }
   },
   "outputs": [
    {
     "data": {
      "text/plain": [
       "809"
      ]
     },
     "execution_count": 30,
     "metadata": {},
     "output_type": "execute_result"
    }
   ],
   "source": [
    "# Counting of missing values in T4U\n",
    "df['T4U'].isnull().sum()"
   ]
  },
  {
   "cell_type": "markdown",
   "metadata": {},
   "source": [
    "Similarly, the dataset has no erroneous data related to the T4U measurements. The data marked with 'f' in 'T4U_measured' has no corresponding values in 'T4U' column which is correct. "
   ]
  },
  {
   "cell_type": "code",
   "execution_count": 32,
   "metadata": {
    "ExecuteTime": {
     "end_time": "2025-05-04T10:05:00.194152Z",
     "start_time": "2025-05-04T10:05:00.190639Z"
    }
   },
   "outputs": [
    {
     "data": {
      "text/plain": [
       "array(['f', 't'], dtype=object)"
      ]
     },
     "execution_count": 32,
     "metadata": {},
     "output_type": "execute_result"
    }
   ],
   "source": [
    "# Unique values in 'FTI_measured' column\n",
    "df['FTI_measured'].unique()"
   ]
  },
  {
   "cell_type": "code",
   "execution_count": 33,
   "metadata": {
    "ExecuteTime": {
     "end_time": "2025-05-04T10:05:00.279615Z",
     "start_time": "2025-05-04T10:05:00.275869Z"
    }
   },
   "outputs": [
    {
     "data": {
      "text/plain": [
       "array([nan])"
      ]
     },
     "execution_count": 33,
     "metadata": {},
     "output_type": "execute_result"
    }
   ],
   "source": [
    "# Extracting the unique values in the 'FTI' column for rows where 'FTI_measured' is 'f'\n",
    "df['FTI'][df['FTI_measured'] == 'f'].unique()"
   ]
  },
  {
   "cell_type": "code",
   "execution_count": 34,
   "metadata": {
    "ExecuteTime": {
     "end_time": "2025-05-04T10:05:00.359969Z",
     "start_time": "2025-05-04T10:05:00.356322Z"
    }
   },
   "outputs": [
    {
     "data": {
      "text/plain": [
       "802"
      ]
     },
     "execution_count": 34,
     "metadata": {},
     "output_type": "execute_result"
    }
   ],
   "source": [
    "# Counting the number of missing FTI values for patients where FTI was not measured\n",
    "df['FTI'][df['FTI_measured'] == 'f'].isnull().sum()"
   ]
  },
  {
   "cell_type": "code",
   "execution_count": 35,
   "metadata": {
    "ExecuteTime": {
     "end_time": "2025-05-04T10:05:00.444728Z",
     "start_time": "2025-05-04T10:05:00.442226Z"
    }
   },
   "outputs": [
    {
     "data": {
      "text/plain": [
       "802"
      ]
     },
     "execution_count": 35,
     "metadata": {},
     "output_type": "execute_result"
    }
   ],
   "source": [
    "# Counting of missing values in FTI\n",
    "df['FTI'].isnull().sum()"
   ]
  },
  {
   "cell_type": "markdown",
   "metadata": {},
   "source": [
    "Similarly, the dataset has no erroneous data related to the FTI measurements. The data marked with 'f' in 'FTI_measured' has no corresponding values in 'FTI' column which is correct. "
   ]
  },
  {
   "cell_type": "code",
   "execution_count": 37,
   "metadata": {
    "ExecuteTime": {
     "end_time": "2025-05-04T10:05:00.525385Z",
     "start_time": "2025-05-04T10:05:00.522666Z"
    }
   },
   "outputs": [
    {
     "data": {
      "text/plain": [
       "array(['f', 't'], dtype=object)"
      ]
     },
     "execution_count": 37,
     "metadata": {},
     "output_type": "execute_result"
    }
   ],
   "source": [
    "# Unique values in 'TBG_measured' column\n",
    "df['TBG_measured'].unique()"
   ]
  },
  {
   "cell_type": "code",
   "execution_count": 38,
   "metadata": {
    "ExecuteTime": {
     "end_time": "2025-05-04T10:05:00.620229Z",
     "start_time": "2025-05-04T10:05:00.616440Z"
    }
   },
   "outputs": [
    {
     "data": {
      "text/plain": [
       "array([nan])"
      ]
     },
     "execution_count": 38,
     "metadata": {},
     "output_type": "execute_result"
    }
   ],
   "source": [
    "# Filtering the distinct values in the 'TBG' column for rows where 'TBG_measured' is 'f'\n",
    "df['TBG'][df['TBG_measured'] == 'f'].unique()"
   ]
  },
  {
   "cell_type": "code",
   "execution_count": 39,
   "metadata": {
    "ExecuteTime": {
     "end_time": "2025-05-04T10:05:00.717233Z",
     "start_time": "2025-05-04T10:05:00.713692Z"
    }
   },
   "outputs": [
    {
     "data": {
      "text/plain": [
       "8823"
      ]
     },
     "execution_count": 39,
     "metadata": {},
     "output_type": "execute_result"
    }
   ],
   "source": [
    "# Counting the number of missing TBG values for patients where TBG was not measured\n",
    "df['TBG'][df['TBG_measured'] == 'f'].isnull().sum()"
   ]
  },
  {
   "cell_type": "code",
   "execution_count": 40,
   "metadata": {
    "ExecuteTime": {
     "end_time": "2025-05-04T10:05:00.802252Z",
     "start_time": "2025-05-04T10:05:00.799985Z"
    }
   },
   "outputs": [
    {
     "data": {
      "text/plain": [
       "8823"
      ]
     },
     "execution_count": 40,
     "metadata": {},
     "output_type": "execute_result"
    }
   ],
   "source": [
    "# Counting of missing values in TBG\n",
    "df['TBG'].isnull().sum()"
   ]
  },
  {
   "cell_type": "markdown",
   "metadata": {},
   "source": [
    "Similarly, the dataset has no erroneous data related to the TBG measurements. The data marked with 'f' in 'TBG_measured' has no corresponding values in 'FBG' column which is correct. "
   ]
  },
  {
   "cell_type": "markdown",
   "metadata": {},
   "source": [
    "**Conclusion:** \n",
    "\n",
    "Based on analysis, the dataset has no error entries in TSH, T3, TT4, T4U, FTI, and TBG measurements as null values in the TSH, T3, TT4, T4U, FTI, and TBG columns has corresponding TSH_measured, T3_measured, TT4_measured, T4U_measured, FTI_measured, and TBG_measured values with the 'f' values. For the patients where the test were not taken, there is no measured value or data. "
   ]
  },
  {
   "cell_type": "markdown",
   "metadata": {},
   "source": [
    "# Feature Engineering"
   ]
  },
  {
   "cell_type": "code",
   "execution_count": 44,
   "metadata": {
    "ExecuteTime": {
     "end_time": "2025-05-04T10:05:00.884423Z",
     "start_time": "2025-05-04T10:05:00.876714Z"
    }
   },
   "outputs": [
    {
     "data": {
      "text/plain": [
       "array(['-', 'S', 'F', 'AK', 'R', 'I', 'M', 'N', 'G', 'K', 'A', 'KJ', 'L',\n",
       "       'MK', 'Q', 'J', 'C|I', 'O', 'LJ', 'H|K', 'D', 'GK', 'MI', 'P',\n",
       "       'FK', 'B', 'GI', 'C', 'GKJ', 'OI', 'D|R', 'E'], dtype=object)"
      ]
     },
     "execution_count": 44,
     "metadata": {},
     "output_type": "execute_result"
    }
   ],
   "source": [
    "# Unique classes in 'target' column\n",
    "df['target'].unique()"
   ]
  },
  {
   "cell_type": "markdown",
   "metadata": {},
   "source": [
    "**Diagnosis**\n",
    "\n",
    "The diagnosis data can be categorized into 8 large classes: \n",
    "\n",
    "1. Hyperthyroid conditions: A-hyperthyroid, B - T3 toxic, C - toxic goitre, D - secondary toxic\n",
    "2. Hypothyroid conditions:  E - hypothyroid, F - primary hypothyroid, G - compensated hypothyroid, H - secondary hypothyroid\n",
    "3. Binding Protein: I - Increased binding protein, J - Decreased binding protein\n",
    "4. General health condition: K - Concurrent non-thyroidal illness\n",
    "5. Replacement Therapy: L - Consistent with replacement therapy, M - Underreplaced, N - Overreplaced\n",
    "6. Antithyroid Treatment: O - Antithyroid drugs, P - I131 treatment, Q - Surgery\n",
    "7. Miscellaneous: R - Discordant assay results, S - Elevated TBG, T - Elevated thyroid hormones\n",
    "8. Normal condition: '-' (without disease)\n",
    "\n",
    "The diagnosis in the form of  \"X|Y\" is interpreted as \"consistent with X, but more likely Y\". \n",
    "\n",
    "\n"
   ]
  },
  {
   "cell_type": "code",
   "execution_count": 46,
   "metadata": {
    "ExecuteTime": {
     "end_time": "2025-05-04T10:05:00.955735Z",
     "start_time": "2025-05-04T10:05:00.949085Z"
    }
   },
   "outputs": [],
   "source": [
    "# Defining  diagnosis groups \n",
    "\n",
    "hyperthyroid_conditions = ['A', 'B', 'C', 'D']  #Hyperthyroid\n",
    "hypothyroid_conditions = ['E', 'F', 'G', 'H'] #Hypothyroid\n",
    "replacement_therapy = ['L', 'M', 'N'] #Related to synthetic hormone use\n",
    "binding_protein = ['I', 'J'] #TBG-related problems\n",
    "non_thyroidal_illness = ['K', 'R', 'S', 'T']\t#Indirect or related issues\n",
    "treatment_effects = ['O', 'P', 'Q'] #Due to the interventions\n",
    "normal_conditions = ['-'] #Negative\n",
    "\n",
    "# Mapping logic\n",
    "def categorize_target(value):\n",
    "    diagnoses = value.split('|')\n",
    "    \n",
    "    for diagnosis in diagnoses:\n",
    "        if diagnosis in hyperthyroid_conditions:\n",
    "            return 'Hyperthyroid'\n",
    "        if diagnosis in hypothyroid_conditions:\n",
    "            return 'Hypothyroid'\n",
    "        if diagnosis in replacement_therapy:\n",
    "            return 'Replacement Therapy'\n",
    "        if diagnosis in binding_protein:\n",
    "            return 'Binding Protein'\n",
    "        if diagnosis in non_thyroidal_illness:\n",
    "            return 'Non-thyroidal Illness'\n",
    "        if diagnosis in treatment_effects:\n",
    "            return 'Treatment Effect'\n",
    "        if diagnosis in normal_conditions:\n",
    "            return 'Negative'\n",
    "    \n",
    "# Apply the categorization to DataFrame\n",
    "df['target'] = df['target'].apply(categorize_target)"
   ]
  },
  {
   "cell_type": "code",
   "execution_count": 47,
   "metadata": {
    "ExecuteTime": {
     "end_time": "2025-05-04T10:05:01.007022Z",
     "start_time": "2025-05-04T10:05:01.004293Z"
    }
   },
   "outputs": [
    {
     "data": {
      "text/plain": [
       "array(['Negative', 'Non-thyroidal Illness', 'Hypothyroid', None,\n",
       "       'Binding Protein', 'Replacement Therapy', 'Hyperthyroid',\n",
       "       'Treatment Effect'], dtype=object)"
      ]
     },
     "execution_count": 47,
     "metadata": {},
     "output_type": "execute_result"
    }
   ],
   "source": [
    "#Unique Classes in 'target' column\n",
    "df['target'].unique()"
   ]
  },
  {
   "cell_type": "code",
   "execution_count": 48,
   "metadata": {
    "ExecuteTime": {
     "end_time": "2025-05-04T10:05:01.064107Z",
     "start_time": "2025-05-04T10:05:01.060962Z"
    }
   },
   "outputs": [
    {
     "data": {
      "text/plain": [
       "target\n",
       "Negative                 6771\n",
       "Non-thyroidal Illness     717\n",
       "Hypothyroid               601\n",
       "Binding Protein           376\n",
       "Replacement Therapy       336\n",
       "Hyperthyroid              195\n",
       "Treatment Effect           33\n",
       "Name: count, dtype: int64"
      ]
     },
     "execution_count": 48,
     "metadata": {},
     "output_type": "execute_result"
    }
   ],
   "source": [
    "#  Counting the frequency of each unique classes in the 'target' column\n",
    "df['target'].value_counts()"
   ]
  },
  {
   "cell_type": "code",
   "execution_count": 49,
   "metadata": {
    "ExecuteTime": {
     "end_time": "2025-05-04T10:05:01.233675Z",
     "start_time": "2025-05-04T10:05:01.229606Z"
    }
   },
   "outputs": [
    {
     "data": {
      "text/plain": [
       "143"
      ]
     },
     "execution_count": 49,
     "metadata": {},
     "output_type": "execute_result"
    }
   ],
   "source": [
    "# Counting the missing values in 'target' column\n",
    "df['target'].isnull().sum()"
   ]
  },
  {
   "cell_type": "markdown",
   "metadata": {},
   "source": [
    "## Data Cleaning\n",
    "The missing values were handled using appropriate imputation method: \n",
    "\n",
    "1. Columns with missed 'target' value were dropped. \n",
    "2. Missing values in the 'Sex' column were imputed using the mode of the column.\n",
    "3. Missing values in TSH, T3, TT4, T4U were imputed with the median of the respective columns.\n",
    "4. The TBG column was dropped entirely due a notable number of null entries in it, particularly, 8823 null values.\n",
    "\n",
    "Additionaly \n",
    "FTI were dropped\n"
   ]
  },
  {
   "cell_type": "code",
   "execution_count": 51,
   "metadata": {},
   "outputs": [],
   "source": [
    "df = df.dropna(subset=['target'])"
   ]
  },
  {
   "cell_type": "code",
   "execution_count": 52,
   "metadata": {
    "ExecuteTime": {
     "end_time": "2025-05-04T10:05:01.311329Z",
     "start_time": "2025-05-04T10:05:01.307894Z"
    }
   },
   "outputs": [
    {
     "data": {
      "text/plain": [
       "'F'"
      ]
     },
     "execution_count": 52,
     "metadata": {},
     "output_type": "execute_result"
    }
   ],
   "source": [
    "# Imputing the missing values in 'sex' column with mode which is 'F' - Female \n",
    "sex_mode = df['sex'].mode()[0]\n",
    "sex_mode"
   ]
  },
  {
   "cell_type": "code",
   "execution_count": 53,
   "metadata": {
    "ExecuteTime": {
     "end_time": "2025-05-04T10:05:01.612477Z",
     "start_time": "2025-05-04T10:05:01.602942Z"
    }
   },
   "outputs": [
    {
     "data": {
      "text/plain": [
       "0"
      ]
     },
     "execution_count": 53,
     "metadata": {},
     "output_type": "execute_result"
    }
   ],
   "source": [
    "df['sex'] = df['sex'].fillna(sex_mode)\n",
    "df['sex'].isna().sum()"
   ]
  },
  {
   "cell_type": "code",
   "execution_count": 54,
   "metadata": {
    "ExecuteTime": {
     "end_time": "2025-05-04T10:05:01.809155Z",
     "start_time": "2025-05-04T10:05:01.803940Z"
    }
   },
   "outputs": [
    {
     "data": {
      "text/plain": [
       "Index(['age', 'sex', 'on_thyroxine', 'query_on_thyroxine',\n",
       "       'on_antithyroid_meds', 'sick', 'pregnant', 'thyroid_surgery',\n",
       "       'I131_treatment', 'query_hypothyroid', 'query_hyperthyroid', 'lithium',\n",
       "       'goitre', 'tumor', 'hypopituitary', 'psych', 'TSH_measured', 'TSH',\n",
       "       'T3_measured', 'T3', 'TT4_measured', 'TT4', 'T4U_measured', 'T4U',\n",
       "       'FTI_measured', 'FTI', 'TBG_measured', 'TBG', 'referral_source',\n",
       "       'target', 'patient_id'],\n",
       "      dtype='object')"
      ]
     },
     "execution_count": 54,
     "metadata": {},
     "output_type": "execute_result"
    }
   ],
   "source": [
    "df.columns"
   ]
  },
  {
   "cell_type": "markdown",
   "metadata": {},
   "source": [
    "Additional to the 'TBG' column, the columns TSH_measured', 'T3_measured', 'TT4_measured', 'T4U_measured', 'FTI_measured', 'TBG_measured', 'patient_id' were dropped as they do not contribute to the analysis and prediction. "
   ]
  },
  {
   "cell_type": "code",
   "execution_count": 56,
   "metadata": {
    "ExecuteTime": {
     "end_time": "2025-05-04T10:05:02.031879Z",
     "start_time": "2025-05-04T10:05:02.028709Z"
    }
   },
   "outputs": [],
   "source": [
    "# List of columns that were dropped\n",
    "col_to_drop = ['TSH_measured', 'T3_measured', 'TT4_measured', 'T4U_measured', 'FTI_measured', 'TBG_measured', 'patient_id', 'TBG']"
   ]
  },
  {
   "cell_type": "code",
   "execution_count": 57,
   "metadata": {
    "ExecuteTime": {
     "end_time": "2025-05-04T10:05:02.119578Z",
     "start_time": "2025-05-04T10:05:02.112248Z"
    }
   },
   "outputs": [],
   "source": [
    "# Dropping the columns in the 'col_to_drop' list \n",
    "df.drop(col_to_drop, axis = 1, inplace = True)"
   ]
  },
  {
   "cell_type": "code",
   "execution_count": 58,
   "metadata": {
    "ExecuteTime": {
     "end_time": "2025-05-04T10:05:02.205678Z",
     "start_time": "2025-05-04T10:05:02.203360Z"
    }
   },
   "outputs": [
    {
     "data": {
      "text/plain": [
       "Index(['age', 'sex', 'on_thyroxine', 'query_on_thyroxine',\n",
       "       'on_antithyroid_meds', 'sick', 'pregnant', 'thyroid_surgery',\n",
       "       'I131_treatment', 'query_hypothyroid', 'query_hyperthyroid', 'lithium',\n",
       "       'goitre', 'tumor', 'hypopituitary', 'psych', 'TSH', 'T3', 'TT4', 'T4U',\n",
       "       'FTI', 'referral_source', 'target'],\n",
       "      dtype='object')"
      ]
     },
     "execution_count": 58,
     "metadata": {},
     "output_type": "execute_result"
    }
   ],
   "source": [
    "df.columns"
   ]
  },
  {
   "cell_type": "code",
   "execution_count": 59,
   "metadata": {
    "ExecuteTime": {
     "end_time": "2025-05-04T10:05:02.347067Z",
     "start_time": "2025-05-04T10:05:02.343882Z"
    }
   },
   "outputs": [],
   "source": [
    "# List of columns still containing missing values\n",
    "col_with_null = ['TSH', 'T3', 'TT4', 'T4U', 'FTI']"
   ]
  },
  {
   "cell_type": "code",
   "execution_count": 60,
   "metadata": {},
   "outputs": [
    {
     "name": "stdout",
     "output_type": "stream",
     "text": [
      "          TSH        T3       TT4       T4U       FTI\n",
      "TSH  1.000000 -0.153425 -0.275152  0.077594 -0.275518\n",
      "T3  -0.153425  1.000000  0.557632  0.333870  0.387316\n",
      "TT4 -0.275152  0.557632  1.000000  0.373304  0.750770\n",
      "T4U  0.077594  0.333870  0.373304  1.000000 -0.233350\n",
      "FTI -0.275518  0.387316  0.750770 -0.233350  1.000000\n"
     ]
    }
   ],
   "source": [
    "# Correlating the columns in 'col_with_null' to find the suitable imputation method and finding if the column should be kept  \n",
    "correlation_matrix = df[col_with_null].corr()\n",
    "print(correlation_matrix)"
   ]
  },
  {
   "cell_type": "code",
   "execution_count": 61,
   "metadata": {},
   "outputs": [
    {
     "data": {
      "image/png": "[encoded data removed]",
      "text/plain": [
       "<Figure size 800x600 with 2 Axes>"
      ]
     },
     "metadata": {},
     "output_type": "display_data"
    }
   ],
   "source": [
    "plt.figure(figsize=(8, 6))\n",
    "sns.heatmap(correlation_matrix, annot=True, cmap='coolwarm', fmt='.2f')\n",
    "plt.title('Correlation Between Thyroid Hormone Measures')\n",
    "plt.show()\n"
   ]
  },
  {
   "cell_type": "markdown",
   "metadata": {},
   "source": [
    "Based on correlation matrix, we found that there are strong correlations between 'TT4' and 'FTI' columns (75%), and moderate correlation between the columns 'T3' and 'TT4' (56%) , 'TT4' and 'T4U' (37%), 'T3' and 'FTI' (39%) columns. \n",
    "\n",
    "Columns that have weak/moderate correlation with other columns are TSH, T3, T4U, these columns should be kept in. \n",
    "\n",
    "Columns 'TT4' and 'FTI' have strong correlation score of 75%. In most cases, FTI is calculated from devision of TT4 by T4U, therefore, the column 'FTI' is dependent column, it can be dropped. \n"
   ]
  },
  {
   "cell_type": "code",
   "execution_count": 63,
   "metadata": {},
   "outputs": [],
   "source": [
    "df.drop('FTI' , axis = 1, inplace = True)"
   ]
  },
  {
   "cell_type": "code",
   "execution_count": 64,
   "metadata": {},
   "outputs": [
    {
     "data": {
      "text/plain": [
       "age                       0\n",
       "sex                       0\n",
       "on_thyroxine              0\n",
       "query_on_thyroxine        0\n",
       "on_antithyroid_meds       0\n",
       "sick                      0\n",
       "pregnant                  0\n",
       "thyroid_surgery           0\n",
       "I131_treatment            0\n",
       "query_hypothyroid         0\n",
       "query_hyperthyroid        0\n",
       "lithium                   0\n",
       "goitre                    0\n",
       "tumor                     0\n",
       "hypopituitary             0\n",
       "psych                     0\n",
       "TSH                     840\n",
       "T3                     2603\n",
       "TT4                     442\n",
       "T4U                     806\n",
       "referral_source           0\n",
       "target                    0\n",
       "dtype: int64"
      ]
     },
     "execution_count": 64,
     "metadata": {},
     "output_type": "execute_result"
    }
   ],
   "source": [
    "df.isna().sum()"
   ]
  },
  {
   "cell_type": "code",
   "execution_count": 65,
   "metadata": {
    "ExecuteTime": {
     "end_time": "2025-05-04T10:05:03.195789Z",
     "start_time": "2025-05-04T10:05:03.187333Z"
    }
   },
   "outputs": [
    {
     "name": "stdout",
     "output_type": "stream",
     "text": [
      "Unique values in sex: ['F' 'M']\n",
      "Unique values in on_thyroxine: ['f' 't']\n",
      "Unique values in query_on_thyroxine: ['f' 't']\n",
      "Unique values in on_antithyroid_meds: ['f' 't']\n",
      "Unique values in sick: ['f' 't']\n",
      "Unique values in pregnant: ['f' 't']\n",
      "Unique values in thyroid_surgery: ['f' 't']\n",
      "Unique values in I131_treatment: ['f' 't']\n",
      "Unique values in query_hypothyroid: ['t' 'f']\n",
      "Unique values in query_hyperthyroid: ['f' 't']\n",
      "Unique values in lithium: ['f' 't']\n",
      "Unique values in goitre: ['f' 't']\n",
      "Unique values in tumor: ['f' 't']\n",
      "Unique values in hypopituitary: ['f' 't']\n",
      "Unique values in psych: ['f' 't']\n",
      "Unique values in referral_source: ['other' 'SVI' 'SVHC' 'STMW' 'SVHD' 'WEST']\n",
      "Unique values in target: ['Negative' 'Non-thyroidal Illness' 'Hypothyroid' 'Binding Protein'\n",
      " 'Replacement Therapy' 'Hyperthyroid' 'Treatment Effect']\n"
     ]
    }
   ],
   "source": [
    "# Unique values in the columns with 'object' data type\n",
    "for i in df.columns:\n",
    "    if df[i].dtype == 'object':\n",
    "        print(f'Unique values in {i}: {df[i].unique()}')"
   ]
  },
  {
   "cell_type": "code",
   "execution_count": 66,
   "metadata": {
    "ExecuteTime": {
     "end_time": "2025-05-04T10:05:03.376471Z",
     "start_time": "2025-05-04T10:05:03.373210Z"
    }
   },
   "outputs": [
    {
     "data": {
      "text/plain": [
       "(9029, 22)"
      ]
     },
     "execution_count": 66,
     "metadata": {},
     "output_type": "execute_result"
    }
   ],
   "source": [
    "#Shape of df\n",
    "df.shape"
   ]
  },
  {
   "cell_type": "code",
   "execution_count": 67,
   "metadata": {
    "ExecuteTime": {
     "end_time": "2025-05-04T10:05:03.935057Z",
     "start_time": "2025-05-04T10:05:03.929446Z"
    }
   },
   "outputs": [
    {
     "data": {
      "text/plain": [
       "array([   29,    41,    36,    32,    60,    77,    28,    54,    42,\n",
       "          51,    37,    16,    43,    63,    40,    56,    85,    71,\n",
       "          67,    55,    61,    46,    44,    82,    64,    70,    33,\n",
       "          59,    53,    52,    49,    35,    48,    27,    69,    76,\n",
       "          73,    68,    66,    30,    88,    38,    58,    21,    45,\n",
       "          83,    62,    25,    86,    75,    72,    14,    15,    39,\n",
       "          26,    20,    80,    90,    23,    18,    13,    78,    24,\n",
       "          81,    92,    57,    74,     9,    47,    17,    11,    50,\n",
       "          34,     8,    79,    31,    65,    84,    12,    10,    19,\n",
       "          22,     1,     2,    97,     6,    89,    87,   455,    93,\n",
       "           7,    91,     5,    94,     4, 65511,    95, 65512,     3,\n",
       "       65526])"
      ]
     },
     "execution_count": 67,
     "metadata": {},
     "output_type": "execute_result"
    }
   ],
   "source": [
    "#Unique values in 'age' column\n",
    "df['age'].unique()"
   ]
  },
  {
   "cell_type": "markdown",
   "metadata": {},
   "source": [
    "There are some discrepencies in the 'age' column. It is containing values like 455, 65511, 65512, and 65526 which indicates to the inconsistent data points."
   ]
  },
  {
   "cell_type": "code",
   "execution_count": 69,
   "metadata": {
    "ExecuteTime": {
     "end_time": "2025-05-04T10:05:04.061448Z",
     "start_time": "2025-05-04T10:05:04.054430Z"
    }
   },
   "outputs": [
    {
     "data": {
      "text/plain": [
       "array([29, 41, 36, 32, 60, 77, 28, 54, 42, 51, 37, 16, 43, 63, 40, 56, 85,\n",
       "       71, 67, 55, 61, 46, 44, 82, 64, 70, 33, 59, 53, 52, 49, 35, 48, 27,\n",
       "       69, 76, 73, 68, 66, 30, 88, 38, 58, 21, 45, 83, 62, 25, 86, 75, 72,\n",
       "       14, 15, 39, 26, 20, 80, 90, 23, 18, 13, 78, 24, 81, 92, 57, 74,  9,\n",
       "       47, 17, 11, 50, 34,  8, 79, 31, 65, 84, 12, 10, 19, 22,  1,  2, 97,\n",
       "        6, 89, 87, 93,  7, 91,  5, 94,  4, 95,  3])"
      ]
     },
     "execution_count": 69,
     "metadata": {},
     "output_type": "execute_result"
    }
   ],
   "source": [
    "# Filtering the values in 'age' column \n",
    "df = df[df['age'] <= 100]\n",
    "\n",
    "# Unique values in 'age' column\n",
    "df['age'].unique()"
   ]
  },
  {
   "cell_type": "code",
   "execution_count": 70,
   "metadata": {
    "ExecuteTime": {
     "end_time": "2025-05-04T10:05:04.165216Z",
     "start_time": "2025-05-04T10:05:04.162397Z"
    }
   },
   "outputs": [
    {
     "data": {
      "text/plain": [
       "(9025, 22)"
      ]
     },
     "execution_count": 70,
     "metadata": {},
     "output_type": "execute_result"
    }
   ],
   "source": [
    "df.shape"
   ]
  },
  {
   "cell_type": "code",
   "execution_count": 71,
   "metadata": {
    "ExecuteTime": {
     "end_time": "2025-05-04T10:05:04.256416Z",
     "start_time": "2025-05-04T10:05:04.250143Z"
    }
   },
   "outputs": [
    {
     "data": {
      "text/html": [
       "<div>\n",
       "<style scoped>\n",
       "    .dataframe tbody tr th:only-of-type {\n",
       "        vertical-align: middle;\n",
       "    }\n",
       "\n",
       "    .dataframe tbody tr th {\n",
       "        vertical-align: top;\n",
       "    }\n",
       "\n",
       "    .dataframe thead th {\n",
       "        text-align: right;\n",
       "    }\n",
       "</style>\n",
       "<table border=\"1\" class=\"dataframe\">\n",
       "  <thead>\n",
       "    <tr style=\"text-align: right;\">\n",
       "      <th></th>\n",
       "      <th>age</th>\n",
       "      <th>sex</th>\n",
       "      <th>on_thyroxine</th>\n",
       "      <th>query_on_thyroxine</th>\n",
       "      <th>on_antithyroid_meds</th>\n",
       "      <th>sick</th>\n",
       "      <th>pregnant</th>\n",
       "      <th>thyroid_surgery</th>\n",
       "      <th>I131_treatment</th>\n",
       "      <th>query_hypothyroid</th>\n",
       "      <th>...</th>\n",
       "      <th>goitre</th>\n",
       "      <th>tumor</th>\n",
       "      <th>hypopituitary</th>\n",
       "      <th>psych</th>\n",
       "      <th>TSH</th>\n",
       "      <th>T3</th>\n",
       "      <th>TT4</th>\n",
       "      <th>T4U</th>\n",
       "      <th>referral_source</th>\n",
       "      <th>target</th>\n",
       "    </tr>\n",
       "  </thead>\n",
       "  <tbody>\n",
       "  </tbody>\n",
       "</table>\n",
       "<p>0 rows × 22 columns</p>\n",
       "</div>"
      ],
      "text/plain": [
       "Empty DataFrame\n",
       "Columns: [age, sex, on_thyroxine, query_on_thyroxine, on_antithyroid_meds, sick, pregnant, thyroid_surgery, I131_treatment, query_hypothyroid, query_hyperthyroid, lithium, goitre, tumor, hypopituitary, psych, TSH, T3, TT4, T4U, referral_source, target]\n",
       "Index: []\n",
       "\n",
       "[0 rows x 22 columns]"
      ]
     },
     "execution_count": 71,
     "metadata": {},
     "output_type": "execute_result"
    }
   ],
   "source": [
    "# Checking whether data has any anomalies where patient is male but have 'true' in 'pregnant' column\n",
    "df[(df['sex']=='Male') & (df['pregnant'] == 't')]"
   ]
  },
  {
   "cell_type": "markdown",
   "metadata": {},
   "source": [
    "There are no instances in the dataset where a \"Male\" is marked as \"pregnant.\" This is a logical result and validates the integrity of the data for this specific condition. In such cases, we can infer that:\n",
    "\n",
    "* The dataset does not contain biologically implausible entries for this scenario.\n",
    "* The data aligns with expected real-world constraints (assuming there are no labeling or data entry errors)."
   ]
  },
  {
   "cell_type": "code",
   "execution_count": 73,
   "metadata": {
    "ExecuteTime": {
     "end_time": "2025-05-04T10:05:04.370498Z",
     "start_time": "2025-05-04T10:05:04.361482Z"
    }
   },
   "outputs": [],
   "source": [
    "# Creating a copy of 'df' without any null values for data visualization\n",
    "df1 = df.copy()"
   ]
  },
  {
   "cell_type": "markdown",
   "metadata": {},
   "source": [
    "## Data Encoding"
   ]
  },
  {
   "cell_type": "code",
   "execution_count": 75,
   "metadata": {
    "ExecuteTime": {
     "end_time": "2025-05-04T10:05:04.453089Z",
     "start_time": "2025-05-04T10:05:04.440733Z"
    }
   },
   "outputs": [
    {
     "name": "stdout",
     "output_type": "stream",
     "text": [
      "<class 'pandas.core.frame.DataFrame'>\n",
      "Index: 9025 entries, 0 to 9171\n",
      "Data columns (total 22 columns):\n",
      " #   Column               Non-Null Count  Dtype  \n",
      "---  ------               --------------  -----  \n",
      " 0   age                  9025 non-null   int64  \n",
      " 1   sex                  9025 non-null   object \n",
      " 2   on_thyroxine         9025 non-null   object \n",
      " 3   query_on_thyroxine   9025 non-null   object \n",
      " 4   on_antithyroid_meds  9025 non-null   object \n",
      " 5   sick                 9025 non-null   object \n",
      " 6   pregnant             9025 non-null   object \n",
      " 7   thyroid_surgery      9025 non-null   object \n",
      " 8   I131_treatment       9025 non-null   object \n",
      " 9   query_hypothyroid    9025 non-null   object \n",
      " 10  query_hyperthyroid   9025 non-null   object \n",
      " 11  lithium              9025 non-null   object \n",
      " 12  goitre               9025 non-null   object \n",
      " 13  tumor                9025 non-null   object \n",
      " 14  hypopituitary        9025 non-null   object \n",
      " 15  psych                9025 non-null   object \n",
      " 16  TSH                  8185 non-null   float64\n",
      " 17  T3                   6423 non-null   float64\n",
      " 18  TT4                  8583 non-null   float64\n",
      " 19  T4U                  8219 non-null   float64\n",
      " 20  referral_source      9025 non-null   object \n",
      " 21  target               9025 non-null   object \n",
      "dtypes: float64(4), int64(1), object(17)\n",
      "memory usage: 1.6+ MB\n"
     ]
    }
   ],
   "source": [
    "df.info()"
   ]
  },
  {
   "cell_type": "code",
   "execution_count": 76,
   "metadata": {
    "ExecuteTime": {
     "end_time": "2025-05-04T10:05:04.611448Z",
     "start_time": "2025-05-04T10:05:04.604988Z"
    }
   },
   "outputs": [
    {
     "name": "stdout",
     "output_type": "stream",
     "text": [
      "Unique values in sex: ['F' 'M']\n",
      "Unique values in on_thyroxine: ['f' 't']\n",
      "Unique values in query_on_thyroxine: ['f' 't']\n",
      "Unique values in on_antithyroid_meds: ['f' 't']\n",
      "Unique values in sick: ['f' 't']\n",
      "Unique values in pregnant: ['f' 't']\n",
      "Unique values in thyroid_surgery: ['f' 't']\n",
      "Unique values in I131_treatment: ['f' 't']\n",
      "Unique values in query_hypothyroid: ['t' 'f']\n",
      "Unique values in query_hyperthyroid: ['f' 't']\n",
      "Unique values in lithium: ['f' 't']\n",
      "Unique values in goitre: ['f' 't']\n",
      "Unique values in tumor: ['f' 't']\n",
      "Unique values in hypopituitary: ['f' 't']\n",
      "Unique values in psych: ['f' 't']\n",
      "Unique values in referral_source: ['other' 'SVI' 'SVHC' 'STMW' 'SVHD' 'WEST']\n",
      "Unique values in target: ['Negative' 'Non-thyroidal Illness' 'Hypothyroid' 'Binding Protein'\n",
      " 'Replacement Therapy' 'Hyperthyroid' 'Treatment Effect']\n"
     ]
    }
   ],
   "source": [
    "# Unique values in the columns with 'object' data type' and appending the column names in the list 'obj_col'\n",
    "obj_col = []\n",
    "for i in df.columns:\n",
    "    if df[i].dtype == 'object':\n",
    "        print(f'Unique values in {i}: {df[i].unique()}')\n",
    "        obj_col.append(i)"
   ]
  },
  {
   "cell_type": "code",
   "execution_count": 77,
   "metadata": {
    "ExecuteTime": {
     "end_time": "2025-05-04T10:05:04.820683Z",
     "start_time": "2025-05-04T10:05:04.817789Z"
    }
   },
   "outputs": [
    {
     "data": {
      "text/plain": [
       "['sex',\n",
       " 'on_thyroxine',\n",
       " 'query_on_thyroxine',\n",
       " 'on_antithyroid_meds',\n",
       " 'sick',\n",
       " 'pregnant',\n",
       " 'thyroid_surgery',\n",
       " 'I131_treatment',\n",
       " 'query_hypothyroid',\n",
       " 'query_hyperthyroid',\n",
       " 'lithium',\n",
       " 'goitre',\n",
       " 'tumor',\n",
       " 'hypopituitary',\n",
       " 'psych',\n",
       " 'referral_source',\n",
       " 'target']"
      ]
     },
     "execution_count": 77,
     "metadata": {},
     "output_type": "execute_result"
    }
   ],
   "source": [
    "obj_col"
   ]
  },
  {
   "cell_type": "code",
   "execution_count": 78,
   "metadata": {
    "ExecuteTime": {
     "end_time": "2025-05-04T10:05:04.993001Z",
     "start_time": "2025-05-04T10:05:04.990603Z"
    }
   },
   "outputs": [],
   "source": [
    "# Create mappings for categorical variables\n",
    "sex_map = {'F':0, 'M':1}\n",
    "obj_col_map = {'f':0, 't':1}"
   ]
  },
  {
   "cell_type": "code",
   "execution_count": 79,
   "metadata": {
    "ExecuteTime": {
     "end_time": "2025-05-04T10:05:04.907508Z",
     "start_time": "2025-05-04T10:05:04.905162Z"
    }
   },
   "outputs": [],
   "source": [
    "# Creating an object for Label Encoder Class\n",
    "le = LabelEncoder()"
   ]
  },
  {
   "cell_type": "code",
   "execution_count": 80,
   "metadata": {
    "ExecuteTime": {
     "end_time": "2025-05-04T10:05:05.032836Z",
     "start_time": "2025-05-04T10:05:05.030111Z"
    }
   },
   "outputs": [],
   "source": [
    "# Apply 'sex_map' on 'sex' column\n",
    "df['sex'] = df['sex'].map(sex_map)"
   ]
  },
  {
   "cell_type": "code",
   "execution_count": 81,
   "metadata": {
    "ExecuteTime": {
     "end_time": "2025-05-04T10:05:05.116650Z",
     "start_time": "2025-05-04T10:05:05.113316Z"
    }
   },
   "outputs": [],
   "source": [
    "# Label Encoding the 'referral_source' column\n",
    "df['referral_source'] = le.fit_transform(df['referral_source'])"
   ]
  },
  {
   "cell_type": "code",
   "execution_count": 82,
   "metadata": {
    "ExecuteTime": {
     "end_time": "2025-05-04T10:05:05.198139Z",
     "start_time": "2025-05-04T10:05:05.188846Z"
    }
   },
   "outputs": [],
   "source": [
    "# Apply 'obj_col_map' on columns with 'object' data type, except the 'target' column\n",
    "for i in df.columns:\n",
    "    if df[i].dtype == 'object' and i != 'target':\n",
    "        df[i] = df[i].map(obj_col_map)"
   ]
  },
  {
   "cell_type": "code",
   "execution_count": 83,
   "metadata": {
    "ExecuteTime": {
     "end_time": "2025-05-04T10:05:05.269690Z",
     "start_time": "2025-05-04T10:05:05.265304Z"
    }
   },
   "outputs": [
    {
     "name": "stdout",
     "output_type": "stream",
     "text": [
      "Unique values in sex: [0 1]\n",
      "Unique values in on_thyroxine: [0 1]\n",
      "Unique values in query_on_thyroxine: [0 1]\n",
      "Unique values in on_antithyroid_meds: [0 1]\n",
      "Unique values in sick: [0 1]\n",
      "Unique values in pregnant: [0 1]\n",
      "Unique values in thyroid_surgery: [0 1]\n",
      "Unique values in I131_treatment: [0 1]\n",
      "Unique values in query_hypothyroid: [1 0]\n",
      "Unique values in query_hyperthyroid: [0 1]\n",
      "Unique values in lithium: [0 1]\n",
      "Unique values in goitre: [0 1]\n",
      "Unique values in tumor: [0 1]\n",
      "Unique values in hypopituitary: [0 1]\n",
      "Unique values in psych: [0 1]\n",
      "Unique values in referral_source: [5 3 1 0 2 4]\n",
      "Unique values in target: ['Negative' 'Non-thyroidal Illness' 'Hypothyroid' 'Binding Protein'\n",
      " 'Replacement Therapy' 'Hyperthyroid' 'Treatment Effect']\n"
     ]
    }
   ],
   "source": [
    "for i in obj_col:\n",
    "        print(f'Unique values in {i}: {df[i].unique()}')"
   ]
  },
  {
   "cell_type": "code",
   "execution_count": 84,
   "metadata": {
    "ExecuteTime": {
     "end_time": "2025-05-04T10:05:05.445594Z",
     "start_time": "2025-05-04T10:05:05.430014Z"
    }
   },
   "outputs": [
    {
     "data": {
      "text/html": [
       "<div>\n",
       "<style scoped>\n",
       "    .dataframe tbody tr th:only-of-type {\n",
       "        vertical-align: middle;\n",
       "    }\n",
       "\n",
       "    .dataframe tbody tr th {\n",
       "        vertical-align: top;\n",
       "    }\n",
       "\n",
       "    .dataframe thead th {\n",
       "        text-align: right;\n",
       "    }\n",
       "</style>\n",
       "<table border=\"1\" class=\"dataframe\">\n",
       "  <thead>\n",
       "    <tr style=\"text-align: right;\">\n",
       "      <th></th>\n",
       "      <th>age</th>\n",
       "      <th>sex</th>\n",
       "      <th>on_thyroxine</th>\n",
       "      <th>query_on_thyroxine</th>\n",
       "      <th>on_antithyroid_meds</th>\n",
       "      <th>sick</th>\n",
       "      <th>pregnant</th>\n",
       "      <th>thyroid_surgery</th>\n",
       "      <th>I131_treatment</th>\n",
       "      <th>query_hypothyroid</th>\n",
       "      <th>...</th>\n",
       "      <th>goitre</th>\n",
       "      <th>tumor</th>\n",
       "      <th>hypopituitary</th>\n",
       "      <th>psych</th>\n",
       "      <th>TSH</th>\n",
       "      <th>T3</th>\n",
       "      <th>TT4</th>\n",
       "      <th>T4U</th>\n",
       "      <th>referral_source</th>\n",
       "      <th>target</th>\n",
       "    </tr>\n",
       "  </thead>\n",
       "  <tbody>\n",
       "    <tr>\n",
       "      <th>0</th>\n",
       "      <td>29</td>\n",
       "      <td>0</td>\n",
       "      <td>0</td>\n",
       "      <td>0</td>\n",
       "      <td>0</td>\n",
       "      <td>0</td>\n",
       "      <td>0</td>\n",
       "      <td>0</td>\n",
       "      <td>0</td>\n",
       "      <td>1</td>\n",
       "      <td>...</td>\n",
       "      <td>0</td>\n",
       "      <td>0</td>\n",
       "      <td>0</td>\n",
       "      <td>0</td>\n",
       "      <td>0.3</td>\n",
       "      <td>NaN</td>\n",
       "      <td>NaN</td>\n",
       "      <td>NaN</td>\n",
       "      <td>5</td>\n",
       "      <td>Negative</td>\n",
       "    </tr>\n",
       "    <tr>\n",
       "      <th>1</th>\n",
       "      <td>29</td>\n",
       "      <td>0</td>\n",
       "      <td>0</td>\n",
       "      <td>0</td>\n",
       "      <td>0</td>\n",
       "      <td>0</td>\n",
       "      <td>0</td>\n",
       "      <td>0</td>\n",
       "      <td>0</td>\n",
       "      <td>0</td>\n",
       "      <td>...</td>\n",
       "      <td>0</td>\n",
       "      <td>0</td>\n",
       "      <td>0</td>\n",
       "      <td>0</td>\n",
       "      <td>1.6</td>\n",
       "      <td>1.9</td>\n",
       "      <td>128.0</td>\n",
       "      <td>NaN</td>\n",
       "      <td>5</td>\n",
       "      <td>Negative</td>\n",
       "    </tr>\n",
       "    <tr>\n",
       "      <th>2</th>\n",
       "      <td>41</td>\n",
       "      <td>0</td>\n",
       "      <td>0</td>\n",
       "      <td>0</td>\n",
       "      <td>0</td>\n",
       "      <td>0</td>\n",
       "      <td>0</td>\n",
       "      <td>0</td>\n",
       "      <td>0</td>\n",
       "      <td>0</td>\n",
       "      <td>...</td>\n",
       "      <td>0</td>\n",
       "      <td>0</td>\n",
       "      <td>0</td>\n",
       "      <td>0</td>\n",
       "      <td>NaN</td>\n",
       "      <td>NaN</td>\n",
       "      <td>NaN</td>\n",
       "      <td>NaN</td>\n",
       "      <td>5</td>\n",
       "      <td>Negative</td>\n",
       "    </tr>\n",
       "    <tr>\n",
       "      <th>3</th>\n",
       "      <td>36</td>\n",
       "      <td>0</td>\n",
       "      <td>0</td>\n",
       "      <td>0</td>\n",
       "      <td>0</td>\n",
       "      <td>0</td>\n",
       "      <td>0</td>\n",
       "      <td>0</td>\n",
       "      <td>0</td>\n",
       "      <td>0</td>\n",
       "      <td>...</td>\n",
       "      <td>0</td>\n",
       "      <td>0</td>\n",
       "      <td>0</td>\n",
       "      <td>0</td>\n",
       "      <td>NaN</td>\n",
       "      <td>NaN</td>\n",
       "      <td>NaN</td>\n",
       "      <td>NaN</td>\n",
       "      <td>5</td>\n",
       "      <td>Negative</td>\n",
       "    </tr>\n",
       "    <tr>\n",
       "      <th>4</th>\n",
       "      <td>32</td>\n",
       "      <td>0</td>\n",
       "      <td>0</td>\n",
       "      <td>0</td>\n",
       "      <td>0</td>\n",
       "      <td>0</td>\n",
       "      <td>0</td>\n",
       "      <td>0</td>\n",
       "      <td>0</td>\n",
       "      <td>0</td>\n",
       "      <td>...</td>\n",
       "      <td>0</td>\n",
       "      <td>0</td>\n",
       "      <td>0</td>\n",
       "      <td>0</td>\n",
       "      <td>NaN</td>\n",
       "      <td>NaN</td>\n",
       "      <td>NaN</td>\n",
       "      <td>NaN</td>\n",
       "      <td>5</td>\n",
       "      <td>Non-thyroidal Illness</td>\n",
       "    </tr>\n",
       "    <tr>\n",
       "      <th>...</th>\n",
       "      <td>...</td>\n",
       "      <td>...</td>\n",
       "      <td>...</td>\n",
       "      <td>...</td>\n",
       "      <td>...</td>\n",
       "      <td>...</td>\n",
       "      <td>...</td>\n",
       "      <td>...</td>\n",
       "      <td>...</td>\n",
       "      <td>...</td>\n",
       "      <td>...</td>\n",
       "      <td>...</td>\n",
       "      <td>...</td>\n",
       "      <td>...</td>\n",
       "      <td>...</td>\n",
       "      <td>...</td>\n",
       "      <td>...</td>\n",
       "      <td>...</td>\n",
       "      <td>...</td>\n",
       "      <td>...</td>\n",
       "      <td>...</td>\n",
       "    </tr>\n",
       "    <tr>\n",
       "      <th>9167</th>\n",
       "      <td>56</td>\n",
       "      <td>1</td>\n",
       "      <td>0</td>\n",
       "      <td>0</td>\n",
       "      <td>0</td>\n",
       "      <td>0</td>\n",
       "      <td>0</td>\n",
       "      <td>0</td>\n",
       "      <td>0</td>\n",
       "      <td>0</td>\n",
       "      <td>...</td>\n",
       "      <td>0</td>\n",
       "      <td>0</td>\n",
       "      <td>0</td>\n",
       "      <td>0</td>\n",
       "      <td>NaN</td>\n",
       "      <td>NaN</td>\n",
       "      <td>64.0</td>\n",
       "      <td>0.83</td>\n",
       "      <td>3</td>\n",
       "      <td>Negative</td>\n",
       "    </tr>\n",
       "    <tr>\n",
       "      <th>9168</th>\n",
       "      <td>22</td>\n",
       "      <td>1</td>\n",
       "      <td>0</td>\n",
       "      <td>0</td>\n",
       "      <td>0</td>\n",
       "      <td>0</td>\n",
       "      <td>0</td>\n",
       "      <td>0</td>\n",
       "      <td>0</td>\n",
       "      <td>0</td>\n",
       "      <td>...</td>\n",
       "      <td>0</td>\n",
       "      <td>0</td>\n",
       "      <td>0</td>\n",
       "      <td>0</td>\n",
       "      <td>NaN</td>\n",
       "      <td>NaN</td>\n",
       "      <td>91.0</td>\n",
       "      <td>0.92</td>\n",
       "      <td>3</td>\n",
       "      <td>Negative</td>\n",
       "    </tr>\n",
       "    <tr>\n",
       "      <th>9169</th>\n",
       "      <td>69</td>\n",
       "      <td>1</td>\n",
       "      <td>0</td>\n",
       "      <td>0</td>\n",
       "      <td>0</td>\n",
       "      <td>0</td>\n",
       "      <td>0</td>\n",
       "      <td>0</td>\n",
       "      <td>0</td>\n",
       "      <td>0</td>\n",
       "      <td>...</td>\n",
       "      <td>0</td>\n",
       "      <td>0</td>\n",
       "      <td>0</td>\n",
       "      <td>0</td>\n",
       "      <td>NaN</td>\n",
       "      <td>NaN</td>\n",
       "      <td>113.0</td>\n",
       "      <td>1.27</td>\n",
       "      <td>3</td>\n",
       "      <td>Binding Protein</td>\n",
       "    </tr>\n",
       "    <tr>\n",
       "      <th>9170</th>\n",
       "      <td>47</td>\n",
       "      <td>0</td>\n",
       "      <td>0</td>\n",
       "      <td>0</td>\n",
       "      <td>0</td>\n",
       "      <td>0</td>\n",
       "      <td>0</td>\n",
       "      <td>0</td>\n",
       "      <td>0</td>\n",
       "      <td>0</td>\n",
       "      <td>...</td>\n",
       "      <td>0</td>\n",
       "      <td>0</td>\n",
       "      <td>0</td>\n",
       "      <td>0</td>\n",
       "      <td>NaN</td>\n",
       "      <td>NaN</td>\n",
       "      <td>75.0</td>\n",
       "      <td>0.85</td>\n",
       "      <td>5</td>\n",
       "      <td>Negative</td>\n",
       "    </tr>\n",
       "    <tr>\n",
       "      <th>9171</th>\n",
       "      <td>31</td>\n",
       "      <td>1</td>\n",
       "      <td>0</td>\n",
       "      <td>0</td>\n",
       "      <td>0</td>\n",
       "      <td>0</td>\n",
       "      <td>0</td>\n",
       "      <td>0</td>\n",
       "      <td>0</td>\n",
       "      <td>1</td>\n",
       "      <td>...</td>\n",
       "      <td>0</td>\n",
       "      <td>0</td>\n",
       "      <td>0</td>\n",
       "      <td>0</td>\n",
       "      <td>NaN</td>\n",
       "      <td>NaN</td>\n",
       "      <td>66.0</td>\n",
       "      <td>1.02</td>\n",
       "      <td>5</td>\n",
       "      <td>Negative</td>\n",
       "    </tr>\n",
       "  </tbody>\n",
       "</table>\n",
       "<p>9025 rows × 22 columns</p>\n",
       "</div>"
      ],
      "text/plain": [
       "      age  sex  on_thyroxine  query_on_thyroxine  on_antithyroid_meds  sick  \\\n",
       "0      29    0             0                   0                    0     0   \n",
       "1      29    0             0                   0                    0     0   \n",
       "2      41    0             0                   0                    0     0   \n",
       "3      36    0             0                   0                    0     0   \n",
       "4      32    0             0                   0                    0     0   \n",
       "...   ...  ...           ...                 ...                  ...   ...   \n",
       "9167   56    1             0                   0                    0     0   \n",
       "9168   22    1             0                   0                    0     0   \n",
       "9169   69    1             0                   0                    0     0   \n",
       "9170   47    0             0                   0                    0     0   \n",
       "9171   31    1             0                   0                    0     0   \n",
       "\n",
       "      pregnant  thyroid_surgery  I131_treatment  query_hypothyroid  ...  \\\n",
       "0            0                0               0                  1  ...   \n",
       "1            0                0               0                  0  ...   \n",
       "2            0                0               0                  0  ...   \n",
       "3            0                0               0                  0  ...   \n",
       "4            0                0               0                  0  ...   \n",
       "...        ...              ...             ...                ...  ...   \n",
       "9167         0                0               0                  0  ...   \n",
       "9168         0                0               0                  0  ...   \n",
       "9169         0                0               0                  0  ...   \n",
       "9170         0                0               0                  0  ...   \n",
       "9171         0                0               0                  1  ...   \n",
       "\n",
       "      goitre  tumor  hypopituitary  psych  TSH   T3    TT4   T4U  \\\n",
       "0          0      0              0      0  0.3  NaN    NaN   NaN   \n",
       "1          0      0              0      0  1.6  1.9  128.0   NaN   \n",
       "2          0      0              0      0  NaN  NaN    NaN   NaN   \n",
       "3          0      0              0      0  NaN  NaN    NaN   NaN   \n",
       "4          0      0              0      0  NaN  NaN    NaN   NaN   \n",
       "...      ...    ...            ...    ...  ...  ...    ...   ...   \n",
       "9167       0      0              0      0  NaN  NaN   64.0  0.83   \n",
       "9168       0      0              0      0  NaN  NaN   91.0  0.92   \n",
       "9169       0      0              0      0  NaN  NaN  113.0  1.27   \n",
       "9170       0      0              0      0  NaN  NaN   75.0  0.85   \n",
       "9171       0      0              0      0  NaN  NaN   66.0  1.02   \n",
       "\n",
       "      referral_source                 target  \n",
       "0                   5               Negative  \n",
       "1                   5               Negative  \n",
       "2                   5               Negative  \n",
       "3                   5               Negative  \n",
       "4                   5  Non-thyroidal Illness  \n",
       "...               ...                    ...  \n",
       "9167                3               Negative  \n",
       "9168                3               Negative  \n",
       "9169                3        Binding Protein  \n",
       "9170                5               Negative  \n",
       "9171                5               Negative  \n",
       "\n",
       "[9025 rows x 22 columns]"
      ]
     },
     "execution_count": 84,
     "metadata": {},
     "output_type": "execute_result"
    }
   ],
   "source": [
    "df"
   ]
  },
  {
   "cell_type": "markdown",
   "metadata": {},
   "source": [
    "# Data Split"
   ]
  },
  {
   "cell_type": "code",
   "execution_count": 143,
   "metadata": {
    "ExecuteTime": {
     "end_time": "2025-05-03T20:20:25.163553Z",
     "start_time": "2025-05-03T20:20:25.161024Z"
    }
   },
   "outputs": [
    {
     "name": "stdout",
     "output_type": "stream",
     "text": [
      "(7220, 21)\n",
      "(1805, 21)\n",
      "(7220,)\n",
      "(1805,)\n"
     ]
    }
   ],
   "source": [
    "# Splits the DataFrame into features (x) and target variable (y)\n",
    "x = df.drop('target', axis = 1)\n",
    "y = df['target']\n",
    "# Splitting the data into training and testing sets, maintaining the original class distribution\n",
    "x_train, x_test, y_train, y_test = train_test_split(x, y, test_size=0.2, random_state=42, stratify=y)\n",
    "print(x_train.shape)\n",
    "print(x_test.shape)\n",
    "print(y_train.shape)\n",
    "print(y_test.shape)"
   ]
  },
  {
   "cell_type": "code",
   "execution_count": 147,
   "metadata": {},
   "outputs": [],
   "source": [
    "num_cols = ['TSH', 'T3', 'TT4', 'T4U']\n",
    "imputer = SimpleImputer(strategy='median')\n",
    "x_train[num_cols] = imputer.fit_transform(x_train[num_cols])\n",
    "x_test[num_cols] = imputer.transform(x_test[num_cols])"
   ]
  },
  {
   "cell_type": "markdown",
   "metadata": {},
   "source": [
    "# UDF to plot AU-PRC Curve"
   ]
  },
  {
   "cell_type": "code",
   "execution_count": 150,
   "metadata": {
    "ExecuteTime": {
     "end_time": "2025-05-03T20:20:34.462073Z",
     "start_time": "2025-05-03T20:20:34.451859Z"
    }
   },
   "outputs": [],
   "source": [
    "# Creating a function 'au_prc' to plot AU-PRC curve along with Average Precision for each class\n",
    "def au_prc(y_test_data, y_score_data):\n",
    "    from sklearn.metrics import precision_recall_curve, average_precision_score\n",
    "    from sklearn.preprocessing import label_binarize\n",
    "    import matplotlib.pyplot as plt\n",
    "    import numpy as np\n",
    "    \n",
    "    # Binarize the labels for multi-class OvR\n",
    "    classes = np.unique(y_test_data)\n",
    "    y_true_binarized = label_binarize(y_test_data, classes=classes)\n",
    "    \n",
    "    # Store precision-recall metrics for each class\n",
    "    precision_dict = {}\n",
    "    recall_dict = {}\n",
    "    average_precision_dict = {}\n",
    "    \n",
    "    for i, class_label in enumerate(classes):\n",
    "        precision_dict[class_label], recall_dict[class_label], _ = precision_recall_curve(\n",
    "            y_true_binarized[:, i], y_score_data[:, i]\n",
    "        )\n",
    "        average_precision_dict[class_label] = average_precision_score(\n",
    "            y_true_binarized[:, i], y_score_data[:, i]\n",
    "        )\n",
    "    \n",
    "    # Compute micro-average PR curve\n",
    "    precision_micro, recall_micro, _ = precision_recall_curve(\n",
    "        y_true_binarized.ravel(), y_score_data.ravel()\n",
    "    )\n",
    "    average_precision_micro = average_precision_score(y_true_binarized, y_score_data, average=\"micro\")\n",
    "    \n",
    "    # Plot Precision-Recall Curve\n",
    "    plt.figure(figsize=(8, 6))\n",
    "    for class_label in classes:\n",
    "        plt.plot(\n",
    "            recall_dict[class_label], \n",
    "            precision_dict[class_label], \n",
    "            label=f\"Class {class_label} (AP = {average_precision_dict[class_label]:.2f})\"\n",
    "        )\n",
    "    \n",
    "    # Add micro-average curve\n",
    "    plt.plot(\n",
    "        recall_micro, \n",
    "        precision_micro, \n",
    "        label=f\"Micro-Average (AP = {average_precision_micro:.2f})\", \n",
    "        color='gold', linestyle='--'\n",
    "    )\n",
    "    \n",
    "    plt.xlabel(\"Recall\")\n",
    "    plt.ylabel(\"Precision\")\n",
    "    plt.title(\"Precision-Recall Curve for Multi-Class Classification\")\n",
    "    plt.legend(loc=\"best\")\n",
    "    plt.grid()\n",
    "    plt.show()\n"
   ]
  },
  {
   "cell_type": "markdown",
   "metadata": {},
   "source": [
    "# Data Modelling"
   ]
  },
  {
   "cell_type": "markdown",
   "metadata": {},
   "source": [
    "## Logistic Regression"
   ]
  },
  {
   "cell_type": "code",
   "execution_count": 156,
   "metadata": {
    "ExecuteTime": {
     "end_time": "2025-05-03T20:24:33.445139Z",
     "start_time": "2025-05-03T20:24:31.340374Z"
    }
   },
   "outputs": [
    {
     "name": "stdout",
     "output_type": "stream",
     "text": [
      "\n",
      " [[ 53   7   0   8   4   1   2]\n",
      " [  4  32   0   2   1   0   0]\n",
      " [  4   0 103   1   3   4   5]\n",
      " [102  48  25 828 229 105  16]\n",
      " [  3  11   0  31  95   4   0]\n",
      " [  0   0   0   4   0  63   0]\n",
      " [  0   0   0   0   0   0   7]]\n",
      "\n",
      "Accuracy: 0.6542936288088642\n",
      "\n",
      "Class Binding Protein: Average Precision = 0.4766320948785119\n",
      "Class Hyperthyroid: Average Precision = 0.7316196107065337\n",
      "Class Hypothyroid: Average Precision = 0.9186568770625747\n",
      "Class Negative: Average Precision = 0.9308942589887731\n",
      "Class Non-thyroidal Illness: Average Precision = 0.48147757713492323\n",
      "Class Replacement Therapy: Average Precision = 0.6663068516130032\n",
      "Class Treatment Effect: Average Precision = 0.3115178055027679\n",
      "Micro-average Precision Score: 0.6283626699851247\n"
     ]
    },
    {
     "data": {
      "image/png": "[encoded data removed]",
      "text/plain": [
       "<Figure size 800x600 with 1 Axes>"
      ]
     },
     "metadata": {},
     "output_type": "display_data"
    }
   ],
   "source": [
    "from sklearn.linear_model import LogisticRegression\n",
    "\n",
    "#List of columns with continuous values and the copies of x_train and x_test\n",
    "col_to_encode = ['TSH', 'T3', 'TT4', 'T4U']\n",
    "x_train_lr = x_train.copy()\n",
    "x_test_lr = x_test.copy()\n",
    "\n",
    "#Creating object for the class Standard Scaler\n",
    "sc = StandardScaler()\n",
    "\n",
    "# Transform the values of columns in 'col_to_encode' for both training and test features\n",
    "x_train_lr[col_to_encode] = sc.fit_transform(x_train_lr[col_to_encode])\n",
    "x_test_lr[col_to_encode] = sc.transform(x_test_lr[col_to_encode])\n",
    "\n",
    "# Training Logistic Regression\n",
    "lr = LogisticRegression(class_weight='balanced', max_iter=3000)\n",
    "lr.fit(x_train_lr, y_train)\n",
    "\n",
    "# Making Predictions\n",
    "y_pred = lr.predict(x_test_lr)\n",
    "y_score = lr.predict_proba(x_test_lr)\n",
    "\n",
    "# Binarize the target for multiclass precision\n",
    "y_test_binarized = label_binarize(y_test, classes=lr.classes_)\n",
    "\n",
    "#Evaluate\n",
    "print(f'\\n {confusion_matrix(y_test, y_pred)}\\n')\n",
    "print(f'Accuracy: {accuracy_score(y_test, y_pred)}\\n')\n",
    "# Compute Average Precision Score for each class\n",
    "average_precisions = []\n",
    "for i, class_label in enumerate(lr.classes_):\n",
    "    avg_precision = average_precision_score(y_test_binarized[:, i], y_score[:, i])\n",
    "    average_precisions.append(avg_precision)\n",
    "    print(f'Class {class_label}: Average Precision = {avg_precision}')\n",
    "# Micro Average Precision (unweighted mean)\n",
    "print(f\"Micro-average Precision Score: {average_precision_score(y_test_binarized, y_score, average='micro')}\")\n",
    "au_prc(y_test_data= y_test, y_score_data= y_score)"
   ]
  },
  {
   "cell_type": "markdown",
   "metadata": {},
   "source": [
    "## Random Forest Classifier"
   ]
  },
  {
   "cell_type": "code",
   "execution_count": 159,
   "metadata": {
    "ExecuteTime": {
     "end_time": "2025-05-03T20:25:23.777114Z",
     "start_time": "2025-05-03T20:25:12.929362Z"
    }
   },
   "outputs": [
    {
     "name": "stdout",
     "output_type": "stream",
     "text": [
      "\n",
      " [[  48    3    0   20    4    0    0]\n",
      " [   4   26    0    7    2    0    0]\n",
      " [   0    0  115    1    1    2    1]\n",
      " [  11    4    2 1311   19    5    1]\n",
      " [   1    2    0   43   98    0    0]\n",
      " [   0    0    1   18    0   48    0]\n",
      " [   0    0    1    5    0    0    1]]\n",
      "\n",
      "Accuracy: 0.9124653739612189\n",
      "\n",
      "Class Binding Protein: Average Precision = 0.8160157324683849\n",
      "Class Hyperthyroid: Average Precision = 0.7966784204719008\n",
      "Class Hypothyroid: Average Precision = 0.9895339845738568\n",
      "Class Negative: Average Precision = 0.9875656785540446\n",
      "Class Non-thyroidal Illness: Average Precision = 0.8164667214423791\n",
      "Class Replacement Therapy: Average Precision = 0.903078242372056\n",
      "Class Treatment Effect: Average Precision = 0.45263863121005976\n",
      "Micro-average Precision Score: 0.9710298363968751\n"
     ]
    },
    {
     "data": {
      "image/png": "[encoded data removed]",
      "text/plain": [
       "<Figure size 800x600 with 1 Axes>"
      ]
     },
     "metadata": {},
     "output_type": "display_data"
    }
   ],
   "source": [
    "from sklearn.ensemble import RandomForestClassifier\n",
    "\n",
    "# Training Random Forest Classifier\n",
    "rf = RandomForestClassifier(random_state=42)\n",
    "rf.fit(x_train, y_train)\n",
    "\n",
    "# Making Predictions\n",
    "y_pred = rf.predict(x_test)\n",
    "y_score = rf.predict_proba(x_test)\n",
    "\n",
    "# Binarize the target for multiclass precision\n",
    "y_test_binarized = label_binarize(y_test, classes=lr.classes_)\n",
    "\n",
    "#Evaluate\n",
    "print(f'\\n {confusion_matrix(y_test, y_pred)}\\n')\n",
    "print(f'Accuracy: {accuracy_score(y_test, y_pred)}\\n')\n",
    "# Compute Average Precision Score for each class\n",
    "average_precisions = []\n",
    "for i, class_label in enumerate(lr.classes_):\n",
    "    avg_precision = average_precision_score(y_test_binarized[:, i], y_score[:, i])\n",
    "    average_precisions.append(avg_precision)\n",
    "    print(f'Class {class_label}: Average Precision = {avg_precision}')\n",
    "# Micro Average Precision (unweighted mean)\n",
    "print(f\"Micro-average Precision Score: {average_precision_score(y_test_binarized, y_score, average='micro')}\")\n",
    "au_prc(y_test_data= y_test, y_score_data= y_score)"
   ]
  },
  {
   "cell_type": "code",
   "execution_count": 161,
   "metadata": {
    "ExecuteTime": {
     "end_time": "2025-05-03T20:29:43.076749Z",
     "start_time": "2025-05-03T20:29:42.424958Z"
    }
   },
   "outputs": [
    {
     "name": "stdout",
     "output_type": "stream",
     "text": [
      "\n",
      " [[  39    2    0   29    5    0    0]\n",
      " [   4   24    0   10    1    0    0]\n",
      " [   0    0  114    1    1    3    1]\n",
      " [   1    4    2 1323   18    5    0]\n",
      " [   2    0    0   44   98    0    0]\n",
      " [   0    0    0   15    0   52    0]\n",
      " [   0    0    1    5    0    0    1]]\n",
      "\n",
      "Accuracy: 0.9146814404432133\n",
      "\n",
      "Class Binding Protein: Average Precision = 0.786850214506529\n",
      "Class Hyperthyroid: Average Precision = 0.785491195015807\n",
      "Class Hypothyroid: Average Precision = 0.9866531523543061\n",
      "Class Negative: Average Precision = 0.9844979070033756\n",
      "Class Non-thyroidal Illness: Average Precision = 0.7907564116882636\n",
      "Class Replacement Therapy: Average Precision = 0.9002599979885012\n",
      "Class Treatment Effect: Average Precision = 0.4237786023500309\n",
      "Micro-average Precision Score: 0.966466776983602\n"
     ]
    },
    {
     "data": {
      "image/png": "[encoded data removed]",
      "text/plain": [
       "<Figure size 800x600 with 1 Axes>"
      ]
     },
     "metadata": {},
     "output_type": "display_data"
    }
   ],
   "source": [
    "# Training Random Forest Clssifier with customized Class Weights\n",
    "rf2 = RandomForestClassifier(random_state=42, class_weight={'Hyperthyroid':1500, 'Hypothyroid':100, 'Negative':25})\n",
    "rf2.fit(x_train, y_train)\n",
    "\n",
    "# Making Predictions\n",
    "y_pred = rf2.predict(x_test)\n",
    "y_score = rf2.predict_proba(x_test)\n",
    "\n",
    "# Binarize the target for multiclass precision\n",
    "y_test_binarized = label_binarize(y_test, classes=lr.classes_)\n",
    "\n",
    "#Evaluate\n",
    "print(f'\\n {confusion_matrix(y_test, y_pred)}\\n')\n",
    "print(f'Accuracy: {accuracy_score(y_test, y_pred)}\\n')\n",
    "# Compute Average Precision Score for each class\n",
    "average_precisions = []\n",
    "for i, class_label in enumerate(lr.classes_):\n",
    "    avg_precision = average_precision_score(y_test_binarized[:, i], y_score[:, i])\n",
    "    average_precisions.append(avg_precision)\n",
    "    print(f'Class {class_label}: Average Precision = {avg_precision}')\n",
    "# Micro Average Precision (unweighted mean)\n",
    "print(f\"Micro-average Precision Score: {average_precision_score(y_test_binarized, y_score, average='micro')}\")\n",
    "au_prc(y_test_data= y_test, y_score_data= y_score)"
   ]
  },
  {
   "cell_type": "markdown",
   "metadata": {},
   "source": [
    "## Gradient Boosting Classifier"
   ]
  },
  {
   "cell_type": "code",
   "execution_count": 164,
   "metadata": {
    "ExecuteTime": {
     "end_time": "2025-05-03T20:29:58.771004Z",
     "start_time": "2025-05-03T20:29:53.747996Z"
    }
   },
   "outputs": [
    {
     "name": "stdout",
     "output_type": "stream",
     "text": [
      "\n",
      " [[  67    5    1    2    0    0    0]\n",
      " [   4   33    0    0    2    0    0]\n",
      " [   0    0  111    1    3    3    2]\n",
      " [  49   13    4 1148  106   32    1]\n",
      " [   2    3    0   14  124    1    0]\n",
      " [   0    0    1    3    1   61    1]\n",
      " [   0    0    0    0    0    0    7]]\n",
      "\n",
      "Accuracy: 0.8592797783933518\n",
      "\n",
      "Class Binding Protein: Average Precision = 0.7813247943236967\n",
      "Class Hyperthyroid: Average Precision = 0.8175263186704484\n",
      "Class Hypothyroid: Average Precision = 0.9705206218276584\n",
      "Class Negative: Average Precision = 0.9786317016529855\n",
      "Class Non-thyroidal Illness: Average Precision = 0.7587269560386217\n",
      "Class Replacement Therapy: Average Precision = 0.8905196694707763\n",
      "Class Treatment Effect: Average Precision = 0.9682539682539681\n",
      "Micro-average Precision Score: 0.920084875687472\n"
     ]
    },
    {
     "data": {
      "image/png": "[encoded data removed]",
      "text/plain": [
       "<Figure size 800x600 with 1 Axes>"
      ]
     },
     "metadata": {},
     "output_type": "display_data"
    }
   ],
   "source": [
    "from sklearn.utils.class_weight import compute_sample_weight\n",
    "from sklearn.ensemble import GradientBoostingClassifier\n",
    "\n",
    "# Compute sample weights to balance the classes\n",
    "sample_weights = compute_sample_weight(class_weight='balanced', y=y_train)\n",
    "\n",
    "# Train the GradientBoostingClassifier with the sample weights\n",
    "gb = GradientBoostingClassifier(random_state=10)\n",
    "gb.fit(x_train, y_train, sample_weight=sample_weights)\n",
    "\n",
    "# Making Predictions\n",
    "y_pred = gb.predict(x_test)\n",
    "y_score = gb.predict_proba(x_test)\n",
    "\n",
    "# Binarize the target for multiclass precision\n",
    "y_test_binarized = label_binarize(y_test, classes=lr.classes_)\n",
    "\n",
    "#Evaluate\n",
    "print(f'\\n {confusion_matrix(y_test, y_pred)}\\n')\n",
    "print(f'Accuracy: {accuracy_score(y_test, y_pred)}\\n')\n",
    "# Compute Average Precision Score for each class\n",
    "average_precisions = []\n",
    "for i, class_label in enumerate(lr.classes_):\n",
    "    avg_precision = average_precision_score(y_test_binarized[:, i], y_score[:, i])\n",
    "    average_precisions.append(avg_precision)\n",
    "    print(f'Class {class_label}: Average Precision = {avg_precision}')\n",
    "# Micro Average Precision (unweighted mean)\n",
    "print(f\"Micro-average Precision Score: {average_precision_score(y_test_binarized, y_score, average='micro')}\")\n",
    "au_prc(y_test_data= y_test, y_score_data= y_score)"
   ]
  },
  {
   "cell_type": "markdown",
   "metadata": {},
   "source": [
    "## XGBoost Classifier"
   ]
  },
  {
   "cell_type": "code",
   "execution_count": 167,
   "metadata": {
    "ExecuteTime": {
     "end_time": "2025-05-03T20:42:59.653253Z",
     "start_time": "2025-05-03T20:42:56.707495Z"
    }
   },
   "outputs": [
    {
     "ename": "ModuleNotFoundError",
     "evalue": "No module named 'xgboost'",
     "output_type": "error",
     "traceback": [
      "\u001b[0;31m---------------------------------------------------------------------------\u001b[0m",
      "\u001b[0;31mModuleNotFoundError\u001b[0m                       Traceback (most recent call last)",
      "Cell \u001b[0;32mIn[167], line 2\u001b[0m\n\u001b[1;32m      1\u001b[0m \u001b[38;5;28;01mfrom\u001b[39;00m \u001b[38;5;21;01msklearn\u001b[39;00m\u001b[38;5;21;01m.\u001b[39;00m\u001b[38;5;21;01mutils\u001b[39;00m\u001b[38;5;21;01m.\u001b[39;00m\u001b[38;5;21;01mclass_weight\u001b[39;00m \u001b[38;5;28;01mimport\u001b[39;00m compute_sample_weight\n\u001b[0;32m----> 2\u001b[0m \u001b[38;5;28;01mfrom\u001b[39;00m \u001b[38;5;21;01mxgboost\u001b[39;00m \u001b[38;5;28;01mimport\u001b[39;00m XGBClassifier\n\u001b[1;32m      4\u001b[0m \u001b[38;5;66;03m# Mapping the Encoded Target values to Different Classes of Thyroid Conditions\u001b[39;00m\n\u001b[1;32m      5\u001b[0m target_map \u001b[38;5;241m=\u001b[39m {\u001b[38;5;124m'\u001b[39m\u001b[38;5;124mHyperthyroid\u001b[39m\u001b[38;5;124m'\u001b[39m:\u001b[38;5;241m0\u001b[39m, \u001b[38;5;124m'\u001b[39m\u001b[38;5;124mHypothyroid\u001b[39m\u001b[38;5;124m'\u001b[39m:\u001b[38;5;241m1\u001b[39m, \u001b[38;5;124m'\u001b[39m\u001b[38;5;124mNegative\u001b[39m\u001b[38;5;124m'\u001b[39m:\u001b[38;5;241m2\u001b[39m, \u001b[38;5;124m'\u001b[39m\u001b[38;5;124mNon-thyroidal Illness\u001b[39m\u001b[38;5;124m'\u001b[39m:\u001b[38;5;241m3\u001b[39m, \u001b[38;5;124m'\u001b[39m\u001b[38;5;124mReplacement Therapy\u001b[39m\u001b[38;5;124m'\u001b[39m:\u001b[38;5;241m4\u001b[39m, \u001b[38;5;124m'\u001b[39m\u001b[38;5;124mTreatment Effect\u001b[39m\u001b[38;5;124m'\u001b[39m:\u001b[38;5;241m5\u001b[39m, \u001b[38;5;124m'\u001b[39m\u001b[38;5;124mBinding Protein\u001b[39m\u001b[38;5;124m'\u001b[39m:\u001b[38;5;241m6\u001b[39m}\n",
      "\u001b[0;31mModuleNotFoundError\u001b[0m: No module named 'xgboost'"
     ]
    }
   ],
   "source": [
    "from sklearn.utils.class_weight import compute_sample_weight\n",
    "from xgboost import XGBClassifier\n",
    "\n",
    "# Mapping the Encoded Target values to Different Classes of Thyroid Conditions\n",
    "target_map = {'Hyperthyroid':0, 'Hypothyroid':1, 'Negative':2, 'Non-thyroidal Illness':3, 'Replacement Therapy':4, 'Treatment Effect':5, 'Binding Protein':6}\n",
    "y_train_encoded = y_train.map(target_map)\n",
    "y_test_encoded = y_test.map(target_map)\n",
    "\n",
    "# Compute sample weights to balance the classes\n",
    "sample_weights = compute_sample_weight(class_weight='balanced', y=y_train_encoded)\n",
    "\n",
    "# Train the XGBoostingClassifier with the sample weights\n",
    "xgb = XGBClassifier(\n",
    "    random_state=10,\n",
    "    eval_metric='mlogloss',\n",
    "    scale_pos_weight=1,  \n",
    "    use_label_encoder=False,\n",
    "    max_depth=6,\n",
    "    learning_rate=0.1,\n",
    "    n_estimators=200\n",
    ")\n",
    "\n",
    "xgb.fit(x_train, y_train_encoded, sample_weight=sample_weights)\n",
    "\n",
    "# Making Predictions\n",
    "y_pred = xgb.predict(x_test)\n",
    "y_score = xgb.predict_proba(x_test)\n",
    "\n",
    "# Binarize the target for multiclass precision\n",
    "y_test_binarized = label_binarize(y_test, classes=lr.classes_)\n",
    "\n",
    "#Evaluate\n",
    "print(f'\\n {confusion_matrix(y_test_encoded, y_pred)}\\n')\n",
    "print(f'Accuracy: {accuracy_score(y_test_encoded, y_pred)}\\n')\n",
    "# Compute Average Precision Score for each class\n",
    "average_precisions = []\n",
    "for i, class_label in enumerate(lr.classes_):\n",
    "    avg_precision = average_precision_score(y_test_binarized[:, i], y_score[:, i])\n",
    "    average_precisions.append(avg_precision)\n",
    "    print(f'Class {class_label}: Average Precision = {avg_precision}')\n",
    "print(f\"Micro-average Precision Score: {average_precision_score(y_test_binarized, y_score, average='micro')}\")\n",
    "au_prc(y_test_data= y_test, y_score_data= y_score)"
   ]
  },
  {
   "cell_type": "markdown",
   "metadata": {},
   "source": [
    "## Support Vector Machine"
   ]
  },
  {
   "cell_type": "code",
   "execution_count": 169,
   "metadata": {
    "ExecuteTime": {
     "end_time": "2025-05-03T20:39:04.339989Z",
     "start_time": "2025-05-03T20:38:49.181524Z"
    }
   },
   "outputs": [
    {
     "name": "stdout",
     "output_type": "stream",
     "text": [
      "\n",
      "Confusion Matrix:\n",
      "[[ 35   0   0   1   0   0   3]\n",
      " [  0 102   0   5   4   2   7]\n",
      " [ 55 175   1 796 161  13 152]\n",
      " [ 23   1   0 106   8   0   6]\n",
      " [  1   0   0   3  61   1   1]\n",
      " [  0   1   0   0   0   6   0]\n",
      " [  6   1   0   5   2   2  59]]\n",
      "\n",
      "Accuracy: 0.2050\n",
      "\n",
      "Class Hyperthyroid: Average Precision = 0.5689\n",
      "Class Hypothyroid: Average Precision = 0.8730\n",
      "Class Negative: Average Precision = 0.9508\n",
      "Class Non-thyroidal Illness: Average Precision = 0.3862\n",
      "Class Replacement Therapy: Average Precision = 0.5853\n",
      "Class Treatment Effect: Average Precision = 0.5227\n",
      "Class Binding Protein: Average Precision = 0.5698\n",
      "Micro-average Precision Score: 0.8960\n"
     ]
    }
   ],
   "source": [
    "from sklearn.svm import SVC\n",
    "from sklearn.utils.class_weight import compute_sample_weight\n",
    "from sklearn.preprocessing import label_binarize, StandardScaler\n",
    "from sklearn.metrics import confusion_matrix, accuracy_score, average_precision_score\n",
    "\n",
    "# Mapping the Encoded Target values to Different Classes of Thyroid Conditions\n",
    "target_map = {'Hyperthyroid':0, 'Hypothyroid':1, 'Negative':2, 'Non-thyroidal Illness':3, 'Replacement Therapy':4, 'Treatment Effect':5, 'Binding Protein':6}\n",
    "y_train_encoded = y_train.map(target_map)\n",
    "y_test_encoded = y_test.map(target_map)\n",
    "\n",
    "# Standardize Features (SVM Performs Better with Normalized Data)\n",
    "scaler = StandardScaler()\n",
    "x_train = scaler.fit_transform(x_train)\n",
    "x_test = scaler.transform(x_test)\n",
    "\n",
    "# Compute Sample Weights to Balance the Classes\n",
    "sample_weights = compute_sample_weight(class_weight='balanced', y=y_train_encoded)\n",
    "\n",
    "# Train Support Vector Machine (SVM) Classifier\n",
    "svm = SVC(kernel='rbf', probability=True, class_weight='balanced', random_state=10)\n",
    "svm.fit(x_train, y_train_encoded, sample_weight=sample_weights)\n",
    "\n",
    "# Making Predictions\n",
    "y_pred = svm.predict(x_test)\n",
    "y_score = svm.predict_proba(x_test)  # Get class probabilities\n",
    "\n",
    "# Binarize the target for multiclass precision\n",
    "y_test_binarized = label_binarize(y_test_encoded, classes=[0, 1, 2, 3, 4, 5, 6])\n",
    "\n",
    "# Evaluate Performance\n",
    "print(f'\\nConfusion Matrix:\\n{confusion_matrix(y_test_encoded, y_pred)}\\n')\n",
    "print(f'Accuracy: {accuracy_score(y_test_encoded, y_pred):.4f}\\n')\n",
    "\n",
    "# Compute Average Precision Score for each class\n",
    "average_precisions = []\n",
    "for i, class_label in enumerate(target_map.keys()):\n",
    "    if y_test_binarized[:, i].sum() > 0:  # Ensure at least one sample in the class\n",
    "        avg_precision = average_precision_score(y_test_binarized[:, i], y_score[:, i])\n",
    "    else:\n",
    "        avg_precision = 0  # Avoid errors in case of missing class\n",
    "    average_precisions.append(avg_precision)\n",
    "    print(f'Class {class_label}: Average Precision = {avg_precision:.4f}')\n",
    "\n",
    "# Micro-average Precision Score\n",
    "print(f\"Micro-average Precision Score: {average_precision_score(y_test_binarized, y_score, average='micro'):.4f}\")\n"
   ]
  },
  {
   "cell_type": "markdown",
   "metadata": {},
   "source": [
    "## Deep Learning Models\n"
   ]
  },
  {
   "cell_type": "code",
   "execution_count": 171,
   "metadata": {
    "ExecuteTime": {
     "end_time": "2025-05-03T20:36:46.787819Z",
     "start_time": "2025-05-03T20:36:33.816231Z"
    }
   },
   "outputs": [
    {
     "name": "stdout",
     "output_type": "stream",
     "text": [
      "Epoch 1/50\n"
     ]
    },
    {
     "name": "stderr",
     "output_type": "stream",
     "text": [
      "/opt/anaconda3/lib/python3.12/site-packages/keras/src/layers/core/dense.py:87: UserWarning: Do not pass an `input_shape`/`input_dim` argument to a layer. When using Sequential models, prefer using an `Input(shape)` object as the first layer in the model instead.\n",
      "  super().__init__(activity_regularizer=activity_regularizer, **kwargs)\n"
     ]
    },
    {
     "name": "stdout",
     "output_type": "stream",
     "text": [
      "\u001b[1m226/226\u001b[0m \u001b[32m━━━━━━━━━━━━━━━━━━━━\u001b[0m\u001b[37m\u001b[0m \u001b[1m1s\u001b[0m 1ms/step - accuracy: 0.2073 - loss: 2.1900 - val_accuracy: 0.5690 - val_loss: 1.5673\n",
      "Epoch 2/50\n",
      "\u001b[1m226/226\u001b[0m \u001b[32m━━━━━━━━━━━━━━━━━━━━\u001b[0m\u001b[37m\u001b[0m \u001b[1m0s\u001b[0m 690us/step - accuracy: 0.3099 - loss: 1.1556 - val_accuracy: 0.5368 - val_loss: 1.4186\n",
      "Epoch 3/50\n",
      "\u001b[1m226/226\u001b[0m \u001b[32m━━━━━━━━━━━━━━━━━━━━\u001b[0m\u001b[37m\u001b[0m \u001b[1m0s\u001b[0m 652us/step - accuracy: 0.3801 - loss: 1.0654 - val_accuracy: 0.5601 - val_loss: 1.3389\n",
      "Epoch 4/50\n",
      "\u001b[1m226/226\u001b[0m \u001b[32m━━━━━━━━━━━━━━━━━━━━\u001b[0m\u001b[37m\u001b[0m \u001b[1m0s\u001b[0m 663us/step - accuracy: 0.4229 - loss: 0.9460 - val_accuracy: 0.5895 - val_loss: 1.2607\n",
      "Epoch 5/50\n",
      "\u001b[1m226/226\u001b[0m \u001b[32m━━━━━━━━━━━━━━━━━━━━\u001b[0m\u001b[37m\u001b[0m \u001b[1m0s\u001b[0m 659us/step - accuracy: 0.4333 - loss: 0.8538 - val_accuracy: 0.6410 - val_loss: 1.1566\n",
      "Epoch 6/50\n",
      "\u001b[1m226/226\u001b[0m \u001b[32m━━━━━━━━━━━━━━━━━━━━\u001b[0m\u001b[37m\u001b[0m \u001b[1m0s\u001b[0m 670us/step - accuracy: 0.4858 - loss: 0.8358 - val_accuracy: 0.6460 - val_loss: 1.0948\n",
      "Epoch 7/50\n",
      "\u001b[1m226/226\u001b[0m \u001b[32m━━━━━━━━━━━━━━━━━━━━\u001b[0m\u001b[37m\u001b[0m \u001b[1m0s\u001b[0m 657us/step - accuracy: 0.4916 - loss: 0.8092 - val_accuracy: 0.6726 - val_loss: 1.0312\n",
      "Epoch 8/50\n",
      "\u001b[1m226/226\u001b[0m \u001b[32m━━━━━━━━━━━━━━━━━━━━\u001b[0m\u001b[37m\u001b[0m \u001b[1m0s\u001b[0m 1ms/step - accuracy: 0.5260 - loss: 0.7333 - val_accuracy: 0.6681 - val_loss: 1.0241\n",
      "Epoch 9/50\n",
      "\u001b[1m226/226\u001b[0m \u001b[32m━━━━━━━━━━━━━━━━━━━━\u001b[0m\u001b[37m\u001b[0m \u001b[1m0s\u001b[0m 689us/step - accuracy: 0.5348 - loss: 0.7484 - val_accuracy: 0.6720 - val_loss: 0.9560\n",
      "Epoch 10/50\n",
      "\u001b[1m226/226\u001b[0m \u001b[32m━━━━━━━━━━━━━━━━━━━━\u001b[0m\u001b[37m\u001b[0m \u001b[1m0s\u001b[0m 684us/step - accuracy: 0.5735 - loss: 0.6576 - val_accuracy: 0.6798 - val_loss: 0.9129\n",
      "Epoch 11/50\n",
      "\u001b[1m226/226\u001b[0m \u001b[32m━━━━━━━━━━━━━━━━━━━━\u001b[0m\u001b[37m\u001b[0m \u001b[1m0s\u001b[0m 682us/step - accuracy: 0.5773 - loss: 0.6327 - val_accuracy: 0.6853 - val_loss: 0.9030\n",
      "Epoch 12/50\n",
      "\u001b[1m226/226\u001b[0m \u001b[32m━━━━━━━━━━━━━━━━━━━━\u001b[0m\u001b[37m\u001b[0m \u001b[1m0s\u001b[0m 689us/step - accuracy: 0.5873 - loss: 0.6135 - val_accuracy: 0.6665 - val_loss: 0.8829\n",
      "Epoch 13/50\n",
      "\u001b[1m226/226\u001b[0m \u001b[32m━━━━━━━━━━━━━━━━━━━━\u001b[0m\u001b[37m\u001b[0m \u001b[1m0s\u001b[0m 686us/step - accuracy: 0.5763 - loss: 0.6590 - val_accuracy: 0.6753 - val_loss: 0.8854\n",
      "Epoch 14/50\n",
      "\u001b[1m226/226\u001b[0m \u001b[32m━━━━━━━━━━━━━━━━━━━━\u001b[0m\u001b[37m\u001b[0m \u001b[1m0s\u001b[0m 711us/step - accuracy: 0.5887 - loss: 0.5882 - val_accuracy: 0.6820 - val_loss: 0.8621\n",
      "Epoch 15/50\n",
      "\u001b[1m226/226\u001b[0m \u001b[32m━━━━━━━━━━━━━━━━━━━━\u001b[0m\u001b[37m\u001b[0m \u001b[1m0s\u001b[0m 672us/step - accuracy: 0.5897 - loss: 0.5674 - val_accuracy: 0.6798 - val_loss: 0.8791\n",
      "Epoch 16/50\n",
      "\u001b[1m226/226\u001b[0m \u001b[32m━━━━━━━━━━━━━━━━━━━━\u001b[0m\u001b[37m\u001b[0m \u001b[1m0s\u001b[0m 685us/step - accuracy: 0.6017 - loss: 0.5805 - val_accuracy: 0.6759 - val_loss: 0.8711\n",
      "Epoch 17/50\n",
      "\u001b[1m226/226\u001b[0m \u001b[32m━━━━━━━━━━━━━━━━━━━━\u001b[0m\u001b[37m\u001b[0m \u001b[1m0s\u001b[0m 673us/step - accuracy: 0.6193 - loss: 0.5301 - val_accuracy: 0.6825 - val_loss: 0.8163\n",
      "Epoch 18/50\n",
      "\u001b[1m226/226\u001b[0m \u001b[32m━━━━━━━━━━━━━━━━━━━━\u001b[0m\u001b[37m\u001b[0m \u001b[1m0s\u001b[0m 668us/step - accuracy: 0.6314 - loss: 0.5406 - val_accuracy: 0.6947 - val_loss: 0.8103\n",
      "Epoch 19/50\n",
      "\u001b[1m226/226\u001b[0m \u001b[32m━━━━━━━━━━━━━━━━━━━━\u001b[0m\u001b[37m\u001b[0m \u001b[1m0s\u001b[0m 667us/step - accuracy: 0.6343 - loss: 0.5293 - val_accuracy: 0.7019 - val_loss: 0.7891\n",
      "Epoch 20/50\n",
      "\u001b[1m226/226\u001b[0m \u001b[32m━━━━━━━━━━━━━━━━━━━━\u001b[0m\u001b[37m\u001b[0m \u001b[1m0s\u001b[0m 674us/step - accuracy: 0.6280 - loss: 0.5182 - val_accuracy: 0.7180 - val_loss: 0.7493\n",
      "Epoch 21/50\n",
      "\u001b[1m226/226\u001b[0m \u001b[32m━━━━━━━━━━━━━━━━━━━━\u001b[0m\u001b[37m\u001b[0m \u001b[1m0s\u001b[0m 673us/step - accuracy: 0.6439 - loss: 0.4960 - val_accuracy: 0.7363 - val_loss: 0.7425\n",
      "Epoch 22/50\n",
      "\u001b[1m226/226\u001b[0m \u001b[32m━━━━━━━━━━━━━━━━━━━━\u001b[0m\u001b[37m\u001b[0m \u001b[1m0s\u001b[0m 668us/step - accuracy: 0.6508 - loss: 0.5177 - val_accuracy: 0.7307 - val_loss: 0.7439\n",
      "Epoch 23/50\n",
      "\u001b[1m226/226\u001b[0m \u001b[32m━━━━━━━━━━━━━━━━━━━━\u001b[0m\u001b[37m\u001b[0m \u001b[1m0s\u001b[0m 1ms/step - accuracy: 0.6459 - loss: 0.5000 - val_accuracy: 0.7213 - val_loss: 0.7660\n",
      "Epoch 24/50\n",
      "\u001b[1m226/226\u001b[0m \u001b[32m━━━━━━━━━━━━━━━━━━━━\u001b[0m\u001b[37m\u001b[0m \u001b[1m0s\u001b[0m 696us/step - accuracy: 0.6489 - loss: 0.5320 - val_accuracy: 0.7335 - val_loss: 0.7498\n",
      "Epoch 25/50\n",
      "\u001b[1m226/226\u001b[0m \u001b[32m━━━━━━━━━━━━━━━━━━━━\u001b[0m\u001b[37m\u001b[0m \u001b[1m0s\u001b[0m 686us/step - accuracy: 0.6654 - loss: 0.4818 - val_accuracy: 0.7368 - val_loss: 0.7347\n",
      "Epoch 26/50\n",
      "\u001b[1m226/226\u001b[0m \u001b[32m━━━━━━━━━━━━━━━━━━━━\u001b[0m\u001b[37m\u001b[0m \u001b[1m0s\u001b[0m 794us/step - accuracy: 0.6709 - loss: 0.5150 - val_accuracy: 0.7191 - val_loss: 0.7574\n",
      "Epoch 27/50\n",
      "\u001b[1m226/226\u001b[0m \u001b[32m━━━━━━━━━━━━━━━━━━━━\u001b[0m\u001b[37m\u001b[0m \u001b[1m0s\u001b[0m 713us/step - accuracy: 0.6496 - loss: 0.4719 - val_accuracy: 0.7424 - val_loss: 0.7301\n",
      "Epoch 28/50\n",
      "\u001b[1m226/226\u001b[0m \u001b[32m━━━━━━━━━━━━━━━━━━━━\u001b[0m\u001b[37m\u001b[0m \u001b[1m0s\u001b[0m 670us/step - accuracy: 0.6693 - loss: 0.5174 - val_accuracy: 0.7341 - val_loss: 0.7347\n",
      "Epoch 29/50\n",
      "\u001b[1m226/226\u001b[0m \u001b[32m━━━━━━━━━━━━━━━━━━━━\u001b[0m\u001b[37m\u001b[0m \u001b[1m0s\u001b[0m 687us/step - accuracy: 0.6657 - loss: 0.4710 - val_accuracy: 0.7557 - val_loss: 0.7072\n",
      "Epoch 30/50\n",
      "\u001b[1m226/226\u001b[0m \u001b[32m━━━━━━━━━━━━━━━━━━━━\u001b[0m\u001b[37m\u001b[0m \u001b[1m0s\u001b[0m 677us/step - accuracy: 0.6918 - loss: 0.4334 - val_accuracy: 0.7651 - val_loss: 0.6476\n",
      "Epoch 31/50\n",
      "\u001b[1m226/226\u001b[0m \u001b[32m━━━━━━━━━━━━━━━━━━━━\u001b[0m\u001b[37m\u001b[0m \u001b[1m0s\u001b[0m 679us/step - accuracy: 0.6891 - loss: 0.4328 - val_accuracy: 0.7662 - val_loss: 0.6646\n",
      "Epoch 32/50\n",
      "\u001b[1m226/226\u001b[0m \u001b[32m━━━━━━━━━━━━━━━━━━━━\u001b[0m\u001b[37m\u001b[0m \u001b[1m0s\u001b[0m 685us/step - accuracy: 0.6827 - loss: 0.4599 - val_accuracy: 0.7557 - val_loss: 0.6981\n",
      "Epoch 33/50\n",
      "\u001b[1m226/226\u001b[0m \u001b[32m━━━━━━━━━━━━━━━━━━━━\u001b[0m\u001b[37m\u001b[0m \u001b[1m0s\u001b[0m 675us/step - accuracy: 0.6849 - loss: 0.4978 - val_accuracy: 0.7590 - val_loss: 0.6755\n",
      "Epoch 34/50\n",
      "\u001b[1m226/226\u001b[0m \u001b[32m━━━━━━━━━━━━━━━━━━━━\u001b[0m\u001b[37m\u001b[0m \u001b[1m0s\u001b[0m 682us/step - accuracy: 0.6883 - loss: 0.4254 - val_accuracy: 0.7529 - val_loss: 0.6934\n",
      "Epoch 35/50\n",
      "\u001b[1m226/226\u001b[0m \u001b[32m━━━━━━━━━━━━━━━━━━━━\u001b[0m\u001b[37m\u001b[0m \u001b[1m0s\u001b[0m 668us/step - accuracy: 0.6986 - loss: 0.4164 - val_accuracy: 0.7529 - val_loss: 0.6926\n",
      "Epoch 36/50\n",
      "\u001b[1m226/226\u001b[0m \u001b[32m━━━━━━━━━━━━━━━━━━━━\u001b[0m\u001b[37m\u001b[0m \u001b[1m0s\u001b[0m 683us/step - accuracy: 0.6794 - loss: 0.4701 - val_accuracy: 0.7673 - val_loss: 0.6533\n",
      "Epoch 37/50\n",
      "\u001b[1m226/226\u001b[0m \u001b[32m━━━━━━━━━━━━━━━━━━━━\u001b[0m\u001b[37m\u001b[0m \u001b[1m0s\u001b[0m 668us/step - accuracy: 0.6936 - loss: 0.4404 - val_accuracy: 0.7662 - val_loss: 0.6935\n",
      "Epoch 38/50\n",
      "\u001b[1m226/226\u001b[0m \u001b[32m━━━━━━━━━━━━━━━━━━━━\u001b[0m\u001b[37m\u001b[0m \u001b[1m0s\u001b[0m 672us/step - accuracy: 0.6924 - loss: 0.4236 - val_accuracy: 0.7645 - val_loss: 0.6551\n",
      "Epoch 39/50\n",
      "\u001b[1m226/226\u001b[0m \u001b[32m━━━━━━━━━━━━━━━━━━━━\u001b[0m\u001b[37m\u001b[0m \u001b[1m0s\u001b[0m 695us/step - accuracy: 0.6995 - loss: 0.4285 - val_accuracy: 0.7629 - val_loss: 0.6619\n",
      "Epoch 40/50\n",
      "\u001b[1m226/226\u001b[0m \u001b[32m━━━━━━━━━━━━━━━━━━━━\u001b[0m\u001b[37m\u001b[0m \u001b[1m0s\u001b[0m 698us/step - accuracy: 0.7055 - loss: 0.4142 - val_accuracy: 0.7679 - val_loss: 0.6516\n",
      "Epoch 41/50\n",
      "\u001b[1m226/226\u001b[0m \u001b[32m━━━━━━━━━━━━━━━━━━━━\u001b[0m\u001b[37m\u001b[0m \u001b[1m0s\u001b[0m 684us/step - accuracy: 0.7060 - loss: 0.4069 - val_accuracy: 0.7773 - val_loss: 0.6330\n",
      "Epoch 42/50\n",
      "\u001b[1m226/226\u001b[0m \u001b[32m━━━━━━━━━━━━━━━━━━━━\u001b[0m\u001b[37m\u001b[0m \u001b[1m0s\u001b[0m 1ms/step - accuracy: 0.7160 - loss: 0.4415 - val_accuracy: 0.7601 - val_loss: 0.6688\n",
      "Epoch 43/50\n",
      "\u001b[1m226/226\u001b[0m \u001b[32m━━━━━━━━━━━━━━━━━━━━\u001b[0m\u001b[37m\u001b[0m \u001b[1m0s\u001b[0m 707us/step - accuracy: 0.7075 - loss: 0.4758 - val_accuracy: 0.7762 - val_loss: 0.6419\n",
      "Epoch 44/50\n",
      "\u001b[1m226/226\u001b[0m \u001b[32m━━━━━━━━━━━━━━━━━━━━\u001b[0m\u001b[37m\u001b[0m \u001b[1m0s\u001b[0m 705us/step - accuracy: 0.6865 - loss: 0.4649 - val_accuracy: 0.7651 - val_loss: 0.6524\n",
      "Epoch 45/50\n",
      "\u001b[1m226/226\u001b[0m \u001b[32m━━━━━━━━━━━━━━━━━━━━\u001b[0m\u001b[37m\u001b[0m \u001b[1m0s\u001b[0m 700us/step - accuracy: 0.7074 - loss: 0.3940 - val_accuracy: 0.7673 - val_loss: 0.6448\n",
      "Epoch 46/50\n",
      "\u001b[1m226/226\u001b[0m \u001b[32m━━━━━━━━━━━━━━━━━━━━\u001b[0m\u001b[37m\u001b[0m \u001b[1m0s\u001b[0m 692us/step - accuracy: 0.7204 - loss: 0.4226 - val_accuracy: 0.7745 - val_loss: 0.6243\n",
      "Epoch 47/50\n",
      "\u001b[1m226/226\u001b[0m \u001b[32m━━━━━━━━━━━━━━━━━━━━\u001b[0m\u001b[37m\u001b[0m \u001b[1m0s\u001b[0m 698us/step - accuracy: 0.7177 - loss: 0.4095 - val_accuracy: 0.7801 - val_loss: 0.6276\n",
      "Epoch 48/50\n",
      "\u001b[1m226/226\u001b[0m \u001b[32m━━━━━━━━━━━━━━━━━━━━\u001b[0m\u001b[37m\u001b[0m \u001b[1m0s\u001b[0m 717us/step - accuracy: 0.7184 - loss: 0.3861 - val_accuracy: 0.7634 - val_loss: 0.6664\n",
      "Epoch 49/50\n",
      "\u001b[1m226/226\u001b[0m \u001b[32m━━━━━━━━━━━━━━━━━━━━\u001b[0m\u001b[37m\u001b[0m \u001b[1m0s\u001b[0m 703us/step - accuracy: 0.7185 - loss: 0.3721 - val_accuracy: 0.7690 - val_loss: 0.6457\n",
      "Epoch 50/50\n",
      "\u001b[1m226/226\u001b[0m \u001b[32m━━━━━━━━━━━━━━━━━━━━\u001b[0m\u001b[37m\u001b[0m \u001b[1m0s\u001b[0m 702us/step - accuracy: 0.7164 - loss: 0.3861 - val_accuracy: 0.7773 - val_loss: 0.6182\n",
      "\u001b[1m57/57\u001b[0m \u001b[32m━━━━━━━━━━━━━━━━━━━━\u001b[0m\u001b[37m\u001b[0m \u001b[1m0s\u001b[0m 869us/step\n",
      "\n",
      "Confusion Matrix:\n",
      "[[  34    0    0    1    1    0    3]\n",
      " [   0  108    2    2    3    4    1]\n",
      " [  32   32 1032  119   56   12   70]\n",
      " [   9    0   26  103    3    0    3]\n",
      " [   1    0    2    1   62    1    0]\n",
      " [   0    0    0    0    0    7    0]\n",
      " [   7    1    6    2    0    2   57]]\n",
      "\n",
      "Accuracy: 0.7773\n"
     ]
    }
   ],
   "source": [
    "import tensorflow as tf\n",
    "from tensorflow import keras\n",
    "from tensorflow.keras.models import Sequential\n",
    "from tensorflow.keras.layers import Dense, Dropout, BatchNormalization\n",
    "from tensorflow.keras.optimizers import Adam\n",
    "from sklearn.preprocessing import LabelBinarizer\n",
    "from sklearn.utils.class_weight import compute_class_weight\n",
    "\n",
    "\n",
    "# Map target values\n",
    "target_map =  {'Hyperthyroid':0, 'Hypothyroid':1, 'Negative':2, 'Non-thyroidal Illness':3, 'Replacement Therapy':4, 'Treatment Effect':5, 'Binding Protein':6}\n",
    "y_train_encoded = y_train.map(target_map)\n",
    "y_test_encoded = y_test.map(target_map)\n",
    "\n",
    "# Compute class weights for imbalanced data\n",
    "class_weights_dict = dict(enumerate(compute_class_weight(class_weight='balanced', \n",
    "                                                         classes=np.unique(y_train_encoded), \n",
    "                                                         y=y_train_encoded)))\n",
    "\n",
    "# One-hot encode target labels\n",
    "lb = LabelBinarizer()\n",
    "y_train_onehot = lb.fit_transform(y_train_encoded)\n",
    "y_test_onehot = lb.transform(y_test_encoded)\n",
    "\n",
    "# Define Neural Network Model\n",
    "model = Sequential([\n",
    "    Dense(128, activation='relu', input_shape=(x_train.shape[1],)),\n",
    "    BatchNormalization(),\n",
    "    Dropout(0.3),\n",
    "    \n",
    "    Dense(64, activation='relu'),\n",
    "    BatchNormalization(),\n",
    "    Dropout(0.3),\n",
    "    \n",
    "    Dense(32, activation='relu'),\n",
    "    BatchNormalization(),\n",
    "    Dropout(0.2),\n",
    "\n",
    "    Dense(7, activation='softmax')  # 3 classes\n",
    "])\n",
    "\n",
    "# Compile Model\n",
    "model.compile(optimizer=Adam(learning_rate=0.001), \n",
    "              loss='categorical_crossentropy', \n",
    "              metrics=['accuracy'])\n",
    "\n",
    "# Train Model\n",
    "history = model.fit(x_train, y_train_onehot, \n",
    "                    validation_data=(x_test, y_test_onehot), \n",
    "                    epochs=50, batch_size=32, \n",
    "                    class_weight=class_weights_dict, \n",
    "                    verbose=1)\n",
    "\n",
    "# Predictions\n",
    "y_pred_prob = model.predict(x_test)\n",
    "y_pred = np.argmax(y_pred_prob, axis=1)\n",
    "\n",
    "# Evaluate\n",
    "print(f'\\nConfusion Matrix:\\n{confusion_matrix(y_test_encoded, y_pred)}\\n')\n",
    "print(f'Accuracy: {accuracy_score(y_test_encoded, y_pred):.4f}')\n"
   ]
  },
  {
   "cell_type": "markdown",
   "metadata": {},
   "source": [
    "## KNN model "
   ]
  },
  {
   "cell_type": "code",
   "execution_count": 173,
   "metadata": {
    "ExecuteTime": {
     "end_time": "2025-05-03T20:37:31.294637Z",
     "start_time": "2025-05-03T20:37:31.199275Z"
    }
   },
   "outputs": [
    {
     "name": "stdout",
     "output_type": "stream",
     "text": [
      "\n",
      "Confusion Matrix:\n",
      "[[  20    0   13    1    0    0    5]\n",
      " [   0   53   63    0    0    3    1]\n",
      " [   3    5 1321   12    4    0    8]\n",
      " [   4    0   86   52    0    0    2]\n",
      " [   1    0   33    0   33    0    0]\n",
      " [   0    0    6    0    0    1    0]\n",
      " [   4    1   34    2    1    0   33]]\n",
      "\n",
      "Accuracy: 0.8382\n",
      "\n",
      "Class Hyperthyroid: Average Precision = 0.5642\n",
      "Class Hypothyroid: Average Precision = 0.6319\n",
      "Class Negative: Average Precision = 0.9186\n",
      "Class Non-thyroidal Illness: Average Precision = 0.5498\n",
      "Class Replacement Therapy: Average Precision = 0.5719\n",
      "Class Treatment Effect: Average Precision = 0.2493\n",
      "Class Binding Protein: Average Precision = 0.4581\n",
      "Micro-average Precision Score: 0.8499\n"
     ]
    }
   ],
   "source": [
    "from sklearn.neighbors import KNeighborsClassifier\n",
    "from sklearn.utils.class_weight import compute_sample_weight\n",
    "from sklearn.preprocessing import label_binarize, StandardScaler\n",
    "from sklearn.metrics import confusion_matrix, accuracy_score, average_precision_score\n",
    "\n",
    "# Mapping the Encoded Target values to Different Classes of Thyroid Conditions\n",
    "target_map ={'Hyperthyroid':0, 'Hypothyroid':1, 'Negative':2, 'Non-thyroidal Illness':3, 'Replacement Therapy':4, 'Treatment Effect':5, 'Binding Protein':6}\n",
    "y_train_encoded = y_train.map(target_map)\n",
    "y_test_encoded = y_test.map(target_map)\n",
    "\n",
    "# Standardize Features (KNN also benefits from normalized data)\n",
    "scaler = StandardScaler()\n",
    "x_train = scaler.fit_transform(x_train)\n",
    "x_test = scaler.transform(x_test)\n",
    "\n",
    "# Compute sample weights to balance the classes\n",
    "sample_weights = compute_sample_weight(class_weight='balanced', y=y_train_encoded)\n",
    "\n",
    "# Train K-Nearest Neighbors (KNN) Classifier\n",
    "knn = KNeighborsClassifier(n_neighbors=5) \n",
    "knn.fit(x_train, y_train_encoded)\n",
    "\n",
    "# Making Predictions\n",
    "y_pred = knn.predict(x_test)\n",
    "y_score = knn.predict_proba(x_test)  # Get class probabilities\n",
    "\n",
    "# Binarize the target for multiclass precision\n",
    "y_test_binarized = label_binarize(y_test_encoded, classes=[0, 1, 2, 3, 4, 5, 6])\n",
    "\n",
    "# Evaluate Performance\n",
    "print(f'\\nConfusion Matrix:\\n{confusion_matrix(y_test_encoded, y_pred)}\\n')\n",
    "print(f'Accuracy: {accuracy_score(y_test_encoded, y_pred):.4f}\\n')\n",
    "\n",
    "# Compute Average Precision Score for each class\n",
    "average_precisions = []\n",
    "for i, class_label in enumerate(target_map.keys()):\n",
    "    if y_test_binarized[:, i].sum() > 0:  # Ensure at least one sample in the class\n",
    "        avg_precision = average_precision_score(y_test_binarized[:, i], y_score[:, i])\n",
    "    else:\n",
    "        avg_precision = 0  # Avoid errors in case of missing class\n",
    "    average_precisions.append(avg_precision)\n",
    "    print(f'Class {class_label}: Average Precision = {avg_precision:.4f}')\n",
    "\n",
    "# Micro-average Precision Score\n",
    "print(f\"Micro-average Precision Score: {average_precision_score(y_test_binarized, y_score, average='micro'):.4f}\")\n"
   ]
  },
  {
   "cell_type": "code",
   "execution_count": null,
   "metadata": {},
   "outputs": [],
   "source": []
  },
  {
   "cell_type": "code",
   "execution_count": null,
   "metadata": {},
   "outputs": [],
   "source": []
  }
 ],
 "metadata": {
  "kaggle": {
   "accelerator": "none",
   "dataSources": [
    {
     "datasetId": 2183570,
     "sourceId": 3770402,
     "sourceType": "datasetVersion"
    }
   ],
   "dockerImageVersionId": 30786,
   "isGpuEnabled": false,
   "isInternetEnabled": true,
   "language": "python",
   "sourceType": "notebook"
  },
  "kernelspec": {
   "display_name": "Python 3 (ipykernel)",
   "language": "python",
   "name": "python3"
  },
  "language_info": {
   "codemirror_mode": {
    "name": "ipython",
    "version": 3
   },
   "file_extension": ".py",
   "mimetype": "text/x-python",
   "name": "python",
   "nbconvert_exporter": "python",
   "pygments_lexer": "ipython3",
   "version": "3.12.2"
  }
 },
 "nbformat": 4,
 "nbformat_minor": 4
}
