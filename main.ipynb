{
 "cells": [
  {
   "cell_type": "code",
   "execution_count": 7,
   "metadata": {},
   "outputs": [],
   "source": [
    "from tensorflow.keras import optimizers\n",
    "from tensorflow.keras import applications\n",
    "from tensorflow.keras.models import Model\n",
    "from tensorflow.keras.layers import Flatten, Dense\n",
    "from tensorflow.keras.preprocessing.image import ImageDataGenerator\n"
   ]
  },
  {
   "cell_type": "code",
   "execution_count": 9,
   "metadata": {},
   "outputs": [],
   "source": [
    "\n",
    "train_data_dir = '/Users/nurajymnaukanova/Desktop/dataset thyroid/train'\n",
    "output_dir = '/Users/nurajymnaukanova/Desktop/outputst'\n",
    "\n",
    "# dimensions of the architecture\n",
    "img_width, img_height = 224, 224\n",
    "\n",
    "# number of channels for the architecture\n",
    "channels = 3\n",
    "\n",
    "# batch size\n",
    "batch_size = 10\n",
    "\n",
    "# learning rate\n",
    "learning_rate = 1e-4\n",
    "\n",
    "# class mode\n",
    "class_mode = 'categorical'\n",
    "\n",
    "# total number of classes\n",
    "total_classes = 3"
   ]
  },
  {
   "cell_type": "code",
   "execution_count": 10,
   "metadata": {},
   "outputs": [
    {
     "name": "stdout",
     "output_type": "stream",
     "text": [
      "Found 1930 images belonging to 3 classes.\n"
     ]
    }
   ],
   "source": [
    "model = applications.VGG16(include_top = False, weights = 'imagenet', classes = total_classes, input_shape = (img_width, img_height, channels))\n",
    "flat = Flatten()(model.layers[-1].output)\n",
    "output = Dense(total_classes, activation = \"softmax\")(flat)\n",
    "vgg16 = Model(inputs = model.inputs, outputs = output)\n",
    "\n",
    "# augment the data\n",
    "datagen = ImageDataGenerator(rescale = 1. / 255,\n",
    "\t\t\t\t\t\t\t\trotation_range = 20,\n",
    "\t\t\t\t\t\t\t\tshear_range = 0.2,\n",
    "\t\t\t\t\t\t\t\tzoom_range = 0.2,\n",
    "\t\t\t\t\t\t\t\thorizontal_flip = True,\n",
    "\t\t\t\t\t\t\t\tvertical_flip = True)\n",
    "\n",
    "training_set = datagen.flow_from_directory(\n",
    "\t\t\t\t\t\t\t\ttrain_data_dir,\n",
    "\t\t\t\t\t\t\t\ttarget_size = (img_width, img_height),\n",
    "\t\t\t\t\t\t\t\tbatch_size = batch_size,\n",
    "\t\t\t\t\t\t\t\tclass_mode = class_mode,\n",
    "\t\t\t\t\t\t\t\tsave_to_dir = output_dir,\n",
    "\t\t\t\t\t\t\t\tsave_prefix = 'Aug',\n",
    "\t\t\t\t\t\t\t\tseed = 42,\n",
    "\t\t\t\t\t\t\t\tshuffle = True)"
   ]
  },
  {
   "cell_type": "code",
   "execution_count": 12,
   "metadata": {},
   "outputs": [],
   "source": [
    "vgg16.compile(loss='categorical_crossentropy',\n",
    "              optimizer=optimizers.SGD(learning_rate=0.0001),  # Update here\n",
    "              metrics=['accuracy'])"
   ]
  }
 ],
 "metadata": {
  "kernelspec": {
   "display_name": "Python 3",
   "language": "python",
   "name": "python3"
  },
  "language_info": {
   "codemirror_mode": {
    "name": "ipython",
    "version": 3
   },
   "file_extension": ".py",
   "mimetype": "text/x-python",
   "name": "python",
   "nbconvert_exporter": "python",
   "pygments_lexer": "ipython3",
   "version": "3.12.2"
  }
 },
 "nbformat": 4,
 "nbformat_minor": 2
}
